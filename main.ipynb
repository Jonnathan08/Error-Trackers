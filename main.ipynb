{
 "cells": [
  {
   "cell_type": "code",
   "execution_count": null,
   "metadata": {},
   "outputs": [],
   "source": [
    "#!pip install sharepy\n",
    "import sharepy \n",
    "import os\n",
    "#System variables\n",
    "MAIL_NUB = os.environ.get('MAIL_NUB')\n",
    "PASS_MAIL_NUB = os.environ.get('PASS_MAIL_NUB')\n",
    "s = sharepy.connect(\"nubsieteocho.sharepoint.com\", MAIL_NUB, PASS_MAIL_NUB)"
   ]
  },
  {
   "cell_type": "code",
   "execution_count": null,
   "metadata": {},
   "outputs": [],
   "source": [
    "import smtplib\n",
    "import pandas as pd\n",
    "from datetime import datetime, timedelta\n",
    "from pandas import Timestamp\n",
    "import excel_formating\n",
    "\n",
    "from email import encoders\n",
    "from os.path import basename\n",
    "from email.mime.text import MIMEText\n",
    "from email.mime.multipart import MIMEMultipart\n",
    "from email.mime.base import MIMEBase\n",
    "from string import printable"
   ]
  },
  {
   "cell_type": "code",
   "execution_count": null,
   "metadata": {},
   "outputs": [],
   "source": [
    "#import data with the users mails\n",
    "p = s.getfile(\"https://nubsieteocho.sharepoint.com/sites/ODAOPS/Shared%20Documents/General/CAB%20Trackers/Coverage%20Advisor%20Tracker%20OFICIAL.xlsx\"\\\n",
    "    ,filename = 'Coverage Advisor Tracker OFICIAL.xlsx')\n",
    "ca = pd.read_excel ('Coverage Advisor Tracker OFICIAL.xlsx')\n",
    "ca.dropna(axis=0, subset=['Account'], inplace=True)\n",
    "ca.drop(list(ca[ca['Account']==0].index), axis=0, inplace=True)\n",
    "ca.dropna(axis=0, subset=['Request ID'], inplace=True)"
   ]
  },
  {
   "cell_type": "code",
   "execution_count": null,
   "metadata": {},
   "outputs": [],
   "source": [
    "m = s.getfile(\"https://nubsieteocho.sharepoint.com/sites/ODAOPS/Shared%20Documents/General/coverage_mails.xlsx\"\\\n",
    "    ,filename = 'coverage_mails.xlsx')\n",
    "mail = pd.read_excel('coverage_mails.xlsx')"
   ]
  },
  {
   "cell_type": "code",
   "execution_count": null,
   "metadata": {},
   "outputs": [],
   "source": [
    "#SMTP Mail variables\n",
    "today = datetime.strftime(datetime.today(), '%m-%d-%Y')\n",
    "myMail = 'testNub78@outlook.com'\n",
    "password = 'EasyP4ssword78'\n",
    "subjectEmail = 'Coverage error report'\n",
    "\n",
    "msg1 = \"\"\"<h1>Hola</h1>\n",
    "        <h3>Por favor revisa el archivo adjunto para encontrar el detalle de los errores</h3>\n",
    "        <h3>Asegurate de que tus registros esten corregidos y al d&iacute;a</h3>\"\"\""
   ]
  },
  {
   "cell_type": "code",
   "execution_count": null,
   "metadata": {},
   "outputs": [],
   "source": [
    "\n",
    "\n",
    "def format_date_column(serie):\n",
    "    format_date = []\n",
    "    for index, value in serie.iteritems():\n",
    "        if type(value) != datetime and type(value) != Timestamp:  \n",
    "            if pd.isnull(value) or value != value:\n",
    "                #Fechas vacias\n",
    "                value = datetime.strptime('2030-2-2 00:00:00', '%Y-%m-%d %H:%M:%S')\n",
    "                format_date.append(value)\n",
    "            else: \n",
    "                #Error de formato\n",
    "                value = datetime.strptime('2050-2-2 00:00:00', '%Y-%m-%d %H:%M:%S')\n",
    "                format_date.append(value)\n",
    "        else:\n",
    "            #Fechas normales\n",
    "            value = datetime.strptime(str(value), '%Y-%m-%d %H:%M:%S')\n",
    "            format_date.append(value)\n",
    "    \n",
    "    return format_date\n",
    "    \n"
   ]
  },
  {
   "cell_type": "code",
   "execution_count": null,
   "metadata": {},
   "outputs": [],
   "source": [
    "# Request Type\n",
    "\n",
    "request_type = ca[['Request ID', 'Request Type']].copy()\n",
    "\n",
    "for i, row in request_type.iterrows():\n",
    "    if pd.isnull(row['Request Type']) == True:\n",
    "        request_type['Request Type'].loc[i] = 'Request Type Empty'\n",
    "    else:\n",
    "        request_type['Request Type'].loc[i] = None\n",
    "\n",
    "request_type.dropna(axis=0, subset=['Request Type'], inplace=True)\n"
   ]
  },
  {
   "cell_type": "code",
   "execution_count": null,
   "metadata": {},
   "outputs": [],
   "source": [
    "# Join Call\n",
    "\n",
    "join_call = ca[['Request ID', 'Join Call']].copy()\n",
    "\n",
    "for i, row in join_call.iterrows():\n",
    "    if pd.isnull(row['Join Call']) == True:\n",
    "        join_call['Join Call'].loc[i] = 'Join Call Empty'\n",
    "    else:\n",
    "        join_call['Join Call'].loc[i] = None\n",
    "\n",
    "join_call.dropna(axis=0, subset=['Join Call'], inplace=True)\n"
   ]
  },
  {
   "cell_type": "code",
   "execution_count": null,
   "metadata": {},
   "outputs": [],
   "source": [
    "# Upcoming Renewal\n",
    "upcoming_renewal = ca[['Request ID', 'Upcoming Renewal']].copy()\n",
    "\n",
    "for index, row in upcoming_renewal.iterrows():\n",
    "    if pd.isna(row['Upcoming Renewal']) == True:\n",
    "        upcoming_renewal['Upcoming Renewal'].loc[index] = 'Empty Value'\n",
    "    elif len(row['Upcoming Renewal']) > 6:\n",
    "        upcoming_renewal['Upcoming Renewal'].loc[index] = 'Value with space'\n",
    "    else:    \n",
    "        upcoming_renewal['Upcoming Renewal'].loc[index] = None\n",
    "\n",
    "upcoming_renewal.dropna(axis=0, subset=['Upcoming Renewal'], inplace=True)\n"
   ]
  },
  {
   "cell_type": "code",
   "execution_count": null,
   "metadata": {},
   "outputs": [],
   "source": [
    "# Date Received\n",
    "\n",
    "date_received = ca[['Request ID', 'Date received', 'PAR Requested']].copy()\n",
    "date_received['Date received'] = format_date_column(date_received['Date received'])\n",
    "date_received['PAR Requested'] = format_date_column(date_received['PAR Requested'])\n",
    "\n",
    "for index, row in date_received.iterrows():\n",
    "    if row['Date received'] == Timestamp('2030-2-2 00:00:00'):\n",
    "        date_received['Date received'].loc[index] = 'Empty Date'\n",
    "    elif row['Date received'] == Timestamp('2050-2-2 00:00:00'):\n",
    "        date_received['Date received'].loc[index] = 'Format Error'\n",
    "    elif row['Date received'] < Timestamp('2021-10-15 00:00:00'):\n",
    "        date_received['Date received'].loc[index] = '15/oct error'\n",
    "    elif row['Date received'] > row['PAR Requested']:\n",
    "        if row['PAR Requested'] != (Timestamp('2030-2-2 00:00:00') or Timestamp('2050-2-2 00:00:00')):\n",
    "            date_received['Date received'].loc[index] = 'Date greater than PAR requested'\n",
    "        else:\n",
    "            date_received['Date received'].loc[index] = None\n",
    "    else:\n",
    "        date_received['Date received'].loc[index] = None\n",
    "\n",
    "date_received.dropna(axis=0, subset=['Date received'], inplace=True)\n",
    "date_received.drop(axis=1, columns=['PAR Requested'], inplace=True)"
   ]
  },
  {
   "cell_type": "code",
   "execution_count": null,
   "metadata": {},
   "outputs": [],
   "source": [
    "date_received"
   ]
  },
  {
   "cell_type": "code",
   "execution_count": null,
   "metadata": {},
   "outputs": [],
   "source": [
    "# Coverage Advisor\n",
    "\n",
    "cov_adv = ca[['Request ID', 'Coverage Advisor']].copy()\n",
    "\n",
    "for index, row in cov_adv.iterrows():\n",
    "    if pd.isnull(row['Coverage Advisor']) == True:\n",
    "        cov_adv['Coverage Advisor'].loc[index] = 'Empty Name'\n",
    "    elif set(row['Coverage Advisor']).difference(printable):\n",
    "        cov_adv['Coverage Advisor'].loc[index] = 'Special Caracter in Name'\n",
    "    else:\n",
    "        cov_adv['Coverage Advisor'].loc[index] = None\n",
    "\n",
    "cov_adv.dropna(axis=0, subset=['Coverage Advisor'], inplace=True)"
   ]
  },
  {
   "cell_type": "code",
   "execution_count": null,
   "metadata": {},
   "outputs": [],
   "source": [
    "# PAR Requested\n",
    "\n",
    "PAR_req = ca[['Request ID', 'Date received', 'PAR Requested']].copy()\n",
    "PAR_req['Date received'] = format_date_column(PAR_req['Date received'])\n",
    "PAR_req['PAR Requested'] = format_date_column(PAR_req['PAR Requested'])\n",
    "\n",
    "for index, row in PAR_req.iterrows():\n",
    "    if row['PAR Requested'] == Timestamp('2030-2-2 00:00:00'):\n",
    "        PAR_req['PAR Requested'].loc[index] = 'Empty Date'\n",
    "    elif row['PAR Requested'] == Timestamp('2050-2-2 00:00:00'):\n",
    "        PAR_req['PAR Requested'].loc[index] = 'Format Error'\n",
    "    elif row['Date received'] > row['PAR Requested']:\n",
    "        if row['Date received'] != (Timestamp('2030-2-2 00:00:00') or Timestamp('2050-2-2 00:00:00')):\n",
    "            PAR_req['PAR Requested'].loc[index] = 'Date Received greater than PAR requested'\n",
    "        else:\n",
    "            PAR_req['PAR Requested'].loc[index] = None\n",
    "    else:\n",
    "        PAR_req['PAR Requested'].loc[index] = None\n",
    "\n",
    "PAR_req.dropna(axis=0, subset=['PAR Requested'], inplace=True)\n",
    "PAR_req.drop(axis=1, columns=['Date received'], inplace=True)"
   ]
  },
  {
   "cell_type": "code",
   "execution_count": null,
   "metadata": {},
   "outputs": [],
   "source": [
    "# Date 1st contact\n",
    "d_f_contact = ca[['Request ID', 'Date received', 'Date First Contact']].copy()\n",
    "d_f_contact['Date received'] = format_date_column(d_f_contact['Date received'])\n",
    "d_f_contact['Date First Contact'] = format_date_column(d_f_contact['Date First Contact'])\n",
    "\n",
    "for index, row in d_f_contact.iterrows():\n",
    "    if row['Date First Contact'] == Timestamp('2030-2-2 00:00:00'):\n",
    "        d_f_contact['Date First Contact'].loc[index] = None\n",
    "    elif row['Date First Contact'] == Timestamp('2050-2-2 00:00:00'):\n",
    "        d_f_contact['Date First Contact'].loc[index] = 'Format Error'\n",
    "    elif row['Date received'] > row['Date First Contact']:\n",
    "        if row['Date received'] != (Timestamp('2030-2-2 00:00:00') or Timestamp('2050-2-2 00:00:00')):\n",
    "            d_f_contact['Date First Contact'].loc[index] = 'Date Received greater than First Contact'\n",
    "        else:\n",
    "            d_f_contact['Date First Contact'].loc[index] = None\n",
    "    else:\n",
    "        d_f_contact['Date First Contact'].loc[index] = None\n",
    "\n",
    "d_f_contact.dropna(axis=0, subset=['Date First Contact'], inplace=True)\n",
    "d_f_contact.drop(axis=1, columns=['Date received'], inplace=True)"
   ]
  },
  {
   "cell_type": "code",
   "execution_count": null,
   "metadata": {},
   "outputs": [],
   "source": [
    "# PAR Received\n",
    "\n",
    "PAR_recev = ca[['Request ID', 'PAR Requested', 'PAR Received']].copy()\n",
    "PAR_recev['PAR Requested'] = format_date_column(PAR_recev['PAR Requested'])\n",
    "PAR_recev['PAR Received'] = format_date_column(PAR_recev['PAR Received'])\n",
    "\n",
    "for index, row in PAR_recev.iterrows():\n",
    "    if row['PAR Received'] == Timestamp('2030-2-2 00:00:00'):\n",
    "        PAR_recev['PAR Received'].loc[index] = None\n",
    "    elif row['PAR Received'] == Timestamp('2050-2-2 00:00:00'):\n",
    "        PAR_recev['PAR Received'].loc[index] = 'Format Error'\n",
    "    elif row['PAR Requested'] > row['PAR Received']:\n",
    "        if row['PAR Requested'] != (Timestamp('2030-2-2 00:00:00') or Timestamp('2050-2-2 00:00:00')):\n",
    "            PAR_recev['PAR Received'].loc[index] = 'PAR Requested greater than PAR received'\n",
    "        else:\n",
    "            PAR_recev['PAR Received'].loc[index] = None\n",
    "    else:\n",
    "        PAR_recev['PAR Received'].loc[index] = None\n",
    "\n",
    "PAR_recev.dropna(axis=0, subset=['PAR Received'], inplace=True)\n",
    "PAR_recev.drop(axis=1, columns=['PAR Requested'], inplace=True)"
   ]
  },
  {
   "cell_type": "code",
   "execution_count": null,
   "metadata": {},
   "outputs": [],
   "source": [
    "# Date Analysis\n",
    "\n",
    "dat_nalys = ca[['Request ID', 'PAR Received', 'Date Analysis']].copy()\n",
    "dat_nalys['Date Analysis'] = format_date_column(dat_nalys['Date Analysis'])\n",
    "dat_nalys['PAR Received'] = format_date_column(dat_nalys['PAR Received'])\n",
    "\n",
    "for index, row in dat_nalys.iterrows():\n",
    "    if row['Date Analysis'] == Timestamp('2030-2-2 00:00:00'):\n",
    "        dat_nalys['Date Analysis'].loc[index] = None\n",
    "    elif row['Date Analysis'] == Timestamp('2050-2-2 00:00:00'):\n",
    "        dat_nalys['Date Analysis'].loc[index] = 'Format Error'\n",
    "    elif row['PAR Received'] > row['Date Analysis']:\n",
    "        if row['PAR Received'] != (Timestamp('2030-2-2 00:00:00') or Timestamp('2050-2-2 00:00:00')):\n",
    "            dat_nalys['Date Analysis'].loc[index] = 'PAR received greater than Date Analysis'\n",
    "        else:\n",
    "            dat_nalys['Date Analysis'].loc[index] = None\n",
    "    else:\n",
    "        dat_nalys['Date Analysis'].loc[index] = None\n",
    "\n",
    "dat_nalys.dropna(axis=0, subset=['Date Analysis'], inplace=True)\n",
    "dat_nalys.drop(axis=1, columns=['PAR Received'], inplace=True)"
   ]
  },
  {
   "cell_type": "code",
   "execution_count": null,
   "metadata": {},
   "outputs": [],
   "source": [
    "# Pre Readout Effort\n",
    "\n",
    "pre_reffor = ca[['Request ID', 'Pre-Readout Effort (min)', 'Account Stage']].copy()\n",
    "\n",
    "for j, row in pre_reffor.iterrows():\n",
    "    if pd.isna(row['Pre-Readout Effort (min)']) == True:\n",
    "        if pd.isna(row['Account Stage']) == False:\n",
    "            if row['Account Stage'][0] == 'F':\n",
    "                pre_reffor['Pre-Readout Effort (min)'].loc[j] = 'empty value'\n",
    "    elif row['Pre-Readout Effort (min)'] > 180:\n",
    "        pre_reffor['Pre-Readout Effort (min)'].loc[j] = 'value above 180'\n",
    "    else:\n",
    "        pre_reffor['Pre-Readout Effort (min)'].loc[j] = None\n",
    "\n",
    "pre_reffor.dropna(axis=0, subset=['Pre-Readout Effort (min)'], inplace=True)\n",
    "pre_reffor.drop(axis=1, columns=['Account Stage'], inplace=True)"
   ]
  },
  {
   "cell_type": "code",
   "execution_count": null,
   "metadata": {},
   "outputs": [],
   "source": [
    "# Date Inite Sent\n",
    "\n",
    "date_init_s = ca[['Request ID', 'Date First Contact', 'Date Invite Sent']].copy()\n",
    "date_init_s['Date Invite Sent'] = format_date_column(date_init_s['Date Invite Sent'])\n",
    "date_init_s['Date First Contact'] = format_date_column(date_init_s['Date First Contact'])\n",
    "\n",
    "for index, row in date_init_s.iterrows():\n",
    "    if row['Date Invite Sent'] == Timestamp('2030-2-2 00:00:00'):\n",
    "        date_init_s['Date Invite Sent'].loc[index] = None\n",
    "    elif row['Date Invite Sent'] == Timestamp('2050-2-2 00:00:00'):\n",
    "        date_init_s['Date Invite Sent'].loc[index] = 'Format Error'\n",
    "    elif row['Date First Contact'] > row['Date Invite Sent']:\n",
    "        if row['Date First Contact'] != (Timestamp('2030-2-2 00:00:00') or Timestamp('2050-2-2 00:00:00')):\n",
    "            date_init_s['Date Invite Sent'].loc[index] = 'Date First Contact greater than Date Invite Sent'\n",
    "        else:\n",
    "            date_init_s['Date Invite Sent'].loc[index] = None\n",
    "    else:\n",
    "        date_init_s['Date Invite Sent'].loc[index] = None\n",
    "\n",
    "date_init_s.dropna(axis=0, subset=['Date Invite Sent'], inplace=True)\n",
    "date_init_s.drop(axis=1, columns=['Date First Contact'], inplace=True)"
   ]
  },
  {
   "cell_type": "code",
   "execution_count": null,
   "metadata": {},
   "outputs": [],
   "source": [
    "# Date Schedule\n",
    "\n",
    "date_sche = ca[['Request ID', 'Date Invite Sent', 'Date Scheduled', 'Date Readout Done']].copy()\n",
    "date_sche['Date Invite Sent'] = format_date_column(date_sche['Date Invite Sent'])\n",
    "date_sche['Date Scheduled'] = format_date_column(date_sche['Date Scheduled'])\n",
    "date_sche['Date Readout Done'] = format_date_column(date_sche['Date Readout Done'])\n",
    "\n",
    "for index, row in date_sche.iterrows():\n",
    "    if row['Date Scheduled'] == Timestamp('2030-2-2 00:00:00'):\n",
    "        date_sche['Date Scheduled'].loc[index] = None\n",
    "    elif row['Date Scheduled'] == Timestamp('2050-2-2 00:00:00'):\n",
    "        date_sche['Date Scheduled'].loc[index] = 'Format Error'\n",
    "    elif row['Date Scheduled'] != row['Date Readout Done']:\n",
    "        if row['Date Readout Done'] != (Timestamp('2030-2-2 00:00:00') or Timestamp('2050-2-2 00:00:00')):\n",
    "            date_sche['Date Scheduled'].loc[index] = 'Scheduled and Readout Done are different'\n",
    "        else:\n",
    "            date_sche['Date Scheduled'].loc[index] = None\n",
    "    elif row['Date Invite Sent'] > row['Date Scheduled']:\n",
    "        if row['Date Invite Sent'] != (Timestamp('2030-2-2 00:00:00') or Timestamp('2050-2-2 00:00:00')):\n",
    "            date_sche['Date Scheduled'].loc[index] = 'Invite Sent greater than Scheduled'\n",
    "        else:\n",
    "            date_sche['Date Scheduled'].loc[index] = None\n",
    "    else:\n",
    "        date_sche['Date Scheduled'].loc[index] = None\n",
    "\n",
    "date_sche.dropna(axis=0, subset=['Date Scheduled'], inplace=True)\n",
    "date_sche.drop(axis=1, columns=['Date Invite Sent'], inplace=True)\n",
    "date_sche.drop(axis=1, columns=['Date Readout Done'], inplace=True)"
   ]
  },
  {
   "cell_type": "code",
   "execution_count": null,
   "metadata": {},
   "outputs": [],
   "source": [
    "# Date Readout Done\n",
    "\n",
    "date_red_don = ca[['Request ID', 'Date Scheduled', 'Date Readout Done', 'Status']].copy()\n",
    "date_red_don['Date Scheduled'] = format_date_column(date_red_don['Date Scheduled'])\n",
    "date_red_don['Date Readout Done'] = format_date_column(date_red_don['Date Readout Done'])\n",
    "\n",
    "for index, row in date_red_don.iterrows():\n",
    "    if row['Date Readout Done'] == Timestamp('2030-2-2 00:00:00'):\n",
    "        if pd.isnull(row['Status']) == False:\n",
    "            if row['Status'][0] != 'F':\n",
    "                date_red_don['Date Readout Done'].loc[index] = 'Value mustnt be empty'\n",
    "            else:\n",
    "                date_red_don['Date Readout Done'].loc[index] = None\n",
    "        else:\n",
    "            date_red_don['Date Readout Done'].loc[index] = None\n",
    "    elif row['Date Scheduled'] == Timestamp('2050-2-2 00:00:00'):\n",
    "        date_red_don['Date Readout Done'].loc[index] = 'Format Error'\n",
    "    elif row['Date Scheduled'] != row['Date Readout Done']:\n",
    "        if row['Date Scheduled'] != (Timestamp('2030-2-2 00:00:00') or Timestamp('2050-2-2 00:00:00')):\n",
    "            date_red_don['Date Readout Done'].loc[index] = 'Scheduled and Readout Done are different'\n",
    "        else:\n",
    "            date_red_don['Date Readout Done'].loc[index] = None\n",
    "    else:\n",
    "        date_red_don['Date Readout Done'].loc[index] = None\n",
    "\n",
    "date_red_don.dropna(axis=0, subset=['Date Readout Done'], inplace=True)\n",
    "date_red_don.drop(axis=1, columns=['Date Scheduled'], inplace=True)\n",
    "date_red_don.drop(axis=1, columns=['Status'], inplace=True)"
   ]
  },
  {
   "cell_type": "code",
   "execution_count": null,
   "metadata": {},
   "outputs": [],
   "source": [
    "# Readout Duration (min)\n",
    "\n",
    "read_min = ca[['Request ID', 'Date Readout Done', 'Readout Duration (min)']].copy()\n",
    "\n",
    "for j, row in read_min.iterrows():\n",
    "    if pd.isnull(row['Date Readout Done']) == False and pd.isnull(row['Readout Duration (min)']) == True:\n",
    "        read_min['Readout Duration (min)'].loc[j] = 'Value mustnt be empty'\n",
    "    elif row['Readout Duration (min)'] > 180:\n",
    "        read_min['Readout Duration (min)'].loc[j] = 'Value to high'\n",
    "    else:\n",
    "        read_min['Readout Duration (min)'].loc[j] = None\n",
    "\n",
    "read_min.dropna(axis=0, subset=['Readout Duration (min)'], inplace=True)\n",
    "read_min.drop(axis=1, columns=['Date Readout Done'], inplace=True)"
   ]
  },
  {
   "cell_type": "code",
   "execution_count": null,
   "metadata": {},
   "outputs": [],
   "source": [
    "# Status\n",
    "\n",
    "c_status = ca[['Request ID', 'Account Stage', 'Status']].copy()\n",
    "\n",
    "for j, row in c_status.iterrows():\n",
    "    if pd.isnull(row['Account Stage']) == False and pd.isnull(row['Status']) == True:\n",
    "        c_status['Status'].loc[j] = 'must fill this cell'\n",
    "    else:\n",
    "        c_status['Status'].loc[j] = None\n",
    "\n",
    "c_status.dropna(axis=0, subset=['Status'], inplace=True)\n",
    "c_status.drop(axis=1, columns=['Account Stage'], inplace=True)"
   ]
  },
  {
   "cell_type": "code",
   "execution_count": null,
   "metadata": {},
   "outputs": [],
   "source": [
    "# Delivery Type\n",
    "\n",
    "del_type = ca[['Request ID', 'Date Readout Done', 'Delivery Type']].copy()\n",
    "\n",
    "for id, row in del_type.iterrows():\n",
    "    if pd.isnull(row['Delivery Type']) == True:\n",
    "        del_type['Delivery Type'].loc[id] = 'Empty value'\n",
    "    elif pd.isna(row['Date Readout Done']) == True and row['Delivery Type'] != 'Not presented':\n",
    "        del_type['Delivery Type'].loc[id] = 'should be: Not Presented'\n",
    "    else:\n",
    "        del_type['Delivery Type'].loc[id] = None\n",
    "\n",
    "del_type.dropna(axis=0, subset=['Delivery Type'], inplace=True)\n",
    "del_type.drop(axis=1, columns=['Date Readout Done'], inplace=True)    "
   ]
  },
  {
   "cell_type": "code",
   "execution_count": null,
   "metadata": {},
   "outputs": [],
   "source": [
    "# Reason Declined\n",
    "\n",
    "reason_decl = ca[['Request ID', 'Status', 'Reason Declined']].copy()\n",
    "\n",
    "for index, row in reason_decl.iterrows():\n",
    "    if pd.isnull(row['Status']) == True:\n",
    "        reason_decl['Reason Declined'].loc[index] = None\n",
    "    elif row['Status'][2] == 'D' and pd.isnull(row['Reason Declined']) == True:\n",
    "        reason_decl['Reason Declined'].loc[index] = 'Empty Value'\n",
    "    else:\n",
    "        reason_decl['Reason Declined'].loc[index] = None\n",
    "\n",
    "reason_decl.dropna(axis=0, subset=['Reason Declined'], inplace=True)\n",
    "reason_decl.drop(axis=1, columns=['Status'], inplace=True) \n"
   ]
  },
  {
   "cell_type": "code",
   "execution_count": null,
   "metadata": {},
   "outputs": [],
   "source": [
    "# Reason Declined Lvl 2\n",
    "\n",
    "reason_decl2 = ca[['Request ID', 'Reason Declined', 'Reason Declined Lvl 2']].copy()\n",
    "\n",
    "for index, row in reason_decl2.iterrows():\n",
    "    if pd.isnull(row['Reason Declined']) == False and pd.isnull(row['Reason Declined Lvl 2']) == True:\n",
    "        reason_decl2['Reason Declined Lvl 2'].loc[index] = 'Empty Value'\n",
    "    else:\n",
    "        reason_decl2['Reason Declined Lvl 2'].loc[index] = None\n",
    "\n",
    "reason_decl2.dropna(axis=0, subset=['Reason Declined Lvl 2'], inplace=True)\n",
    "reason_decl2.drop(axis=1, columns=['Reason Declined'], inplace=True) "
   ]
  },
  {
   "cell_type": "code",
   "execution_count": null,
   "metadata": {},
   "outputs": [],
   "source": [
    "# Reason On Hold and Days on Hold\n",
    "\n",
    "reas_hold = ca[['Request ID', 'Reason On Hold', 'Days on Hold']].copy()\n",
    "\n",
    "for index, row in reas_hold.iterrows():\n",
    "    if pd.isna(row['Reason On Hold']) == True and pd.isna(row['Days on Hold']) == False:\n",
    "        reas_hold['Reason On Hold'].loc[index] = 'Empty Value'\n",
    "        reas_hold['Days on Hold'].loc[index] = None\n",
    "    elif pd.isna(row['Reason On Hold']) == False and pd.isna(row['Days on Hold']) == True:\n",
    "        reas_hold['Days on Hold'].loc[index] = 'Empty Value'\n",
    "        reas_hold['Reason On Hold'].loc[index] = None\n",
    "    else:\n",
    "        reas_hold['Reason On Hold'].loc[index] = None\n",
    "        reas_hold['Days on Hold'].loc[index] = None\n",
    "\n",
    "reas_hold.dropna(axis=0, how='all', subset=['Reason On Hold', 'Days on Hold'], inplace=True) "
   ]
  },
  {
   "cell_type": "code",
   "execution_count": 102,
   "metadata": {},
   "outputs": [
    {
     "ename": "KeyError",
     "evalue": "'Miss Attact Opportunity'",
     "output_type": "error",
     "traceback": [
      "\u001b[1;31m---------------------------------------------------------------------------\u001b[0m",
      "\u001b[1;31mKeyError\u001b[0m                                  Traceback (most recent call last)",
      "File \u001b[1;32m~\\AppData\\Local\\Programs\\Python\\Python310\\lib\\site-packages\\pandas\\core\\indexes\\base.py:3361\u001b[0m, in \u001b[0;36mIndex.get_loc\u001b[1;34m(self, key, method, tolerance)\u001b[0m\n\u001b[0;32m   <a href='file:///c%3A/Users/nedelgad/AppData/Local/Programs/Python/Python310/lib/site-packages/pandas/core/indexes/base.py?line=3359'>3360</a>\u001b[0m \u001b[39mtry\u001b[39;00m:\n\u001b[1;32m-> <a href='file:///c%3A/Users/nedelgad/AppData/Local/Programs/Python/Python310/lib/site-packages/pandas/core/indexes/base.py?line=3360'>3361</a>\u001b[0m     \u001b[39mreturn\u001b[39;00m \u001b[39mself\u001b[39;49m\u001b[39m.\u001b[39;49m_engine\u001b[39m.\u001b[39;49mget_loc(casted_key)\n\u001b[0;32m   <a href='file:///c%3A/Users/nedelgad/AppData/Local/Programs/Python/Python310/lib/site-packages/pandas/core/indexes/base.py?line=3361'>3362</a>\u001b[0m \u001b[39mexcept\u001b[39;00m \u001b[39mKeyError\u001b[39;00m \u001b[39mas\u001b[39;00m err:\n",
      "File \u001b[1;32m~\\AppData\\Local\\Programs\\Python\\Python310\\lib\\site-packages\\pandas\\_libs\\index.pyx:76\u001b[0m, in \u001b[0;36mpandas._libs.index.IndexEngine.get_loc\u001b[1;34m()\u001b[0m\n",
      "File \u001b[1;32m~\\AppData\\Local\\Programs\\Python\\Python310\\lib\\site-packages\\pandas\\_libs\\index.pyx:108\u001b[0m, in \u001b[0;36mpandas._libs.index.IndexEngine.get_loc\u001b[1;34m()\u001b[0m\n",
      "File \u001b[1;32mpandas\\_libs\\hashtable_class_helper.pxi:5198\u001b[0m, in \u001b[0;36mpandas._libs.hashtable.PyObjectHashTable.get_item\u001b[1;34m()\u001b[0m\n",
      "File \u001b[1;32mpandas\\_libs\\hashtable_class_helper.pxi:5206\u001b[0m, in \u001b[0;36mpandas._libs.hashtable.PyObjectHashTable.get_item\u001b[1;34m()\u001b[0m\n",
      "\u001b[1;31mKeyError\u001b[0m: 'Miss Attact Opportunity'",
      "\nThe above exception was the direct cause of the following exception:\n",
      "\u001b[1;31mKeyError\u001b[0m                                  Traceback (most recent call last)",
      "\u001b[1;32mc:\\Users\\nedelgad\\OneDrive - Nub78\\Documents\\Automation-Coverage\\main.ipynb Cell 27'\u001b[0m in \u001b[0;36m<module>\u001b[1;34m\u001b[0m\n\u001b[0;32m      <a href='vscode-notebook-cell:/c%3A/Users/nedelgad/OneDrive%20-%20Nub78/Documents/Automation-Coverage/main.ipynb#ch0000067?line=4'>5</a>\u001b[0m \u001b[39mfor\u001b[39;00m p, row \u001b[39min\u001b[39;00m oppty\u001b[39m.\u001b[39miterrows():\n\u001b[0;32m      <a href='vscode-notebook-cell:/c%3A/Users/nedelgad/OneDrive%20-%20Nub78/Documents/Automation-Coverage/main.ipynb#ch0000067?line=5'>6</a>\u001b[0m     \u001b[39mif\u001b[39;00m pd\u001b[39m.\u001b[39misna(row[\u001b[39m'\u001b[39m\u001b[39mAccount Stage\u001b[39m\u001b[39m'\u001b[39m]) \u001b[39m==\u001b[39m \u001b[39mFalse\u001b[39;00m:\n\u001b[1;32m----> <a href='vscode-notebook-cell:/c%3A/Users/nedelgad/OneDrive%20-%20Nub78/Documents/Automation-Coverage/main.ipynb#ch0000067?line=6'>7</a>\u001b[0m         \u001b[39mif\u001b[39;00m pd\u001b[39m.\u001b[39misna(row[\u001b[39m'\u001b[39;49m\u001b[39mMiss Attact Opportunity\u001b[39;49m\u001b[39m'\u001b[39;49m]) \u001b[39m==\u001b[39m \u001b[39mTrue\u001b[39;00m:\n\u001b[0;32m      <a href='vscode-notebook-cell:/c%3A/Users/nedelgad/OneDrive%20-%20Nub78/Documents/Automation-Coverage/main.ipynb#ch0000067?line=7'>8</a>\u001b[0m             oppty[\u001b[39m'\u001b[39m\u001b[39mMiss Attach Opportunity\u001b[39m\u001b[39m'\u001b[39m]\u001b[39m.\u001b[39mloc[p] \u001b[39m==\u001b[39m \u001b[39m'\u001b[39m\u001b[39mEmpty oppotunity\u001b[39m\u001b[39m'\u001b[39m\n\u001b[0;32m      <a href='vscode-notebook-cell:/c%3A/Users/nedelgad/OneDrive%20-%20Nub78/Documents/Automation-Coverage/main.ipynb#ch0000067?line=8'>9</a>\u001b[0m         \u001b[39mif\u001b[39;00m pd\u001b[39m.\u001b[39misna(row[\u001b[39m'\u001b[39m\u001b[39mExpired Opportunity\u001b[39m\u001b[39m'\u001b[39m]) \u001b[39m==\u001b[39m \u001b[39mTrue\u001b[39;00m:\n",
      "File \u001b[1;32m~\\AppData\\Local\\Programs\\Python\\Python310\\lib\\site-packages\\pandas\\core\\series.py:942\u001b[0m, in \u001b[0;36mSeries.__getitem__\u001b[1;34m(self, key)\u001b[0m\n\u001b[0;32m    <a href='file:///c%3A/Users/nedelgad/AppData/Local/Programs/Python/Python310/lib/site-packages/pandas/core/series.py?line=938'>939</a>\u001b[0m     \u001b[39mreturn\u001b[39;00m \u001b[39mself\u001b[39m\u001b[39m.\u001b[39m_values[key]\n\u001b[0;32m    <a href='file:///c%3A/Users/nedelgad/AppData/Local/Programs/Python/Python310/lib/site-packages/pandas/core/series.py?line=940'>941</a>\u001b[0m \u001b[39melif\u001b[39;00m key_is_scalar:\n\u001b[1;32m--> <a href='file:///c%3A/Users/nedelgad/AppData/Local/Programs/Python/Python310/lib/site-packages/pandas/core/series.py?line=941'>942</a>\u001b[0m     \u001b[39mreturn\u001b[39;00m \u001b[39mself\u001b[39;49m\u001b[39m.\u001b[39;49m_get_value(key)\n\u001b[0;32m    <a href='file:///c%3A/Users/nedelgad/AppData/Local/Programs/Python/Python310/lib/site-packages/pandas/core/series.py?line=943'>944</a>\u001b[0m \u001b[39mif\u001b[39;00m is_hashable(key):\n\u001b[0;32m    <a href='file:///c%3A/Users/nedelgad/AppData/Local/Programs/Python/Python310/lib/site-packages/pandas/core/series.py?line=944'>945</a>\u001b[0m     \u001b[39m# Otherwise index.get_value will raise InvalidIndexError\u001b[39;00m\n\u001b[0;32m    <a href='file:///c%3A/Users/nedelgad/AppData/Local/Programs/Python/Python310/lib/site-packages/pandas/core/series.py?line=945'>946</a>\u001b[0m     \u001b[39mtry\u001b[39;00m:\n\u001b[0;32m    <a href='file:///c%3A/Users/nedelgad/AppData/Local/Programs/Python/Python310/lib/site-packages/pandas/core/series.py?line=946'>947</a>\u001b[0m         \u001b[39m# For labels that don't resolve as scalars like tuples and frozensets\u001b[39;00m\n",
      "File \u001b[1;32m~\\AppData\\Local\\Programs\\Python\\Python310\\lib\\site-packages\\pandas\\core\\series.py:1051\u001b[0m, in \u001b[0;36mSeries._get_value\u001b[1;34m(self, label, takeable)\u001b[0m\n\u001b[0;32m   <a href='file:///c%3A/Users/nedelgad/AppData/Local/Programs/Python/Python310/lib/site-packages/pandas/core/series.py?line=1047'>1048</a>\u001b[0m     \u001b[39mreturn\u001b[39;00m \u001b[39mself\u001b[39m\u001b[39m.\u001b[39m_values[label]\n\u001b[0;32m   <a href='file:///c%3A/Users/nedelgad/AppData/Local/Programs/Python/Python310/lib/site-packages/pandas/core/series.py?line=1049'>1050</a>\u001b[0m \u001b[39m# Similar to Index.get_value, but we do not fall back to positional\u001b[39;00m\n\u001b[1;32m-> <a href='file:///c%3A/Users/nedelgad/AppData/Local/Programs/Python/Python310/lib/site-packages/pandas/core/series.py?line=1050'>1051</a>\u001b[0m loc \u001b[39m=\u001b[39m \u001b[39mself\u001b[39;49m\u001b[39m.\u001b[39;49mindex\u001b[39m.\u001b[39;49mget_loc(label)\n\u001b[0;32m   <a href='file:///c%3A/Users/nedelgad/AppData/Local/Programs/Python/Python310/lib/site-packages/pandas/core/series.py?line=1051'>1052</a>\u001b[0m \u001b[39mreturn\u001b[39;00m \u001b[39mself\u001b[39m\u001b[39m.\u001b[39mindex\u001b[39m.\u001b[39m_get_values_for_loc(\u001b[39mself\u001b[39m, loc, label)\n",
      "File \u001b[1;32m~\\AppData\\Local\\Programs\\Python\\Python310\\lib\\site-packages\\pandas\\core\\indexes\\base.py:3363\u001b[0m, in \u001b[0;36mIndex.get_loc\u001b[1;34m(self, key, method, tolerance)\u001b[0m\n\u001b[0;32m   <a href='file:///c%3A/Users/nedelgad/AppData/Local/Programs/Python/Python310/lib/site-packages/pandas/core/indexes/base.py?line=3360'>3361</a>\u001b[0m         \u001b[39mreturn\u001b[39;00m \u001b[39mself\u001b[39m\u001b[39m.\u001b[39m_engine\u001b[39m.\u001b[39mget_loc(casted_key)\n\u001b[0;32m   <a href='file:///c%3A/Users/nedelgad/AppData/Local/Programs/Python/Python310/lib/site-packages/pandas/core/indexes/base.py?line=3361'>3362</a>\u001b[0m     \u001b[39mexcept\u001b[39;00m \u001b[39mKeyError\u001b[39;00m \u001b[39mas\u001b[39;00m err:\n\u001b[1;32m-> <a href='file:///c%3A/Users/nedelgad/AppData/Local/Programs/Python/Python310/lib/site-packages/pandas/core/indexes/base.py?line=3362'>3363</a>\u001b[0m         \u001b[39mraise\u001b[39;00m \u001b[39mKeyError\u001b[39;00m(key) \u001b[39mfrom\u001b[39;00m \u001b[39merr\u001b[39;00m\n\u001b[0;32m   <a href='file:///c%3A/Users/nedelgad/AppData/Local/Programs/Python/Python310/lib/site-packages/pandas/core/indexes/base.py?line=3364'>3365</a>\u001b[0m \u001b[39mif\u001b[39;00m is_scalar(key) \u001b[39mand\u001b[39;00m isna(key) \u001b[39mand\u001b[39;00m \u001b[39mnot\u001b[39;00m \u001b[39mself\u001b[39m\u001b[39m.\u001b[39mhasnans:\n\u001b[0;32m   <a href='file:///c%3A/Users/nedelgad/AppData/Local/Programs/Python/Python310/lib/site-packages/pandas/core/indexes/base.py?line=3365'>3366</a>\u001b[0m     \u001b[39mraise\u001b[39;00m \u001b[39mKeyError\u001b[39;00m(key)\n",
      "\u001b[1;31mKeyError\u001b[0m: 'Miss Attact Opportunity'"
     ]
    }
   ],
   "source": [
    "# Miss Attach Opportunity // Expired Opportunity // LDoS Opportunity\n",
    "\n",
    "oppty= ca[['Request ID', 'Account Stage','Miss Attach Opportunity', 'Expired Opportunity', 'LDoS Opportunity']].copy()\n",
    "\n",
    "for p, row in oppty.iterrows():\n",
    "    if pd.isna(row['Account Stage']) == False:\n",
    "        if pd.isna(row['Miss Attach Opportunity']) == True:\n",
    "            oppty['Miss Attach Opportunity'].loc[p] == 'Empty oppotunity'\n",
    "        if pd.isna(row['Expired Opportunity']) == True:\n",
    "            oppty['Expired Opportunity'].loc[p] == 'Empty oppotunity'\n",
    "        if pd.isna(row['LDoS Opportunity']) == True:\n",
    "            oppty['LDoS Opportunity'].loc[p] == 'Empty oppotunity'\n"
   ]
  },
  {
   "cell_type": "code",
   "execution_count": 100,
   "metadata": {},
   "outputs": [
    {
     "data": {
      "text/html": [
       "<div>\n",
       "<style scoped>\n",
       "    .dataframe tbody tr th:only-of-type {\n",
       "        vertical-align: middle;\n",
       "    }\n",
       "\n",
       "    .dataframe tbody tr th {\n",
       "        vertical-align: top;\n",
       "    }\n",
       "\n",
       "    .dataframe thead th {\n",
       "        text-align: right;\n",
       "    }\n",
       "</style>\n",
       "<table border=\"1\" class=\"dataframe\">\n",
       "  <thead>\n",
       "    <tr style=\"text-align: right;\">\n",
       "      <th></th>\n",
       "      <th>Request ID</th>\n",
       "      <th>Account Stage</th>\n",
       "      <th>Miss Attach Opportunity</th>\n",
       "      <th>Expired Opportunity</th>\n",
       "      <th>LDoS Opportunity</th>\n",
       "    </tr>\n",
       "  </thead>\n",
       "  <tbody>\n",
       "    <tr>\n",
       "      <th>0</th>\n",
       "      <td>103120.0</td>\n",
       "      <td>F_Engagement_Outcome</td>\n",
       "      <td>68264.0</td>\n",
       "      <td>187731</td>\n",
       "      <td>100350</td>\n",
       "    </tr>\n",
       "    <tr>\n",
       "      <th>1</th>\n",
       "      <td>102639.0</td>\n",
       "      <td>F_Engagement_Outcome</td>\n",
       "      <td>13000.0</td>\n",
       "      <td>58775</td>\n",
       "      <td>96000</td>\n",
       "    </tr>\n",
       "    <tr>\n",
       "      <th>2</th>\n",
       "      <td>102732.0</td>\n",
       "      <td>F_Engagement_Outcome</td>\n",
       "      <td>66000.0</td>\n",
       "      <td>61000</td>\n",
       "      <td>5684</td>\n",
       "    </tr>\n",
       "    <tr>\n",
       "      <th>3</th>\n",
       "      <td>103048.0</td>\n",
       "      <td>F_Engagement_Outcome</td>\n",
       "      <td>3458.0</td>\n",
       "      <td>2292</td>\n",
       "      <td>66205</td>\n",
       "    </tr>\n",
       "    <tr>\n",
       "      <th>4</th>\n",
       "      <td>103106.0</td>\n",
       "      <td>F_Engagement_Outcome</td>\n",
       "      <td>6800.0</td>\n",
       "      <td>62861</td>\n",
       "      <td>61473</td>\n",
       "    </tr>\n",
       "    <tr>\n",
       "      <th>...</th>\n",
       "      <td>...</td>\n",
       "      <td>...</td>\n",
       "      <td>...</td>\n",
       "      <td>...</td>\n",
       "      <td>...</td>\n",
       "    </tr>\n",
       "    <tr>\n",
       "      <th>1564</th>\n",
       "      <td>115650.0</td>\n",
       "      <td>NaN</td>\n",
       "      <td>NaN</td>\n",
       "      <td>NaN</td>\n",
       "      <td>NaN</td>\n",
       "    </tr>\n",
       "    <tr>\n",
       "      <th>1565</th>\n",
       "      <td>116119.0</td>\n",
       "      <td>NaN</td>\n",
       "      <td>NaN</td>\n",
       "      <td>NaN</td>\n",
       "      <td>NaN</td>\n",
       "    </tr>\n",
       "    <tr>\n",
       "      <th>1566</th>\n",
       "      <td>111891.0</td>\n",
       "      <td>NaN</td>\n",
       "      <td>NaN</td>\n",
       "      <td>NaN</td>\n",
       "      <td>NaN</td>\n",
       "    </tr>\n",
       "    <tr>\n",
       "      <th>1567</th>\n",
       "      <td>115641.0</td>\n",
       "      <td>NaN</td>\n",
       "      <td>NaN</td>\n",
       "      <td>NaN</td>\n",
       "      <td>NaN</td>\n",
       "    </tr>\n",
       "    <tr>\n",
       "      <th>1568</th>\n",
       "      <td>114355.0</td>\n",
       "      <td>NaN</td>\n",
       "      <td>NaN</td>\n",
       "      <td>NaN</td>\n",
       "      <td>NaN</td>\n",
       "    </tr>\n",
       "  </tbody>\n",
       "</table>\n",
       "<p>1326 rows × 5 columns</p>\n",
       "</div>"
      ],
      "text/plain": [
       "      Request ID         Account Stage  Miss Attach Opportunity  \\\n",
       "0       103120.0  F_Engagement_Outcome                  68264.0   \n",
       "1       102639.0  F_Engagement_Outcome                  13000.0   \n",
       "2       102732.0  F_Engagement_Outcome                  66000.0   \n",
       "3       103048.0  F_Engagement_Outcome                   3458.0   \n",
       "4       103106.0  F_Engagement_Outcome                   6800.0   \n",
       "...          ...                   ...                      ...   \n",
       "1564    115650.0                   NaN                      NaN   \n",
       "1565    116119.0                   NaN                      NaN   \n",
       "1566    111891.0                   NaN                      NaN   \n",
       "1567    115641.0                   NaN                      NaN   \n",
       "1568    114355.0                   NaN                      NaN   \n",
       "\n",
       "     Expired Opportunity LDoS Opportunity  \n",
       "0                 187731           100350  \n",
       "1                  58775            96000  \n",
       "2                  61000             5684  \n",
       "3                   2292            66205  \n",
       "4                  62861            61473  \n",
       "...                  ...              ...  \n",
       "1564                 NaN              NaN  \n",
       "1565                 NaN              NaN  \n",
       "1566                 NaN              NaN  \n",
       "1567                 NaN              NaN  \n",
       "1568                 NaN              NaN  \n",
       "\n",
       "[1326 rows x 5 columns]"
      ]
     },
     "execution_count": 100,
     "metadata": {},
     "output_type": "execute_result"
    }
   ],
   "source": [
    "oppty"
   ]
  },
  {
   "cell_type": "code",
   "execution_count": null,
   "metadata": {},
   "outputs": [],
   "source": [
    "# Merging new tables\n",
    "new_table = request_type.merge(join_call, how='outer', left_on='Request ID', right_on='Request ID').merge(\n",
    "            upcoming_renewal, how='outer', left_on='Request ID', right_on='Request ID').merge(\n",
    "            date_received, how='outer', left_on='Request ID', right_on='Request ID').merge(\n",
    "            cov_adv, how='outer', left_on='Request ID', right_on='Request ID').merge(\n",
    "            PAR_req, how='outer', left_on='Request ID', right_on='Request ID').merge(\n",
    "            d_f_contact, how='outer', left_on='Request ID', right_on='Request ID').merge(\n",
    "            PAR_recev, how='outer', left_on='Request ID', right_on='Request ID').merge(\n",
    "            dat_nalys, how='outer', left_on='Request ID', right_on='Request ID').merge(\n",
    "            pre_reffor, how='outer', left_on='Request ID', right_on='Request ID').merge(\n",
    "            date_init_s, how='outer', left_on='Request ID', right_on='Request ID').merge(\n",
    "            date_sche, how='outer', left_on='Request ID', right_on='Request ID').merge(\n",
    "            date_red_don, how='outer', left_on='Request ID', right_on='Request ID').merge(\n",
    "            read_min, how='outer', left_on='Request ID', right_on='Request ID').merge(\n",
    "            c_status, how='outer', left_on='Request ID', right_on='Request ID').merge(\n",
    "            del_type, how='outer', left_on='Request ID', right_on='Request ID').merge(\n",
    "            reason_decl, how='outer', left_on='Request ID', right_on='Request ID').merge(\n",
    "            reason_decl2, how='outer', left_on='Request ID', right_on='Request ID').merge(\n",
    "            reas_hold, how='outer', left_on='Request ID', right_on='Request ID')\n"
   ]
  },
  {
   "cell_type": "code",
   "execution_count": null,
   "metadata": {},
   "outputs": [],
   "source": [
    "new_table.to_csv('t.csv')"
   ]
  },
  {
   "cell_type": "markdown",
   "metadata": {},
   "source": [
    "### Celdas vacías"
   ]
  },
  {
   "cell_type": "code",
   "execution_count": null,
   "metadata": {},
   "outputs": [],
   "source": [
    "#Recorrido de celdas buscando valores vacios en columnas G H I J  AF/AG/AH AM AN AO\n",
    "Empty  = ca[\n",
    "    (ca['Request Type'].isna() == True) | (ca['Join Call'].isna() == True)\n",
    "    | (ca['Sav ID'].isna() == True) | (ca['Upcoming Renewal'].isna() == True) | (ca['CA Name'].isna() == True) | (ca['Expired Opportunity'].isna() == True)\n",
    "    | (ca['LDoS Opportunity'].isna() == True) | (ca['Next steps'].isna() == True) | (ca['Link PAR IB Rep'].isna() == True)]\n",
    "\n",
    "Empty_Errors = Empty.copy()"
   ]
  },
  {
   "cell_type": "code",
   "execution_count": null,
   "metadata": {},
   "outputs": [],
   "source": [
    "Empty_Errors = Empty_Errors[['Request ID','Request Type','Join Call','Sav ID', 'Upcoming Renewal','CA Name', 'Expired Opportunity','LDoS Opportunity', 'Next steps','Link PAR IB Rep']]\n",
    "Empty_Errors = Empty_Errors.fillna('Empty')\n",
    "Empty_Errors = Empty_Errors.reset_index(drop=True)"
   ]
  },
  {
   "cell_type": "code",
   "execution_count": null,
   "metadata": {},
   "outputs": [],
   "source": [
    "for index, row in Empty_Errors.iterrows():\n",
    "    for loc, sheet in row.items():\n",
    "        if sheet != 'Empty':\n",
    "            if loc != 'Request ID':\n",
    "                Empty_Errors[loc].loc[index] = None"
   ]
  },
  {
   "cell_type": "code",
   "execution_count": null,
   "metadata": {},
   "outputs": [],
   "source": [
    "Empty_Errors.rename(columns={'Request Type': 'Empty Request Type', 'Join Call': 'Empty Join Call',\n",
    "                    'Sav ID': 'Empty Sav ID', 'Upcoming Renewal': 'Empty Upcoming Renewal',\n",
    "                    'CA Name': 'Empty CA Name', 'Expired Opportunity': 'Empty Expired Opportunity',\n",
    "                    'LDoS Opportunity': 'Empty LDoS Opportunity', 'Next steps':'Empty Next steps', 'Link PAR IB Rep':'Empty Link PAR IB Rep'}, inplace=True)"
   ]
  },
  {
   "cell_type": "markdown",
   "metadata": {},
   "source": [
    "### Compare column R-W"
   ]
  },
  {
   "cell_type": "code",
   "execution_count": null,
   "metadata": {},
   "outputs": [],
   "source": [
    "ca2 = ca[['Request ID','Coverage Advisor','PAR Requested','Date First Contact','PAR Received','Date Analysis','Date Invite Sent','Date Scheduled']]"
   ]
  },
  {
   "cell_type": "code",
   "execution_count": null,
   "metadata": {},
   "outputs": [],
   "source": [
    "equality_relation = ca2.copy()"
   ]
  },
  {
   "cell_type": "code",
   "execution_count": null,
   "metadata": {},
   "outputs": [],
   "source": [
    "equality_relation['PAR Requested'] = format_date_column(equality_relation['PAR Requested'])\n",
    "equality_relation['Date First Contact'] = format_date_column(equality_relation['Date First Contact'])\n",
    "equality_relation['PAR Received'] = format_date_column(equality_relation['PAR Received'])\n",
    "equality_relation['Date Analysis'] = format_date_column(equality_relation['Date Analysis'])\n",
    "equality_relation['Date Invite Sent'] = format_date_column(equality_relation['Date Analysis'])\n",
    "equality_relation['Date Scheduled'] = format_date_column(equality_relation['Date Scheduled'])"
   ]
  },
  {
   "cell_type": "code",
   "execution_count": null,
   "metadata": {},
   "outputs": [],
   "source": [
    "equality_relation.insert(equality_relation.shape[1], 'PAR Requested_greater_Date First Contact', None)\n",
    "equality_relation.insert(equality_relation.shape[1], 'Date First Contact_greater_PAR Received', None)\n",
    "equality_relation.insert(equality_relation.shape[1], 'PAR Received_greater_Date Analysis', None)\n",
    "equality_relation.insert(equality_relation.shape[1], 'Date Analysis_greater_Date Invite Sent', None)\n",
    "equality_relation.insert(equality_relation.shape[1], 'Date Invite Sent_greater_Date Scheduled', None)"
   ]
  },
  {
   "cell_type": "code",
   "execution_count": null,
   "metadata": {},
   "outputs": [],
   "source": [
    "for i, value in equality_relation.iterrows():\n",
    "    if value['PAR Requested'] > value['Date First Contact']:\n",
    "        if value['PAR Requested'] == Timestamp('2030-2-2 00:00:00') or value['PAR Requested'] == Timestamp('2050-2-2 00:00:00'):\n",
    "            equality_relation['PAR Requested_greater_Date First Contact'].loc[i] = None\n",
    "        else:\n",
    "            equality_relation['PAR Requested_greater_Date First Contact'].loc[i] = 'X'\n",
    "\n",
    "    if value['Date First Contact'] > value['PAR Received']:\n",
    "        if value['Date First Contact'] == Timestamp('2030-2-2 00:00:00') or value['Date First Contact'] == Timestamp('2050-2-2 00:00:00'):\n",
    "            equality_relation['Date First Contact_greater_PAR Received'].loc[i] = None\n",
    "        else:\n",
    "            equality_relation['Date First Contact_greater_PAR Received'].loc[i] = 'X'  \n",
    "\n",
    "    if value['PAR Received'] > value['Date Analysis']:\n",
    "        if value['PAR Received'] == Timestamp('2030-2-2 00:00:00') or value['PAR Received'] == Timestamp('2050-2-2 00:00:00'):\n",
    "            equality_relation['PAR Received_greater_Date Analysis'].loc[i] = None  \n",
    "        else:\n",
    "            equality_relation['PAR Received_greater_Date Analysis'].loc[i] = 'X'\n",
    "\n",
    "    if value['Date Analysis'] > value['Date Invite Sent']:\n",
    "        if value['Date Analysis'] == Timestamp('2030-2-2 00:00:00') or value['Date Analysis'] == Timestamp('2050-2-2 00:00:00'):\n",
    "            equality_relation['Date Analysis_greater_Date Invite Sent'].loc[i] = None\n",
    "        else:\n",
    "            equality_relation['Date Analysis_greater_Date Invite Sent'].loc[i] = 'X'        \n",
    "\n",
    "    if value['Date Invite Sent'] > value['Date Scheduled']:\n",
    "        if value['Date Invite Sent'] == Timestamp('2030-2-2 00:00:00') or value['Date Invite Sent'] == Timestamp('2050-2-2 00:00:00'):\n",
    "            equality_relation['Date Invite Sent_greater_Date Scheduled'].loc[i] = None\n",
    "        else: \n",
    "            equality_relation['Date Invite Sent_greater_Date Scheduled'].loc[i] = 'X' "
   ]
  },
  {
   "cell_type": "code",
   "execution_count": null,
   "metadata": {},
   "outputs": [],
   "source": [
    "for i, val in equality_relation.iterrows():\n",
    "\n",
    "    if val['PAR Requested'] == Timestamp('2050-2-2 00:00:00'):\n",
    "        equality_relation['PAR Requested'].loc[i] = 'Format Error'\n",
    "    else:\n",
    "        equality_relation['PAR Requested'].loc[i] = None\n",
    "\n",
    "    if val['Date First Contact'] == Timestamp('2050-2-2 00:00:00'):\n",
    "        equality_relation['Date First Contact'].loc[i] = 'Format Error'\n",
    "    else:\n",
    "        equality_relation['Date First Contact'].loc[i] = None\n",
    "    \n",
    "    if val['PAR Received'] == Timestamp('2050-2-2 00:00:00'):\n",
    "        equality_relation['PAR Received'].loc[i] = 'Format Error'\n",
    "    else:\n",
    "        equality_relation['PAR Received'].loc[i] = None\n",
    "\n",
    "    if val['Date Analysis'] == Timestamp('2050-2-2 00:00:00'):\n",
    "        equality_relation['Date Analysis'].loc[i] = 'Format Error'\n",
    "    else:\n",
    "        equality_relation['Date Analysis'].loc[i] = None\n",
    "    \n",
    "    if val['Date Invite Sent'] == Timestamp('2050-2-2 00:00:00'):\n",
    "        equality_relation['Date Invite Sent'].loc[i] = 'Format Error'\n",
    "    else:\n",
    "        equality_relation['Date Invite Sent'].loc[i] = None\n",
    "    \n",
    "    if val['Date Scheduled'] == Timestamp('2050-2-2 00:00:00'):\n",
    "        equality_relation['Date Scheduled'].loc[i] = 'Format Error'\n",
    "    else:\n",
    "        equality_relation['Date Scheduled'].loc[i] = None\n",
    "\n"
   ]
  },
  {
   "cell_type": "markdown",
   "metadata": {},
   "source": [
    "### Familiar Relation"
   ]
  },
  {
   "cell_type": "code",
   "execution_count": null,
   "metadata": {},
   "outputs": [],
   "source": [
    "\n",
    "ca3 = ca[['Request ID','Account Stage','Status','Reason Declined','Pre-Readout Effort (min)','Readout Duration (min)','Follow Up Effort (min)']]"
   ]
  },
  {
   "cell_type": "code",
   "execution_count": null,
   "metadata": {},
   "outputs": [],
   "source": [
    "familiar_relation = ca3.copy()"
   ]
  },
  {
   "cell_type": "code",
   "execution_count": null,
   "metadata": {},
   "outputs": [],
   "source": [
    "familiar_relation.insert(familiar_relation.shape[1], 'Error relation Account Stage, Status columns', None)\n",
    "familiar_relation.insert(familiar_relation.shape[1], 'Error Reason Declined', None)\n",
    "familiar_relation.insert(familiar_relation.shape[1], 'Pre-ReadOut Empty', None)\n",
    "familiar_relation.insert(familiar_relation.shape[1], 'Empty values in Readout Duration and Follow Up Effort', None)"
   ]
  },
  {
   "cell_type": "code",
   "execution_count": null,
   "metadata": {},
   "outputs": [],
   "source": [
    "for index, status in familiar_relation.iterrows():\n",
    "    if pd.isnull(status['Account Stage']) == False and pd.isnull(status['Status']) == False:\n",
    "        if status['Status'][0] != status['Account Stage'][0]:\n",
    "            familiar_relation['Error relation Account Stage, Status columns'].loc[index] = 'Error'\n",
    "        else:\n",
    "            if status['Account Stage'][0] == 'E' and status['Status'][2]== 'D' and pd.isnull(status['Reason Declined']) == True:\n",
    "                familiar_relation['Error Reason Declined'].loc[index] = 'Error'\n",
    "        \n",
    "    if type(status['Pre-Readout Effort (min)']) != int:\n",
    "        if pd.isnull(status['Pre-Readout Effort (min)']) == True:\n",
    "            if pd.isnull(status['Status']) == False:\n",
    "                if status['Status'][2] != 'U':\n",
    "                    familiar_relation['Pre-ReadOut Empty'].loc[index] = 'Error'\n",
    "\n",
    "    if pd.isnull(status['Account Stage']) == False:\n",
    "        if status['Account Stage'][0] == 'F' and (pd.isnull(status['Readout Duration (min)']) == True or pd.isnull(status['Follow Up Effort (min)']) == True):\n",
    "            familiar_relation['Empty values in Readout Duration and Follow Up Effort'].loc[index] = 'Error'   "
   ]
  },
  {
   "cell_type": "code",
   "execution_count": null,
   "metadata": {},
   "outputs": [],
   "source": [
    "familiar_relation.drop(columns=familiar_relation.columns[1:7], inplace=True)"
   ]
  },
  {
   "cell_type": "markdown",
   "metadata": {},
   "source": [
    "### Compare column AI-AL\n"
   ]
  },
  {
   "cell_type": "code",
   "execution_count": null,
   "metadata": {},
   "outputs": [],
   "source": [
    "cov = ca[['Request ID','Follow Up 1','Follow Up 2','Follow Up 3','Closed Date']]"
   ]
  },
  {
   "cell_type": "code",
   "execution_count": null,
   "metadata": {},
   "outputs": [],
   "source": [
    "equality_relation2 = cov.copy()"
   ]
  },
  {
   "cell_type": "code",
   "execution_count": null,
   "metadata": {},
   "outputs": [],
   "source": [
    "equality_relation2['Follow Up 1'] = format_date_column(equality_relation2['Follow Up 1'])\n",
    "equality_relation2['Follow Up 2'] = format_date_column(equality_relation2['Follow Up 2'])\n",
    "equality_relation2['Follow Up 3'] = format_date_column(equality_relation2['Follow Up 3'])\n",
    "equality_relation2['Closed Date'] = format_date_column(equality_relation2['Closed Date'])"
   ]
  },
  {
   "cell_type": "code",
   "execution_count": null,
   "metadata": {},
   "outputs": [],
   "source": [
    "equality_relation2['Follow Up 1_greater_Follow Up 2'] = None\n",
    "equality_relation2['Follow Up 2_greater_Follow Up 3'] = None\n",
    "equality_relation2['Follow Up 3_greater_Closed Date'] = None"
   ]
  },
  {
   "cell_type": "code",
   "execution_count": null,
   "metadata": {},
   "outputs": [],
   "source": [
    "for i, value in equality_relation2.iterrows():\n",
    "    if value['Follow Up 1'] > value['Follow Up 2']:\n",
    "        if value['Follow Up 1'] == Timestamp('2030-2-2 00:00:00') or value['Follow Up 1'] == Timestamp('2050-2-2 00:00:00'):\n",
    "            equality_relation2['Follow Up 1_greater_Follow Up 2'].loc[i] = None\n",
    "        else:\n",
    "            equality_relation2['Follow Up 1_greater_Follow Up 2'].loc[i] = 'X'\n",
    "\n",
    "    if value['Follow Up 2'] > value['Follow Up 3']:\n",
    "        if value['Follow Up 2'] == Timestamp('2030-2-2 00:00:00') or value['Follow Up 2'] == Timestamp('2050-2-2 00:00:00'):\n",
    "            equality_relation2['Follow Up 2_greater_Follow Up 3'].loc[i] = None\n",
    "        else:\n",
    "            equality_relation2['Follow Up 2_greater_Follow Up 3'].loc[i] = 'X'  \n",
    "\n",
    "    if value['Follow Up 3'] > value['Closed Date']:\n",
    "        if value['Follow Up 3'] == Timestamp('2030-2-2 00:00:00') or value['Follow Up 3'] == Timestamp('2050-2-2 00:00:00'):\n",
    "            equality_relation2['Follow Up 3_greater_Closed Date'].loc[i] = None  \n",
    "        else:\n",
    "            equality_relation2['Follow Up 3_greater_Closed Date'].loc[i] = 'X'"
   ]
  },
  {
   "cell_type": "code",
   "execution_count": null,
   "metadata": {},
   "outputs": [],
   "source": [
    "for i, val in equality_relation2.iterrows():\n",
    "\n",
    "    if val['Follow Up 1'] == Timestamp('2050-2-2 00:00:00'):\n",
    "        equality_relation2['Follow Up 1'].loc[i] = 'Format Error'\n",
    "    else:\n",
    "        equality_relation2['Follow Up 1'].loc[i] = None\n",
    "\n",
    "    if val['Follow Up 2'] == Timestamp('2050-2-2 00:00:00'):\n",
    "        equality_relation2['Follow Up 2'].loc[i] = 'Format Error'\n",
    "    else:\n",
    "        equality_relation2['Follow Up 2'].loc[i] = None\n",
    "    \n",
    "    if val['Follow Up 3'] == Timestamp('2050-2-2 00:00:00'):\n",
    "        equality_relation2['Follow Up 3'].loc[i] = 'Format Error'\n",
    "    else:\n",
    "        equality_relation2['Follow Up 3'].loc[i] = None\n",
    "\n",
    "    if val['Closed Date'] == Timestamp('2050-2-2 00:00:00'):\n",
    "        equality_relation2['Closed Date'].loc[i] = 'Format Error'\n",
    "    else:\n",
    "        equality_relation2['Closed Date'].loc[i] = None\n",
    "    "
   ]
  },
  {
   "cell_type": "markdown",
   "metadata": {},
   "source": [
    "### Merging tables"
   ]
  },
  {
   "cell_type": "code",
   "execution_count": null,
   "metadata": {},
   "outputs": [],
   "source": [
    "new_table = equality_relation.merge(familiar_relation, how='left', left_on='Request ID', right_on='Request ID').merge(    \n",
    "            Empty_Errors, how='left', left_on='Request ID', right_on='Request ID').merge(\n",
    "            equality_relation2, how='left', left_on='Request ID', right_on='Request ID')\n",
    "new_table.dropna(axis=0, how='all', subset=new_table.columns[2:], inplace=True)      \n",
    "new_table.to_excel('error_report_%s.xlsx' % today)\n",
    "\n",
    "excel_formating.format_excel()"
   ]
  },
  {
   "cell_type": "code",
   "execution_count": null,
   "metadata": {},
   "outputs": [],
   "source": [
    "mail_table = new_table.drop(columns=new_table.columns[2:])\n",
    "mail_table = mail_table['Coverage Advisor'].to_frame().drop_duplicates().reset_index(drop=True)\n",
    "mail_table = mail_table.merge(mail, how='left', left_on='Coverage Advisor', right_on='Coverage Advisor')\n",
    "mail_table.dropna(axis=0, subset=['Email'], inplace=True)"
   ]
  },
  {
   "cell_type": "markdown",
   "metadata": {},
   "source": [
    "### Send Mail"
   ]
  },
  {
   "cell_type": "code",
   "execution_count": null,
   "metadata": {},
   "outputs": [],
   "source": [
    "#outlook server connection\n",
    "outlServer = smtplib.SMTP(host='smtp-mail.outlook.com', port=587)\n",
    "\n",
    "#Initialize encryption\n",
    "outlServer.starttls()\n",
    "\n",
    "#Login in the outlook account using the define variables username and password\n",
    "outlServer.login(myMail, password)"
   ]
  },
  {
   "cell_type": "code",
   "execution_count": null,
   "metadata": {},
   "outputs": [],
   "source": [
    "#Definition of the function to send emails\n",
    "def send_msg(To, From, Subject, Message, s_attach):\n",
    "    msg = MIMEMultipart()\n",
    "    msg['From'] = From\n",
    "    msg['To'] = To\n",
    "    msg['Subject'] = Subject\n",
    "    msg_content = MIMEText(Message, 'html', 'utf-8')\n",
    "    msg.attach(msg_content)\n",
    "       \n",
    "    if s_attach == True:\n",
    "        with open('error_report_%s.xlsx' % today, 'rb') as e:\n",
    "            exc = MIMEBase('application', 'octet-stream', filename='error_report_%s.xlsx' % today)\n",
    "            exc.add_header('content-Disposition', 'attachment', filename='error_report_%s.xlsx' % today)\n",
    "            exc.set_payload(e.read())\n",
    "            encoders.encode_base64(exc)\n",
    "            msg.attach(exc)\n",
    "    \n",
    "    outlServer.sendmail(From, To, msg.as_string())"
   ]
  },
  {
   "cell_type": "code",
   "execution_count": null,
   "metadata": {},
   "outputs": [],
   "source": [
    "for i, sheet in mail_table.iterrows():\n",
    "    if pd.isnull(sheet['Email']) == False:\n",
    "        send_msg(sheet['Email'], myMail, subjectEmail , msg1, True)\n",
    "        print(sheet['Email'])"
   ]
  },
  {
   "cell_type": "code",
   "execution_count": null,
   "metadata": {},
   "outputs": [],
   "source": [
    "outlServer.quit()"
   ]
  }
 ],
 "metadata": {
  "interpreter": {
   "hash": "59a5cf5afc9bb8dd5c0b7c811dd61d424d750a3d732b2b54623aa1d472071de7"
  },
  "kernelspec": {
   "display_name": "Python 3.9.7 ('base')",
   "language": "python",
   "name": "python3"
  },
  "language_info": {
   "codemirror_mode": {
    "name": "ipython",
    "version": 3
   },
   "file_extension": ".py",
   "mimetype": "text/x-python",
   "name": "python",
   "nbconvert_exporter": "python",
   "pygments_lexer": "ipython3",
   "version": "3.10.2"
  },
  "orig_nbformat": 4
 },
 "nbformat": 4,
 "nbformat_minor": 2
}
