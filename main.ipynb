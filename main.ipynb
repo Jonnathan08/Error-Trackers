{
 "cells": [
  {
   "cell_type": "code",
   "execution_count": null,
   "metadata": {},
   "outputs": [],
   "source": [
    "#!pip install sharepy\n",
    "import sharepy \n",
    "import os\n",
    "#System variables\n",
    "MAIL_NUB = os.environ.get('MAIL_NUB')\n",
    "PASS_MAIL_NUB = os.environ.get('PASS_MAIL_NUB')\n",
    "\n",
    "s = sharepy.connect(\"nubsieteocho.sharepoint.com\", MAIL_NUB, PASS_MAIL_NUB)"
   ]
  },
  {
   "cell_type": "code",
   "execution_count": null,
   "metadata": {},
   "outputs": [],
   "source": [
    "import smtplib\n",
    "import pandas as pd\n",
    "from datetime import datetime, timedelta\n",
    "from pandas import Timestamp\n",
    "\n",
    "from email import encoders\n",
    "from os.path import basename\n",
    "from email.mime.text import MIMEText\n",
    "from email.mime.multipart import MIMEMultipart\n",
    "from email.mime.base import MIMEBase"
   ]
  },
  {
   "cell_type": "code",
   "execution_count": null,
   "metadata": {},
   "outputs": [],
   "source": [
    "#import data with the users mails\n",
    "p = s.getfile(\"https://nubsieteocho.sharepoint.com/sites/ODAOPS/Shared%20Documents/General/CAB%20Trackers/Coverage%20Advisor%20Tracker%20OFICIAL.xlsx\"\\\n",
    "    ,filename = 'Coverage Advisor Tracker OFICIAL.xlsx')\n",
    "ca = pd.read_excel ('Coverage Advisor Tracker OFICIAL.xlsx')\n",
    "ca"
   ]
  },
  {
   "cell_type": "code",
   "execution_count": 14,
   "metadata": {},
   "outputs": [],
   "source": [
    "\n",
    "\n",
    "def format_date_column(serie):\n",
    "    format_date = []\n",
    "    for index, value in serie.iteritems():\n",
    "        if type(value) != datetime and type(value) != Timestamp:  \n",
    "            if type(value) == float:\n",
    "                value = datetime.strptime('1900-1-1 00:00:00', '%Y-%m-%d %H:%M:%S')\n",
    "                format_date.append(value)\n",
    "            else: \n",
    "                value = datetime.strptime('1950-2-2 00:00:00', '%Y-%m-%d %H:%M:%S')\n",
    "                format_date.append(value)\n",
    "        else:\n",
    "            value = datetime.strptime(str(value), '%Y-%m-%d %H:%M:%S')\n",
    "            format_date.append(value)\n",
    "    \n",
    "    return format_date\n",
    "    \n"
   ]
  },
  {
   "cell_type": "code",
   "execution_count": null,
   "metadata": {},
   "outputs": [],
   "source": [
    "#for a, b in ca['Date Scheduled'].iteritems():\n",
    "#    if type(b) != float and type(b) != datetime:\n",
    "#        print(b)\n",
    "#        print(type(b))"
   ]
  },
  {
   "cell_type": "code",
   "execution_count": null,
   "metadata": {},
   "outputs": [],
   "source": [
    "#ca['PAR Requested'] = format_date_column(ca['PAR Requested'])\n",
    "#ca['Date First Contact'] = format_date_column(ca['Date First Contact'])\n",
    "#ca['PAR Received'] = format_date_column(ca['PAR Received'])\n",
    "#ca['Date Analysis'] = format_date_column(ca['Date Analysis'])\n",
    "#ca['Date Invite Sent'] = format_date_column(ca['Date Analysis'])\n",
    "#ca['Date Scheduled'] = format_date_column(ca['Date Scheduled'])"
   ]
  },
  {
   "cell_type": "code",
   "execution_count": null,
   "metadata": {},
   "outputs": [],
   "source": [
    "#Compare column R-W"
   ]
  },
  {
   "cell_type": "code",
   "execution_count": null,
   "metadata": {},
   "outputs": [],
   "source": [
    "equality_relation = ca[['Request ID', 'Sav ID','Coverage Advisor','PAR Requested','Date First Contact','PAR Received','Date Analysis','Date Invite Sent','Date Scheduled']]"
   ]
  },
  {
   "cell_type": "code",
   "execution_count": null,
   "metadata": {},
   "outputs": [],
   "source": [
    "equality_relation['PAR Requested'] = format_date_column(equality_relation['PAR Requested'])\n",
    "equality_relation['Date First Contact'] = format_date_column(equality_relation['Date First Contact'])\n",
    "equality_relation['PAR Received'] = format_date_column(equality_relation['PAR Received'])\n",
    "equality_relation['Date Analysis'] = format_date_column(equality_relation['Date Analysis'])\n",
    "equality_relation['Date Invite Sent'] = format_date_column(equality_relation['Date Analysis'])\n",
    "equality_relation['Date Scheduled'] = format_date_column(equality_relation['Date Scheduled'])"
   ]
  },
  {
   "cell_type": "code",
   "execution_count": null,
   "metadata": {},
   "outputs": [],
   "source": [
    "equality_relation"
   ]
  },
  {
   "cell_type": "code",
   "execution_count": null,
   "metadata": {},
   "outputs": [],
   "source": [
    "equality_relation['R_less_S'] = int(0)\n",
    "equality_relation['S_less_T'] = int(0)\n",
    "equality_relation['T_less_U'] = int(0)\n",
    "equality_relation['U_less_V'] = int(0)\n",
    "equality_relation['V_less_W'] = int(0)"
   ]
  },
  {
   "cell_type": "code",
   "execution_count": null,
   "metadata": {},
   "outputs": [],
   "source": [
    "for i, value in equality_relation.iterrows():\n",
    "    if value['PAR Requested'] > value['Date First Contact']:\n",
    "        equality_relation['R_less_S'].iloc[i] = 1\n",
    "\n",
    "    if value['Date First Contact'] > value['PAR Received']:\n",
    "       equality_relation['S_less_T'].iloc[i] = 1  \n",
    "\n",
    "    if value['PAR Received'] > value['Date Analysis']:\n",
    "        equality_relation['T_less_U'].iloc[i] = 1  \n",
    "\n",
    "    if value['Date Analysis'] > value['Date Invite Sent']:\n",
    "        equality_relation['U_less_V'].iloc[i] = 1  \n",
    "\n",
    "    if value['Date Invite Sent'] > value['Date Scheduled']:\n",
    "        equality_relation['V_less_W'].iloc[i] = 1  "
   ]
  },
  {
   "cell_type": "code",
   "execution_count": null,
   "metadata": {},
   "outputs": [],
   "source": [
    "equality_relation.to_excel('test.xlsx')"
   ]
  }
 ],
 "metadata": {
  "interpreter": {
   "hash": "59a5cf5afc9bb8dd5c0b7c811dd61d424d750a3d732b2b54623aa1d472071de7"
  },
  "kernelspec": {
   "display_name": "Python 3.9.7 ('base')",
   "language": "python",
   "name": "python3"
  },
  "language_info": {
   "codemirror_mode": {
    "name": "ipython",
    "version": 3
   },
   "file_extension": ".py",
   "mimetype": "text/x-python",
   "name": "python",
   "nbconvert_exporter": "python",
   "pygments_lexer": "ipython3",
   "version": "3.10.2"
  },
  "orig_nbformat": 4
 },
 "nbformat": 4,
 "nbformat_minor": 2
}
