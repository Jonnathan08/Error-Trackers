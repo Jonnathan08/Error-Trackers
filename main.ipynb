{
 "cells": [
  {
   "cell_type": "code",
   "execution_count": null,
   "metadata": {},
   "outputs": [],
   "source": [
    "#!pip install sharepy\n",
    "import sharepy \n",
    "import os\n",
    "#System variables\n",
    "MAIL_NUB = os.environ.get('MAIL_NUB')\n",
    "PASS_MAIL_NUB = os.environ.get('PASS_MAIL_NUB')\n",
    "\n",
    "s = sharepy.connect(\"nubsieteocho.sharepoint.com\", MAIL_NUB, PASS_MAIL_NUB)"
   ]
  },
  {
   "cell_type": "code",
   "execution_count": null,
   "metadata": {},
   "outputs": [],
   "source": [
    "import smtplib\n",
    "import pandas as pd\n",
    "from datetime import datetime, timedelta\n",
    "\n",
    "from email import encoders\n",
    "from os.path import basename\n",
    "from email.mime.text import MIMEText\n",
    "from email.mime.multipart import MIMEMultipart\n",
    "from email.mime.base import MIMEBase"
   ]
  },
  {
   "cell_type": "code",
   "execution_count": null,
   "metadata": {},
   "outputs": [],
   "source": [
    "#import data with the users mails\n",
    "p = s.getfile(\"https://nubsieteocho.sharepoint.com/sites/ODAOPS/Shared%20Documents/General/CAB%20Trackers/Coverage%20Advisor%20Tracker%20OFICIAL.xlsx\"\\\n",
    "    ,filename = 'Coverage Advisor Tracker OFICIAL.xlsx')\n",
    "ca = pd.read_excel ('Coverage Advisor Tracker OFICIAL.xlsx')\n",
    "ca"
   ]
  },
  {
   "cell_type": "code",
   "execution_count": null,
   "metadata": {},
   "outputs": [],
   "source": [
    "\n"
   ]
  },
  {
   "cell_type": "code",
   "execution_count": null,
   "metadata": {},
   "outputs": [],
   "source": []
  }
 ],
 "metadata": {
  "interpreter": {
   "hash": "59a5cf5afc9bb8dd5c0b7c811dd61d424d750a3d732b2b54623aa1d472071de7"
  },
  "kernelspec": {
   "display_name": "Python 3.9.7 ('base')",
   "language": "python",
   "name": "python3"
  },
  "language_info": {
   "codemirror_mode": {
    "name": "ipython",
    "version": 3
   },
   "file_extension": ".py",
   "mimetype": "text/x-python",
   "name": "python",
   "nbconvert_exporter": "python",
   "pygments_lexer": "ipython3",
   "version": "3.9.7"
  },
  "orig_nbformat": 4
 },
 "nbformat": 4,
 "nbformat_minor": 2
}
