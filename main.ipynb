{
 "cells": [
  {
   "cell_type": "code",
   "execution_count": null,
   "metadata": {},
   "outputs": [],
   "source": [
    "#!pip install sharepy\n",
    "import sharepy \n",
    "import os\n",
    "#System variables\n",
    "MAIL_NUB = os.environ.get('MAIL_NUB')\n",
    "PASS_MAIL_NUB = os.environ.get('PASS_MAIL_NUB')\n",
    "s = sharepy.connect(\"nubsieteocho.sharepoint.com\", MAIL_NUB, PASS_MAIL_NUB)"
   ]
  },
  {
   "cell_type": "code",
   "execution_count": null,
   "metadata": {},
   "outputs": [],
   "source": [
    "import smtplib\n",
    "import pandas as pd\n",
    "from datetime import datetime, timedelta\n",
    "from pandas import Timestamp\n",
    "\n",
    "from email import encoders\n",
    "from os.path import basename\n",
    "from email.mime.text import MIMEText\n",
    "from email.mime.multipart import MIMEMultipart\n",
    "from email.mime.base import MIMEBase"
   ]
  },
  {
   "cell_type": "code",
   "execution_count": null,
   "metadata": {},
   "outputs": [],
   "source": [
    "#import data with the users mails\n",
    "p = s.getfile(\"https://nubsieteocho.sharepoint.com/sites/ODAOPS/Shared%20Documents/General/CAB%20Trackers/Coverage%20Advisor%20Tracker%20OFICIAL.xlsx\"\\\n",
    "    ,filename = 'Coverage Advisor Tracker OFICIAL.xlsx')\n",
    "ca = pd.read_excel ('Coverage Advisor Tracker OFICIAL.xlsx')\n",
    "ca.dropna(axis=0, subset=['Request ID'], inplace=True)"
   ]
  },
  {
   "cell_type": "code",
   "execution_count": null,
   "metadata": {},
   "outputs": [],
   "source": [
    "m = s.getfile(\"https://nubsieteocho.sharepoint.com/sites/ODAOPS/Shared%20Documents/General/coverage_mails.xlsx\"\\\n",
    "    ,filename = 'coverage_mails.xlsx')\n",
    "mail = pd.read_excel('coverage_mails.xlsx')"
   ]
  },
  {
   "cell_type": "code",
   "execution_count": null,
   "metadata": {},
   "outputs": [],
   "source": [
    "#SMTP Mail variables\n",
    "today = datetime.strftime(datetime.today(), '%m-%d-%Y')\n",
    "myMail = 'testNub78@outlook.com'\n",
    "password = 'EasyP4ssword78'\n",
    "subjectEmail = 'Coverage error report'\n",
    "\n",
    "msg1 = \"\"\"<h1>Hola</h1>\n",
    "        <h3>Por favor revisa el archivo adjunto para encontrar el detalle de los errores</h3>\n",
    "        <h3>Asegurate de que tus registros esten corregidos y al d&iacute;a</h3>\"\"\""
   ]
  },
  {
   "cell_type": "code",
   "execution_count": null,
   "metadata": {},
   "outputs": [],
   "source": [
    "\n",
    "\n",
    "def format_date_column(serie):\n",
    "    format_date = []\n",
    "    for index, value in serie.iteritems():\n",
    "        if type(value) != datetime and type(value) != Timestamp:  \n",
    "            if type(value) == float or value != value:\n",
    "                value = datetime.strptime('2030-2-2 00:00:00', '%Y-%m-%d %H:%M:%S')\n",
    "                format_date.append(value)\n",
    "            else: \n",
    "                value = datetime.strptime('2050-2-2 00:00:00', '%Y-%m-%d %H:%M:%S')\n",
    "                format_date.append(value)\n",
    "        else:\n",
    "            value = datetime.strptime(str(value), '%Y-%m-%d %H:%M:%S')\n",
    "            format_date.append(value)\n",
    "    \n",
    "    return format_date\n",
    "    \n"
   ]
  },
  {
   "cell_type": "markdown",
   "metadata": {},
   "source": [
    "### Celdas vacías"
   ]
  },
  {
   "cell_type": "code",
   "execution_count": null,
   "metadata": {},
   "outputs": [],
   "source": [
    "#Recorrido de celdas buscando valores vacios en columnas G H I J  AF/AG/AH AM AN AO\n",
    "Empty  = ca[\n",
    "    (ca['Request Type'].isna() == True) | (ca['Join Call'].isna() == True)\n",
    "    | (ca['Sav ID'].isna() == True) | (ca['Upcoming Renewal'].isna() == True) | (ca['CA Name'].isna() == True) | (ca['Expired Opportunity'].isna() == True)\n",
    "    | (ca['LDoS Opportunity'].isna() == True) | (ca['Next steps'].isna() == True) | (ca['Link PAR IB Rep'].isna() == True)]\n",
    "\n",
    "Empty_Errors = Empty.copy()"
   ]
  },
  {
   "cell_type": "code",
   "execution_count": null,
   "metadata": {},
   "outputs": [],
   "source": [
    "Empty_Errors = Empty_Errors[['Request ID','Request Type','Join Call','Sav ID', 'Upcoming Renewal','CA Name', 'Expired Opportunity','LDoS Opportunity', 'Next steps','Link PAR IB Rep']]\n",
    "Empty_Errors = Empty_Errors.fillna('Empty')\n",
    "Empty_Errors = Empty_Errors.reset_index(drop=True)"
   ]
  },
  {
   "cell_type": "code",
   "execution_count": null,
   "metadata": {},
   "outputs": [],
   "source": [
    "for index, row in Empty_Errors.iterrows():\n",
    "    for loc, sheet in row.items():\n",
    "        if sheet != 'Empty':\n",
    "            if loc != 'Request ID':\n",
    "                Empty_Errors[loc].loc[index] = None"
   ]
  },
  {
   "cell_type": "code",
   "execution_count": null,
   "metadata": {},
   "outputs": [],
   "source": [
    "Empty_Errors.rename(columns={'Request Type': 'Empty Request Type', 'Join Call': 'Empty Join Call',\n",
    "                    'Sav ID': 'Empty Sav ID', 'Upcoming Renewal': 'Empty Upcoming Renewal',\n",
    "                    'CA Name': 'Empty CA Name', 'Expired Opportunity': 'Empty Expired Opportunity',\n",
    "                    'LDoS Opportunity': 'Empty LDoS Opportunity', 'Next steps':'Empty Next steps', 'Link PAR IB Rep':'Empty Link PAR IB Rep'}, inplace=True)"
   ]
  },
  {
   "cell_type": "markdown",
   "metadata": {},
   "source": [
    "### Compare column R-W"
   ]
  },
  {
   "cell_type": "code",
   "execution_count": null,
   "metadata": {},
   "outputs": [],
   "source": [
    "ca2 = ca[['Request ID','Coverage Advisor','PAR Requested','Date First Contact','PAR Received','Date Analysis','Date Invite Sent','Date Scheduled']]"
   ]
  },
  {
   "cell_type": "code",
   "execution_count": null,
   "metadata": {},
   "outputs": [],
   "source": [
    "equality_relation = ca2.copy()"
   ]
  },
  {
   "cell_type": "code",
   "execution_count": null,
   "metadata": {},
   "outputs": [],
   "source": [
    "equality_relation['PAR Requested'] = format_date_column(equality_relation['PAR Requested'])\n",
    "equality_relation['Date First Contact'] = format_date_column(equality_relation['Date First Contact'])\n",
    "equality_relation['PAR Received'] = format_date_column(equality_relation['PAR Received'])\n",
    "equality_relation['Date Analysis'] = format_date_column(equality_relation['Date Analysis'])\n",
    "equality_relation['Date Invite Sent'] = format_date_column(equality_relation['Date Analysis'])\n",
    "equality_relation['Date Scheduled'] = format_date_column(equality_relation['Date Scheduled'])"
   ]
  },
  {
   "cell_type": "code",
   "execution_count": null,
   "metadata": {},
   "outputs": [],
   "source": [
    "equality_relation.insert(equality_relation.shape[1], 'PAR Requested_greater_Date First Contact', None)\n",
    "equality_relation.insert(equality_relation.shape[1], 'Date First Contact_greater_PAR Received', None)\n",
    "equality_relation.insert(equality_relation.shape[1], 'PAR Received_greater_Date Analysis', None)\n",
    "equality_relation.insert(equality_relation.shape[1], 'Date Analysis_greater_Date Invite Sent', None)\n",
    "equality_relation.insert(equality_relation.shape[1], 'Date Invite Sent_greater_Date Scheduled', None)"
   ]
  },
  {
   "cell_type": "code",
   "execution_count": null,
   "metadata": {},
   "outputs": [],
   "source": [
    "for i, value in equality_relation.iterrows():\n",
    "    if value['PAR Requested'] > value['Date First Contact']:\n",
    "        if value['PAR Requested'] == Timestamp('2030-2-2 00:00:00') or value['PAR Requested'] == Timestamp('2050-2-2 00:00:00'):\n",
    "            equality_relation['PAR Requested_greater_Date First Contact'].loc[i] = None\n",
    "        else:\n",
    "            equality_relation['PAR Requested_greater_Date First Contact'].loc[i] = 'X'\n",
    "\n",
    "    if value['Date First Contact'] > value['PAR Received']:\n",
    "        if value['Date First Contact'] == Timestamp('2030-2-2 00:00:00') or value['Date First Contact'] == Timestamp('2050-2-2 00:00:00'):\n",
    "            equality_relation['Date First Contact_greater_PAR Received'].loc[i] = None\n",
    "        else:\n",
    "            equality_relation['Date First Contact_greater_PAR Received'].loc[i] = 'X'  \n",
    "\n",
    "    if value['PAR Received'] > value['Date Analysis']:\n",
    "        if value['PAR Received'] == Timestamp('2030-2-2 00:00:00') or value['PAR Received'] == Timestamp('2050-2-2 00:00:00'):\n",
    "            equality_relation['PAR Received_greater_Date Analysis'].loc[i] = None  \n",
    "        else:\n",
    "            equality_relation['PAR Received_greater_Date Analysis'].loc[i] = 'X'\n",
    "\n",
    "    if value['Date Analysis'] > value['Date Invite Sent']:\n",
    "        if value['Date Analysis'] == Timestamp('2030-2-2 00:00:00') or value['Date Analysis'] == Timestamp('2050-2-2 00:00:00'):\n",
    "            equality_relation['Date Analysis_greater_Date Invite Sent'].loc[i] = None\n",
    "        else:\n",
    "            equality_relation['Date Analysis_greater_Date Invite Sent'].loc[i] = 'X'        \n",
    "\n",
    "    if value['Date Invite Sent'] > value['Date Scheduled']:\n",
    "        if value['Date Invite Sent'] == Timestamp('2030-2-2 00:00:00') or value['Date Invite Sent'] == Timestamp('2050-2-2 00:00:00'):\n",
    "            equality_relation['Date Invite Sent_greater_Date Scheduled'].loc[i] = None\n",
    "        else: \n",
    "            equality_relation['Date Invite Sent_greater_Date Scheduled'].loc[i] = 'X' "
   ]
  },
  {
   "cell_type": "code",
   "execution_count": null,
   "metadata": {},
   "outputs": [],
   "source": [
    "for i, val in equality_relation.iterrows():\n",
    "\n",
    "    if val['PAR Requested'] == Timestamp('2050-2-2 00:00:00'):\n",
    "        equality_relation['PAR Requested'].loc[i] = 'Format Error'\n",
    "    else:\n",
    "        equality_relation['PAR Requested'].loc[i] = None\n",
    "\n",
    "    if val['Date First Contact'] == Timestamp('2050-2-2 00:00:00'):\n",
    "        equality_relation['Date First Contact'].loc[i] = 'Format Error'\n",
    "    else:\n",
    "        equality_relation['Date First Contact'].loc[i] = None\n",
    "    \n",
    "    if val['PAR Received'] == Timestamp('2050-2-2 00:00:00'):\n",
    "        equality_relation['PAR Received'].loc[i] = 'Format Error'\n",
    "    else:\n",
    "        equality_relation['PAR Received'].loc[i] = None\n",
    "\n",
    "    if val['Date Analysis'] == Timestamp('2050-2-2 00:00:00'):\n",
    "        equality_relation['Date Analysis'].loc[i] = 'Format Error'\n",
    "    else:\n",
    "        equality_relation['Date Analysis'].loc[i] = None\n",
    "    \n",
    "    if val['Date Invite Sent'] == Timestamp('2050-2-2 00:00:00'):\n",
    "        equality_relation['Date Invite Sent'].loc[i] = 'Format Error'\n",
    "    else:\n",
    "        equality_relation['Date Invite Sent'].loc[i] = None\n",
    "    \n",
    "    if val['Date Scheduled'] == Timestamp('2050-2-2 00:00:00'):\n",
    "        equality_relation['Date Scheduled'].loc[i] = 'Format Error'\n",
    "    else:\n",
    "        equality_relation['Date Scheduled'].loc[i] = None\n",
    "\n"
   ]
  },
  {
   "cell_type": "code",
   "execution_count": null,
   "metadata": {},
   "outputs": [],
   "source": [
    "equality_relation"
   ]
  },
  {
   "cell_type": "markdown",
   "metadata": {},
   "source": [
    "### Familiar Relation"
   ]
  },
  {
   "cell_type": "code",
   "execution_count": null,
   "metadata": {},
   "outputs": [],
   "source": [
    "\n",
    "ca3 = ca[['Request ID','Account Stage','Status','Reason Declined','Pre-Readout Effort (min)','Readout Duration (min)','Follow Up Effort (min)']]"
   ]
  },
  {
   "cell_type": "code",
   "execution_count": null,
   "metadata": {},
   "outputs": [],
   "source": [
    "familiar_relation = ca3.copy()"
   ]
  },
  {
   "cell_type": "code",
   "execution_count": null,
   "metadata": {},
   "outputs": [],
   "source": [
    "familiar_relation.insert(familiar_relation.shape[1], 'Error relation Account Stage, Status columns', None)\n",
    "familiar_relation.insert(familiar_relation.shape[1], 'Error Reason Declined', None)\n",
    "familiar_relation.insert(familiar_relation.shape[1], 'Pre-ReadOut Empty', None)\n",
    "familiar_relation.insert(familiar_relation.shape[1], 'Empty values in Readout Duration and Follow Up Effort', None)"
   ]
  },
  {
   "cell_type": "code",
   "execution_count": null,
   "metadata": {},
   "outputs": [],
   "source": [
    "for index, status in familiar_relation.iterrows():\n",
    "    if type(status['Account Stage']) != float and type(status['Status']) != float:\n",
    "        if status['Status'][0] != status['Account Stage'][0]:\n",
    "            familiar_relation['Error relation Account Stage, Status columns'].loc[index] = 'Error'\n",
    "        else:\n",
    "            if status['Account Stage'][0] == 'E' and status['Status'][2]== 'D' and type(status['Reason Declined']) == float:\n",
    "                familiar_relation['Error Reason Declined'].loc[index] = 'Error'\n",
    "        \n",
    "    if type(status['Pre-Readout Effort (min)']) != int:\n",
    "        if type(status['Pre-Readout Effort (min)']) == float:\n",
    "            if type(status['Status']) != float:\n",
    "                if status['Status'][2] != 'U':\n",
    "                    familiar_relation['Pre-ReadOut Empty'].loc[index] = 'Error'\n",
    "\n",
    "    if type(status['Account Stage']) != float:\n",
    "        if status['Account Stage'][0] == 'F' and (type(status['Readout Duration (min)']) == float or type(status['Follow Up Effort (min)']) == float):\n",
    "            familiar_relation['Empty values in Readout Duration and Follow Up Effort'].loc[index] = 'Error'   "
   ]
  },
  {
   "cell_type": "code",
   "execution_count": null,
   "metadata": {},
   "outputs": [],
   "source": [
    "familiar_relation.drop(columns=familiar_relation.columns[1:7], inplace=True)"
   ]
  },
  {
   "cell_type": "markdown",
   "metadata": {},
   "source": [
    "### Compare column AI-AL\n"
   ]
  },
  {
   "cell_type": "code",
   "execution_count": null,
   "metadata": {},
   "outputs": [],
   "source": [
    "cov = ca[['Request ID','Follow Up 1','Follow Up 2','Follow Up 3','Closed Date']]"
   ]
  },
  {
   "cell_type": "code",
   "execution_count": null,
   "metadata": {},
   "outputs": [],
   "source": [
    "equality_relation2 = cov.copy()"
   ]
  },
  {
   "cell_type": "code",
   "execution_count": null,
   "metadata": {},
   "outputs": [],
   "source": [
    "equality_relation2['Follow Up 1'] = format_date_column(equality_relation2['Follow Up 1'])\n",
    "equality_relation2['Follow Up 2'] = format_date_column(equality_relation2['Follow Up 2'])\n",
    "equality_relation2['Follow Up 3'] = format_date_column(equality_relation2['Follow Up 3'])\n",
    "equality_relation2['Closed Date'] = format_date_column(equality_relation2['Closed Date'])"
   ]
  },
  {
   "cell_type": "code",
   "execution_count": null,
   "metadata": {},
   "outputs": [],
   "source": [
    "equality_relation2['Follow Up 1_greater_Follow Up 2'] = None\n",
    "equality_relation2['Follow Up 2_greater_Follow Up 3'] = None\n",
    "equality_relation2['Follow Up 3_greater_Closed Date'] = None"
   ]
  },
  {
   "cell_type": "code",
   "execution_count": null,
   "metadata": {},
   "outputs": [],
   "source": [
    "for i, value in equality_relation2.iterrows():\n",
    "    if value['Follow Up 1'] > value['Follow Up 2']:\n",
    "        if value['Follow Up 1'] == Timestamp('2030-2-2 00:00:00') or value['Follow Up 1'] == Timestamp('2050-2-2 00:00:00'):\n",
    "            equality_relation2['Follow Up 1_greater_Follow Up 2'].loc[i] = None\n",
    "        else:\n",
    "            equality_relation2['Follow Up 1_greater_Follow Up 2'].loc[i] = 'X'\n",
    "\n",
    "    if value['Follow Up 2'] > value['Follow Up 3']:\n",
    "        if value['Follow Up 2'] == Timestamp('2030-2-2 00:00:00') or value['Follow Up 2'] == Timestamp('2050-2-2 00:00:00'):\n",
    "            equality_relation2['Follow Up 2_greater_Follow Up 3'].loc[i] = None\n",
    "        else:\n",
    "            equality_relation2['Follow Up 2_greater_Follow Up 3'].loc[i] = 'X'  \n",
    "\n",
    "    if value['Follow Up 3'] > value['Closed Date']:\n",
    "        if value['Follow Up 3'] == Timestamp('2030-2-2 00:00:00') or value['Follow Up 3'] == Timestamp('2050-2-2 00:00:00'):\n",
    "            equality_relation2['Follow Up 3_greater_Closed Date'].loc[i] = None  \n",
    "        else:\n",
    "            equality_relation2['Follow Up 3_greater_Closed Date'].loc[i] = 'X'"
   ]
  },
  {
   "cell_type": "code",
   "execution_count": null,
   "metadata": {},
   "outputs": [],
   "source": [
    "for i, val in equality_relation2.iterrows():\n",
    "\n",
    "    if val['Follow Up 1'] == Timestamp('2050-2-2 00:00:00'):\n",
    "        equality_relation2['Follow Up 1'].loc[i] = 'Format Error'\n",
    "    else:\n",
    "        equality_relation2['Follow Up 1'].loc[i] = None\n",
    "\n",
    "    if val['Follow Up 2'] == Timestamp('2050-2-2 00:00:00'):\n",
    "        equality_relation2['Follow Up 2'].loc[i] = 'Format Error'\n",
    "    else:\n",
    "        equality_relation2['Follow Up 2'].loc[i] = None\n",
    "    \n",
    "    if val['Follow Up 3'] == Timestamp('2050-2-2 00:00:00'):\n",
    "        equality_relation2['Follow Up 3'].loc[i] = 'Format Error'\n",
    "    else:\n",
    "        equality_relation2['Follow Up 3'].loc[i] = None\n",
    "\n",
    "    if val['Closed Date'] == Timestamp('2050-2-2 00:00:00'):\n",
    "        equality_relation2['Closed Date'].loc[i] = 'Format Error'\n",
    "    else:\n",
    "        equality_relation2['Closed Date'].loc[i] = None\n",
    "    "
   ]
  },
  {
   "cell_type": "markdown",
   "metadata": {},
   "source": [
    "### Merging tables"
   ]
  },
  {
   "cell_type": "code",
   "execution_count": null,
   "metadata": {},
   "outputs": [],
   "source": [
    "new_table = equality_relation.merge(familiar_relation, how='left', left_on='Request ID', right_on='Request ID').merge(    \n",
    "            Empty_Errors, how='left', left_on='Request ID', right_on='Request ID').merge(\n",
    "            equality_relation2, how='left', left_on='Request ID', right_on='Request ID')\n",
    "new_table.dropna(axis=0, how='all', subset=new_table.columns[2:], inplace=True)      \n",
    "new_table.to_excel('error_report_%s.xlsx' % today)"
   ]
  },
  {
   "cell_type": "code",
   "execution_count": null,
   "metadata": {},
   "outputs": [],
   "source": [
    "mail_table = new_table.drop(columns=new_table.columns[2:])\n",
    "mail_table = mail_table['Coverage Advisor'].to_frame().drop_duplicates().reset_index(drop=True)\n",
    "mail_table = mail_table.merge(mail, how='left', left_on='Coverage Advisor', right_on='Coverage Advisor')\n",
    "mail_table.dropna(axis=0, subset=['Email'], inplace=True)"
   ]
  },
  {
   "cell_type": "markdown",
   "metadata": {},
   "source": [
    "### Send Mail"
   ]
  },
  {
   "cell_type": "code",
   "execution_count": null,
   "metadata": {},
   "outputs": [],
   "source": [
    "#outlook server connection\n",
    "outlServer = smtplib.SMTP(host='smtp-mail.outlook.com', port=587)\n",
    "\n",
    "#Initialize encryption\n",
    "outlServer.starttls()\n",
    "\n",
    "#Login in the outlook account using the define variables username and password\n",
    "outlServer.login(myMail, password)"
   ]
  },
  {
   "cell_type": "code",
   "execution_count": null,
   "metadata": {},
   "outputs": [],
   "source": [
    "#Definition of the function to send emails\n",
    "def send_msg(To, From, Subject, Message, s_attach):\n",
    "    msg = MIMEMultipart()\n",
    "    msg['From'] = From\n",
    "    msg['To'] = To\n",
    "    msg['Subject'] = Subject\n",
    "    msg_content = MIMEText(Message, 'html', 'utf-8')\n",
    "    msg.attach(msg_content)\n",
    "       \n",
    "    if s_attach == True:\n",
    "        with open('error_report_%s.xlsx' % today, 'rb') as e:\n",
    "            exc = MIMEBase('application', 'octet-stream', filename='error_report_%s.xlsx' % today)\n",
    "            exc.add_header('content-Disposition', 'attachment', filename='error_report_%s.xlsx' % today)\n",
    "            exc.set_payload(e.read())\n",
    "            encoders.encode_base64(exc)\n",
    "            msg.attach(exc)\n",
    "    \n",
    "    outlServer.sendmail(From, To, msg.as_string())"
   ]
  },
  {
   "cell_type": "code",
   "execution_count": null,
   "metadata": {},
   "outputs": [],
   "source": [
    "#for i, sheet in mail_table.iterrows():\n",
    "#    if pd.isnull(sheet['Email']) == False:\n",
    "#        send_msg(sheet['Email'], myMail, subjectEmail , msg1, True)\n",
    "#        print(sheet['Email'])\n",
    "\n",
    "send_msg('nicolas.rodriguez@nub78.com', myMail, subjectEmail , msg1, True)"
   ]
  },
  {
   "cell_type": "code",
   "execution_count": null,
   "metadata": {},
   "outputs": [],
   "source": [
    "outlServer.quit()"
   ]
  }
 ],
 "metadata": {
  "interpreter": {
   "hash": "59a5cf5afc9bb8dd5c0b7c811dd61d424d750a3d732b2b54623aa1d472071de7"
  },
  "kernelspec": {
   "display_name": "Python 3.9.7 ('base')",
   "language": "python",
   "name": "python3"
  },
  "language_info": {
   "codemirror_mode": {
    "name": "ipython",
    "version": 3
   },
   "file_extension": ".py",
   "mimetype": "text/x-python",
   "name": "python",
   "nbconvert_exporter": "python",
   "pygments_lexer": "ipython3",
   "version": "3.10.2"
  },
  "orig_nbformat": 4
 },
 "nbformat": 4,
 "nbformat_minor": 2
}
