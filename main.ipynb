{
 "cells": [
  {
   "cell_type": "code",
   "execution_count": null,
   "metadata": {},
   "outputs": [],
   "source": [
    "#!pip install sharepy\n",
    "import sharepy \n",
    "import os\n",
    "#System variables\n",
    "MAIL_NUB = os.environ.get('MAIL_NUB')\n",
    "PASS_MAIL_NUB = os.environ.get('PASS_MAIL_NUB')\n",
    "s = sharepy.connect(\"nubsieteocho.sharepoint.com\", MAIL_NUB, PASS_MAIL_NUB)"
   ]
  },
  {
   "cell_type": "code",
   "execution_count": null,
   "metadata": {},
   "outputs": [],
   "source": [
    "import smtplib\n",
    "import pandas as pd\n",
    "from datetime import datetime, timedelta\n",
    "from pandas import Timestamp\n",
    "import excel_formating\n",
    "\n",
    "from email import encoders\n",
    "from os.path import basename\n",
    "from email.mime.text import MIMEText\n",
    "from email.mime.multipart import MIMEMultipart\n",
    "from email.mime.base import MIMEBase\n",
    "from string import printable"
   ]
  },
  {
   "cell_type": "code",
   "execution_count": null,
   "metadata": {},
   "outputs": [],
   "source": [
    "#import data with the users mails\n",
    "p = s.getfile(\"https://nubsieteocho.sharepoint.com/sites/ODAOPS/Shared%20Documents/General/CAB%20Trackers/Coverage%20Advisor%20Tracker%20OFICIAL.xlsx\"\\\n",
    "    ,filename = 'Coverage Advisor Tracker OFICIAL.xlsx')\n",
    "ca = pd.read_excel ('Coverage Advisor Tracker OFICIAL.xlsx', sheet_name='COE Reports')\n",
    "ca.dropna(axis=0, subset=['Account Name'], inplace=True)\n",
    "ca.drop(list(ca[ca['Account Name']==0].index), axis=0, inplace=True)\n",
    "ca.dropna(axis=0, subset=['Request ID'], inplace=True)\n",
    "ca.drop_duplicates(subset=['Request ID'], inplace=True)"
   ]
  },
  {
   "cell_type": "code",
   "execution_count": null,
   "metadata": {},
   "outputs": [],
   "source": [
    "m = s.getfile(\"https://nubsieteocho.sharepoint.com/sites/ODAOPS/Shared%20Documents/General/coverage_mails.xlsx\"\\\n",
    "    ,filename = 'coverage_mails.xlsx')\n",
    "mail = pd.read_excel('coverage_mails.xlsx')"
   ]
  },
  {
   "cell_type": "code",
   "execution_count": null,
   "metadata": {},
   "outputs": [],
   "source": [
    "#SMTP Mail variables\n",
    "today = datetime.strftime(datetime.today(), '%m-%d-%Y')\n",
    "myMail = 'testNub78@outlook.com'\n",
    "password = 'EasyP4ssword78'\n",
    "subjectEmail = 'Coverage error report'\n",
    "\n",
    "msg1 = \"\"\"<h3>Hola, %s</h3>\n",
    "        <p><span style=\"color: rgb(71, 85, 119);\">Parece que tienes varios errores en la informaci&oacute;n registrada en tus cuentas.</span></p>\n",
    "        <p><span style=\"color: rgb(71, 85, 119);\">Asegurate de revisar el archivo adjunto para validar los campos que est&aacute;n generando conflictos.</span></p>\n",
    "        <p><span style=\"color: rgb(71, 85, 119);\">Feliz D&iacute;a.</span></p>\"\"\""
   ]
  },
  {
   "cell_type": "code",
   "execution_count": null,
   "metadata": {},
   "outputs": [],
   "source": [
    "def format_date_column(serie):\n",
    "    format_date = []\n",
    "    for id, value in serie.iteritems():\n",
    "        if pd.notna(value) == True:\n",
    "            try:\n",
    "                value = datetime.strptime(str(value), '%Y-%m-%d %H:%M:%S')\n",
    "                format_date.append(value)\n",
    "            except:\n",
    "                try:\n",
    "                    value = datetime.strptime(str(value), '%Y-%m-%d')\n",
    "                    format_date.append(value)\n",
    "                except:\n",
    "                    value = 'Format Error'\n",
    "                    format_date.append(value)\n",
    "        else:\n",
    "            value = 'Empty date'\n",
    "            format_date.append(value)\n",
    "\n",
    "    return format_date"
   ]
  },
  {
   "cell_type": "code",
   "execution_count": null,
   "metadata": {},
   "outputs": [],
   "source": [
    "# Request Type\n",
    "\n",
    "request_type = ca[['Request ID','Request Type']].copy()\n",
    "request_type = request_type[pd.isna(request_type['Request Type'])]\n",
    "request_type['Request Type'] = 'Request Type Empty'"
   ]
  },
  {
   "cell_type": "code",
   "execution_count": null,
   "metadata": {},
   "outputs": [],
   "source": [
    "# Join Call\n",
    "\n",
    "join_call = ca[['Request ID', 'Join Call']].copy()\n",
    "join_call = join_call[pd.isna(join_call['Join Call'])]\n",
    "join_call['Join Call'] = 'Join Call Empty'"
   ]
  },
  {
   "cell_type": "code",
   "execution_count": null,
   "metadata": {},
   "outputs": [],
   "source": [
    "# Upcoming Renewal\n",
    "upcoming_renewal = ca[['Request ID', 'Upcoming Renewal']].copy()\n",
    "\n",
    "for index, row in upcoming_renewal.iterrows():\n",
    "    if pd.isna(row['Upcoming Renewal']) == True:\n",
    "        upcoming_renewal.loc[[index],['Upcoming Renewal']] = 'Empty Value'\n",
    "    elif len(row['Upcoming Renewal']) > 6:\n",
    "        upcoming_renewal.loc[[index],['Upcoming Renewal']] = 'Value with space'\n",
    "    else:    \n",
    "        upcoming_renewal.loc[[index],['Upcoming Renewal']] = None\n",
    "\n",
    "upcoming_renewal.dropna(axis=0, subset=['Upcoming Renewal'], inplace=True)"
   ]
  },
  {
   "cell_type": "code",
   "execution_count": null,
   "metadata": {},
   "outputs": [],
   "source": [
    "# Date Received\n",
    "def column_comparison_2(a,b):\n",
    "    ans = 'NA'\n",
    "    if type(a) == datetime:\n",
    "        if a < Timestamp('2021-10-15 00:00:00'):\n",
    "            ans = '15/oct error'\n",
    "        elif type(a) == datetime and type(b) == datetime:\n",
    "            if a > b:\n",
    "                ans = 'PAR requested is lower'\n",
    "            elif a <= b:\n",
    "                ans = 'correct'\n",
    "    elif a == 'Empty date':\n",
    "        ans = 'Empty date'\n",
    "    elif a == 'Format Error':\n",
    "        ans = 'Format Error'  \n",
    "    return ans\n",
    "\n",
    "date_received = ca[['Request ID', 'Date received', 'PAR Requested']].copy()\n",
    "date_received['Date received'] = format_date_column(date_received['Date received'])\n",
    "date_received['PAR Requested'] = format_date_column(date_received['PAR Requested'])\n",
    "date_received['Date received'] = date_received[['Date received','PAR Requested']].apply(lambda row: column_comparison_2(row[0],row[1]), axis=1)\n",
    "date_received = date_received[~(date_received['Date received'] == 'correct')]\n",
    "date_received = date_received[~(date_received['Date received'] == 'NA')]\n",
    "date_received.drop(axis=1, columns=['PAR Requested'], inplace=True)"
   ]
  },
  {
   "cell_type": "code",
   "execution_count": null,
   "metadata": {},
   "outputs": [],
   "source": [
    "# Coverage Advisor\n",
    "def coverage_adv(a):\n",
    "    ans = a\n",
    "    if pd.isna(a) == True:\n",
    "        ans = 'Empty Name'\n",
    "    else: \n",
    "        if set(a).difference(printable):\n",
    "            ans = 'Special Character in Name'\n",
    "    return ans\n",
    "\n",
    "cov_adv = ca[['Request ID', 'Coverage Advisor']].copy()\n",
    "cov_adv['Coverage Advisor'] = cov_adv['Coverage Advisor'].apply(coverage_adv)\n",
    "cov_adv = cov_adv[(cov_adv['Coverage Advisor'] == 'Empty Name') | (cov_adv['Coverage Advisor'] == 'Special Character in Name')]"
   ]
  },
  {
   "cell_type": "code",
   "execution_count": null,
   "metadata": {},
   "outputs": [],
   "source": [
    "# PAR Requested\n",
    "def column_comparison_3(a,b):\n",
    "    ans = b\n",
    "    if type(a) == datetime and type(b) == datetime:\n",
    "        if a > b:\n",
    "            ans = 'date older that Date received'\n",
    "    return ans\n",
    "\n",
    "PAR_req = ca[['Request ID', 'Date received', 'PAR Requested']].copy()\n",
    "PAR_req['Date received'] = format_date_column(PAR_req['Date received'])\n",
    "PAR_req['PAR Requested'] = format_date_column(PAR_req['PAR Requested'])\n",
    "PAR_req = PAR_req[~(PAR_req['Date received'] == 'Empty date')]\n",
    "PAR_req = PAR_req[~(PAR_req['Date received'] == 'Format Error')]\n",
    "PAR_req['PAR Requested'] = PAR_req[['Date received','PAR Requested']].apply(lambda row: column_comparison_3(row[0],row[1]), axis=1)\n",
    "PAR_req = PAR_req[PAR_req['PAR Requested'].apply(type) == str]\n",
    "PAR_req.drop(axis=1, columns=['Date received'], inplace=True)"
   ]
  },
  {
   "cell_type": "code",
   "execution_count": null,
   "metadata": {},
   "outputs": [],
   "source": [
    "# Date 1st contact\n",
    "d_f_contact = ca[['Request ID', 'Date received', 'Date First Contact']].copy()\n",
    "d_f_contact['Date received'] = format_date_column(d_f_contact['Date received'])\n",
    "d_f_contact['Date First Contact'] = format_date_column(d_f_contact['Date First Contact'])\n",
    "d_f_contact = d_f_contact[~((d_f_contact['Date received'] == 'Empty date') & (d_f_contact['Date First Contact'] == 'Empty date'))]\n",
    "d_f_contact = d_f_contact[~((d_f_contact['Date received'] == 'Empty date') | (d_f_contact['Date First Contact'] == 'Empty date'))]\n",
    "format_errors = d_f_contact[d_f_contact['Date First Contact'].apply(type) == str]\n",
    "d_f_contact = d_f_contact[~(d_f_contact['Date First Contact'].apply(type) == str)]\n",
    "d_f_contact = d_f_contact[d_f_contact['Date received'] > d_f_contact['Date First Contact']]\n",
    "d_f_contact['Date First Contact'] = 'date older that Date received'\n",
    "d_f_contact = pd.concat([d_f_contact, format_errors])\n",
    "d_f_contact.drop(axis=1, columns=['Date received'], inplace=True)"
   ]
  },
  {
   "cell_type": "code",
   "execution_count": null,
   "metadata": {},
   "outputs": [],
   "source": [
    "# PAR Received\n",
    "\n",
    "PAR_recev = ca[['Request ID', 'PAR Requested', 'PAR Received']].copy()\n",
    "PAR_recev['PAR Requested'] = format_date_column(PAR_recev['PAR Requested'])\n",
    "PAR_recev['PAR Received'] = format_date_column(PAR_recev['PAR Received'])\n",
    "PAR_recev = PAR_recev[~((PAR_recev['PAR Requested'] == 'Empty date') & (PAR_recev['PAR Received'] == 'Empty date'))]\n",
    "PAR_recev = PAR_recev[~((PAR_recev['PAR Requested'] == 'Empty date') | (PAR_recev['PAR Received'] == 'Empty date'))]\n",
    "PAR_recev = PAR_recev[PAR_recev['PAR Requested'] > PAR_recev['PAR Received']]\n",
    "PAR_recev['PAR Received'] = 'date older that PAR Requested'\n",
    "PAR_recev.drop(axis=1, columns=['PAR Requested'], inplace=True)"
   ]
  },
  {
   "cell_type": "code",
   "execution_count": null,
   "metadata": {},
   "outputs": [],
   "source": [
    "# Date Analysis\n",
    "\n",
    "dat_nalys = ca[['Request ID', 'PAR Received', 'Date Analysis']].copy()\n",
    "dat_nalys['Date Analysis'] = format_date_column(dat_nalys['Date Analysis'])\n",
    "dat_nalys['PAR Received'] = format_date_column(dat_nalys['PAR Received'])\n",
    "dat_nalys = dat_nalys[~((dat_nalys['PAR Received'] == 'Empty date') & (dat_nalys['Date Analysis'] == 'Empty date'))]\n",
    "dat_nalys = dat_nalys[~((dat_nalys['PAR Received'] == 'Empty date') | (dat_nalys['Date Analysis'] == 'Empty date'))]\n",
    "dat_nalys = dat_nalys[dat_nalys['PAR Received'] > dat_nalys['Date Analysis']]\n",
    "dat_nalys['Date Analysis'] = 'date older that PAR Received'\n",
    "dat_nalys.drop(axis=1, columns=['PAR Received'], inplace=True)"
   ]
  },
  {
   "cell_type": "code",
   "execution_count": null,
   "metadata": {},
   "outputs": [],
   "source": [
    "# Pre Readout Effort\n",
    "\n",
    "def first_character(value):\n",
    "    char = 'A'\n",
    "    if pd.notna(value):\n",
    "        if value[0] != ' ':\n",
    "            char = value[0]\n",
    "        else:\n",
    "            char = value[1]\n",
    "    else:\n",
    "        char = value\n",
    "\n",
    "    return char\n",
    "\n",
    "pre_reffor = ca[['Request ID', 'Pre-Readout Effort (min)', 'Account Stage']].copy()\n",
    "pre_reffor['A'] = pre_reffor['Account Stage'].apply(first_character)\n",
    "pre_reffor['Pre-Readout Effort (min)'] = pre_reffor['Pre-Readout Effort (min)'].apply(lambda x: x.replace(',','.') if type(x) == str else x)\n",
    "pre_reffor['Pre-Readout Effort (min)'] = pre_reffor['Pre-Readout Effort (min)'].apply(lambda x: float(x) if type(x) == str else x)\n",
    "\n",
    "def pre_effort (a,b):\n",
    "    ans = a\n",
    "    if pd.isna(a) and b == 'F':\n",
    "        ans = 'Empty value'\n",
    "    if a > 180:\n",
    "        ans = 'value above 180'\n",
    "    return ans\n",
    "\n",
    "pre_reffor['Pre-Readout Effort (min)'] = pre_reffor[['Pre-Readout Effort (min)','A']].apply(lambda x: pre_effort(x[0],x[1]), axis=1)\n",
    "pre_reffor = pre_reffor[(pre_reffor['Pre-Readout Effort (min)']=='Empty value') | (pre_reffor['Pre-Readout Effort (min)']=='value above 180')]\n",
    "pre_reffor.drop(axis=1,columns=['Account Stage','A'],inplace=True)"
   ]
  },
  {
   "cell_type": "code",
   "execution_count": null,
   "metadata": {},
   "outputs": [],
   "source": [
    "# Date Inite Sent\n",
    "\n",
    "date_init_s = ca[['Request ID', 'Date First Contact', 'Date Invite Sent']].copy()\n",
    "date_init_s['Date Invite Sent'] = format_date_column(date_init_s['Date Invite Sent'])\n",
    "date_init_s['Date First Contact'] = format_date_column(date_init_s['Date First Contact'])\n",
    "date_init_s = date_init_s[~((date_init_s['Date First Contact'] == 'Empty date') & (date_init_s['Date Invite Sent'] == 'Empty date'))]\n",
    "date_init_s = date_init_s[~((date_init_s['Date First Contact'] == 'Empty date') | (date_init_s['Date Invite Sent'] == 'Empty date'))]\n",
    "date_init_s = date_init_s[~(date_init_s['Date First Contact'] == 'Format Error')]\n",
    "format_errors = date_init_s[date_init_s['Date Invite Sent'] == 'Format Error']\n",
    "date_init_s = date_init_s[~(date_init_s['Date Invite Sent'] == 'Format Error')]\n",
    "date_init_s = date_init_s[date_init_s['Date First Contact'] > date_init_s['Date Invite Sent']]\n",
    "date_init_s['Date Invite Sent'] = 'date older that Date First Contact'\n",
    "date_init_s = pd.concat([date_init_s, format_errors], axis=0)\n",
    "date_init_s.drop(axis=1, columns=['Date First Contact'], inplace=True)"
   ]
  },
  {
   "cell_type": "code",
   "execution_count": null,
   "metadata": {},
   "outputs": [],
   "source": [
    "# Date Schedule\n",
    "\n",
    "date_sche = ca[['Request ID', 'Date Invite Sent', 'Date Scheduled', 'Date Readout Done']].copy()\n",
    "date_sche['Date Invite Sent'] = format_date_column(date_sche['Date Invite Sent'])\n",
    "date_sche['Date Scheduled'] = format_date_column(date_sche['Date Scheduled'])\n",
    "date_sche['Date Readout Done'] = format_date_column(date_sche['Date Readout Done'])\n",
    "date_sche = date_sche[~((date_sche['Date Invite Sent'] == 'Empty date') | (date_sche['Date Scheduled'] == 'Empty date') | (date_sche['Date Readout Done'] == 'Empty date'))]\n",
    "date_sche = date_sche[~((date_sche['Date Scheduled'] >= date_sche['Date Invite Sent']) & (date_sche['Date Scheduled'] == date_sche['Date Readout Done']))]\n",
    "date_sche['Date Scheduled'] = 'Relation error with Date Invite Sent or Date Readout Done'\n",
    "date_sche.drop(axis=1, columns=['Date Invite Sent','Date Readout Done'], inplace=True)"
   ]
  },
  {
   "cell_type": "code",
   "execution_count": null,
   "metadata": {},
   "outputs": [],
   "source": [
    "# Date Readout Done\n",
    "\n",
    "def date_done(a,b,c):\n",
    "    ans = b\n",
    "    if type(a) == datetime and type(b) == datetime:\n",
    "        if a != b:\n",
    "            ans = 'different to Date Scheduled'\n",
    "    elif type(a) == datetime:       \n",
    "        if (a <= datetime.today()) and (b == 'Empty date'):\n",
    "            ans = 'Empty value' \n",
    "    if  (c != 'F') and (b == 'Empty date'):\n",
    "        ans = 'Empty value'\n",
    "    return ans\n",
    "\n",
    "date_red_don = ca[['Request ID', 'Date Scheduled', 'Date Readout Done', 'Status']].copy()\n",
    "date_red_don['Date Scheduled'] = format_date_column(date_red_don['Date Scheduled'])\n",
    "date_red_don['Date Readout Done'] = format_date_column(date_red_don['Date Readout Done'])\n",
    "date_red_don['Status'] = date_red_don['Status'].apply(first_character)\n",
    "date_red_don['Date Readout Done'] = date_red_don[['Date Scheduled','Date Readout Done','Status']].apply(lambda x: date_done(x[0],x[1],x[2]), axis=1)\n",
    "date_red_don = date_red_don[~(date_red_don['Date Readout Done'] == 'Empty date')]\n",
    "date_red_don = date_red_don[~(date_red_don['Date Readout Done'].apply(type) == datetime)]\n",
    "date_red_don.drop(axis=1, columns=['Date Scheduled','Status'],inplace=True)"
   ]
  },
  {
   "cell_type": "code",
   "execution_count": null,
   "metadata": {},
   "outputs": [],
   "source": [
    "# Readout Duration (min)\n",
    "\n",
    "read_min = ca[['Request ID', 'Date Readout Done', 'Readout Duration (min)']].copy()\n",
    "read_min['Readout Duration (min)'] = read_min['Readout Duration (min)'].apply(lambda x: x.replace(',','.') if type(x) == str else x)\n",
    "read_min['Readout Duration (min)'] = read_min['Readout Duration (min)'].apply(float)\n",
    "\n",
    "for j, row in read_min.iterrows():\n",
    "    if pd.isnull(row['Date Readout Done']) == False and pd.isnull(row['Readout Duration (min)']) == True:\n",
    "        read_min.loc[[j], ['Readout Duration (min)']] = 'Value mustnt be empty'\n",
    "    elif row['Readout Duration (min)'] > 180:\n",
    "        read_min.loc[[j], ['Readout Duration (min)']] = 'Value to high'\n",
    "    else:\n",
    "        read_min.loc[[j], ['Readout Duration (min)']] = None\n",
    "\n",
    "read_min.dropna(axis=0, subset=['Readout Duration (min)'], inplace=True)\n",
    "read_min.drop(axis=1, columns=['Date Readout Done'], inplace=True)"
   ]
  },
  {
   "cell_type": "code",
   "execution_count": null,
   "metadata": {},
   "outputs": [],
   "source": [
    "# Account Stage // Status\n",
    "\n",
    "c_status = ca[['Request ID', 'Account Stage', 'Status']].copy()\n",
    "c_status['Charecter Stage'] = c_status['Account Stage'].apply(first_character)\n",
    "c_status['Charecter Status'] = c_status['Status'].apply(first_character)\n",
    "c_status = c_status[c_status['Charecter Stage'] != c_status['Charecter Status']]\n",
    "c_status[['Account Stage','Status']] = c_status[['Account Stage','Status']].fillna('Empty value')  \n",
    "c_status[['Account Stage','Status']] = c_status[['Account Stage','Status']].applymap(lambda x: 'different Stage vs Status' if x != 'Empty value' else x)\n",
    "c_status.drop(axis=1, columns=['Charecter Stage','Charecter Status'], inplace=True)\n"
   ]
  },
  {
   "cell_type": "code",
   "execution_count": null,
   "metadata": {},
   "outputs": [],
   "source": [
    "# Delivery Type\n",
    "\n",
    "def delivery_type(col1,col2,col3,col4):\n",
    "    ans = col4\n",
    "    if col2 == 'B_PAR_Creation' and col3 == 'B_Unqualified - duplicated':\n",
    "        if col4 != 'Not presented':\n",
    "            ans = 'should be: Not presented'\n",
    "    if type(col1) == datetime:\n",
    "        if col1 > datetime.today():\n",
    "            if col4 != 'Pending':\n",
    "               ans = 'should be: Pending'\n",
    "    if pd.isna(col4) == True:\n",
    "        ans = 'Empty value'\n",
    "\n",
    "    return ans\n",
    "\n",
    "del_type = ca[['Request ID', 'Date Readout Done','Account Stage', 'Status', 'Delivery Type']].copy()\n",
    "del_type['Date Readout Done'] = format_date_column(del_type['Date Readout Done'])\n",
    "del_type['Delivery Type'] = del_type[['Date Readout Done','Account Stage', 'Status', 'Delivery Type']].apply(lambda i: delivery_type(i[0],i[1],i[2],i[3]), axis=1)\n",
    "del_type = del_type[(del_type['Delivery Type'] == 'should be: Not presented') |\n",
    "                    (del_type['Delivery Type'] == 'should be: Pending') |\n",
    "                    (del_type['Delivery Type'] == 'Empty value')]\n",
    "del_type = del_type[['Request ID','Delivery Type']]"
   ]
  },
  {
   "cell_type": "code",
   "execution_count": null,
   "metadata": {},
   "outputs": [],
   "source": [
    "# Reason Declined\n",
    "\n",
    "reason_decl = ca[['Request ID', 'Status', 'Reason Declined']].copy()\n",
    "\n",
    "for index, row in reason_decl.iterrows():\n",
    "    if pd.isnull(row['Status']) == True:\n",
    "        reason_decl.loc[[index], ['Reason Declined']] = None\n",
    "    elif row['Status'][2] == 'D' and pd.isnull(row['Reason Declined']) == True:\n",
    "        reason_decl.loc[[index], ['Reason Declined']] = 'Empty Value'\n",
    "    else:\n",
    "        reason_decl.loc[[index], ['Reason Declined']] = None\n",
    "\n",
    "reason_decl.dropna(axis=0, subset=['Reason Declined'], inplace=True)\n",
    "reason_decl.drop(axis=1, columns=['Status'], inplace=True) \n"
   ]
  },
  {
   "cell_type": "code",
   "execution_count": null,
   "metadata": {},
   "outputs": [],
   "source": [
    "# Reason Declined Lvl 2\n",
    "\n",
    "reason_decl2 = ca[['Request ID', 'Reason Declined', 'Reason Declined Lvl 2']].copy()\n",
    "\n",
    "for index, row in reason_decl2.iterrows():\n",
    "    if pd.isnull(row['Reason Declined']) == False and pd.isnull(row['Reason Declined Lvl 2']) == True:\n",
    "        reason_decl2.loc[[index], ['Reason Declined Lvl 2']] = 'Empty Value'\n",
    "    else:\n",
    "        reason_decl2.loc[[index], ['Reason Declined Lvl 2']] = None\n",
    "\n",
    "reason_decl2.dropna(axis=0, subset=['Reason Declined Lvl 2'], inplace=True)\n",
    "reason_decl2.drop(axis=1, columns=['Reason Declined'], inplace=True) "
   ]
  },
  {
   "cell_type": "code",
   "execution_count": null,
   "metadata": {},
   "outputs": [],
   "source": [
    "# Reason On Hold and Days on Hold\n",
    "\n",
    "reas_hold = ca[['Request ID', 'Reason On Hold', 'Days on Hold']].copy()\n",
    "\n",
    "for index, row in reas_hold.iterrows():\n",
    "    if pd.isna(row['Reason On Hold']) == True and pd.isna(row['Days on Hold']) == False:\n",
    "        reas_hold.loc[[index], ['Reason On Hold']] = 'Empty Value'\n",
    "        reas_hold.loc[[index], ['Days on Hold']] = None\n",
    "    elif pd.isna(row['Reason On Hold']) == False and pd.isna(row['Days on Hold']) == True:\n",
    "        reas_hold.loc[[index], ['Days on Hold']] = 'Empty Value'\n",
    "        reas_hold.loc[[index], ['Reason On Hold']] = None\n",
    "    else:\n",
    "        reas_hold.loc[[index], ['Reason On Hold']] = None\n",
    "        reas_hold.loc[[index], ['Days on Hold']] = None\n",
    "\n",
    "reas_hold.dropna(axis=0, how='all', subset=['Reason On Hold', 'Days on Hold'], inplace=True) "
   ]
  },
  {
   "cell_type": "code",
   "execution_count": null,
   "metadata": {},
   "outputs": [],
   "source": [
    "# Miss Attach Opportunity // Expired Opportunity // LDoS Opportunity\n",
    "\n",
    "oppty= ca[['Request ID', 'Account Stage','Miss Attach Opportunity', 'Expired Opportunity', 'LDoS Opportunity']].copy()\n",
    "\n",
    "for p, row in oppty.iterrows():\n",
    "    if pd.isna(row['Account Stage']) == False:\n",
    "        if pd.isna(row['Miss Attach Opportunity']) == True:\n",
    "            oppty.loc[[p], ['Miss Attach Opportunity']] = 'Empty oppotunity'\n",
    "        if pd.isna(row['Expired Opportunity']) == True:\n",
    "            oppty.loc[[p], ['Expired Opportunity']] = 'Empty oppotunity'\n",
    "        if pd.isna(row['LDoS Opportunity']) == True:\n",
    "            oppty.loc[[p], ['LDoS Opportunity']] = 'Empty oppotunity'\n",
    "\n",
    "for index, row in oppty[oppty.columns[2:]].iterrows():\n",
    "    for loc, sheet in row.items():\n",
    "        if sheet != 'Empty oppotunity':\n",
    "            oppty.loc[[index],[loc]] = None\n",
    "\n",
    "oppty.dropna(axis=0, how='all', subset=['Miss Attach Opportunity', 'Expired Opportunity', 'LDoS Opportunity'], inplace=True)\n",
    "oppty.drop(axis=1, columns=['Account Stage'], inplace=True)"
   ]
  },
  {
   "cell_type": "code",
   "execution_count": null,
   "metadata": {},
   "outputs": [],
   "source": [
    "#next step\n",
    "\n",
    "n_steps= ca[['Request ID', 'Account Stage', 'Status', 'Next steps']].copy()\n",
    "n_steps = n_steps[(n_steps['Account Stage'] == 'B_PAR_Creation') & (n_steps['Status'] == 'B_Unqualified - duplicated')]\n",
    "n_steps = n_steps[pd.isna(n_steps['Next steps'])]\n",
    "n_steps['Next steps'] = 'Empty value'\n",
    "n_steps = n_steps[['Request ID','Next steps']]"
   ]
  },
  {
   "cell_type": "code",
   "execution_count": null,
   "metadata": {},
   "outputs": [],
   "source": [
    "# Follow up 1\n",
    "\n",
    "def follo1_log(a,b):\n",
    "    ans = b\n",
    "    if type(a) == datetime and type(b) == datetime:\n",
    "        if a > b:\n",
    "            ans = 'date older that Date Readout Done'\n",
    "    return ans\n",
    "\n",
    "follow1 = ca[['Request ID', 'Date Readout Done','Date Follow Up 1']].copy()\n",
    "follow1['Date Readout Done'] = format_date_column(follow1['Date Readout Done'])\n",
    "follow1['Date Follow Up 1'] = format_date_column(follow1['Date Follow Up 1'])\n",
    "follow1 = follow1[~(follow1['Date Readout Done'] == 'Empty date')]\n",
    "follow1['Date Follow Up 1'] = follow1[['Date Readout Done','Date Follow Up 1']].apply(lambda x: follo1_log(x[0],x[1]), axis=1)\n",
    "follow1 = follow1[~(follow1['Date Follow Up 1'].apply(type) == datetime)]\n",
    "follow1.drop(axis=1, columns=['Date Readout Done'], inplace=True)\n",
    "follow1 = follow1[~(follow1['Date Follow Up 1'] == 'Empty date')]"
   ]
  },
  {
   "cell_type": "code",
   "execution_count": null,
   "metadata": {},
   "outputs": [],
   "source": [
    "# Follow up 2-3 validation function\n",
    "\n",
    "def column_comparison(a,b,c):\n",
    "    ans = 'N/A'\n",
    "    if (type(a) == datetime) and (type(b) == datetime) and (type(c) == datetime):        \n",
    "        if (a < b) and (b < c):\n",
    "            ans = 'correct'    \n",
    "        elif (a > b) and (b > c):\n",
    "            ans = 'relation error'           \n",
    "        elif a > b:\n",
    "            ans = 'Previus column date is greater'            \n",
    "        elif b > c:\n",
    "            ans = 'Closed Date is lower'            \n",
    "        else:\n",
    "            ans = 'correct'\n",
    "\n",
    "    elif (type(a) == datetime) and (type(b) == datetime):\n",
    "        if a > b:\n",
    "            ans = 'Previus column date is greater'\n",
    "        else: \n",
    "            ans = 'correct'\n",
    "    \n",
    "    elif b == 'Format Error':\n",
    "        ans = 'Format Error'\n",
    "\n",
    "    return ans"
   ]
  },
  {
   "cell_type": "code",
   "execution_count": null,
   "metadata": {},
   "outputs": [],
   "source": [
    "# Follow up 2\n",
    "\n",
    "follow2 = ca[['Request ID', 'Date Follow Up 1', 'Date Follow Up 2','Closed Date']].copy()\n",
    "follow2['Date Follow Up 1'] = format_date_column(follow2['Date Follow Up 1'])\n",
    "follow2['Date Follow Up 2'] = format_date_column(follow2['Date Follow Up 2'])\n",
    "follow2['Closed Date'] = format_date_column(follow2['Closed Date'])\n",
    "follow2 = follow2[~(follow2['Date Follow Up 2'] == 'Empty date')]\n",
    "follow2 = follow2[~(follow2['Date Follow Up 1'] == 'Empty date')]\n",
    "follow2 = follow2[~(follow2['Date Follow Up 1'] == 'Format Error')]\n",
    "follow2['Date Follow Up 2'] = follow2[['Date Follow Up 1','Date Follow Up 2','Closed Date']].apply(lambda row : column_comparison(row[0],row[1],row[2]), axis=1) \n",
    "follow2 = follow2[~(follow2['Date Follow Up 2'] == 'correct')]\n",
    "follow2.drop(axis=1, columns=['Date Follow Up 1', 'Closed Date'], inplace=True)"
   ]
  },
  {
   "cell_type": "code",
   "execution_count": null,
   "metadata": {},
   "outputs": [],
   "source": [
    "# Follow up 3\n",
    "\n",
    "follow3 = ca[['Request ID', 'Date Follow Up 2', 'Date Follow Up 3','Closed Date']].copy()\n",
    "follow3['Date Follow Up 2'] = format_date_column(follow3['Date Follow Up 2'])\n",
    "follow3['Date Follow Up 3'] = format_date_column(follow3['Date Follow Up 3'])\n",
    "follow3['Closed Date'] = format_date_column(follow3['Closed Date'])\n",
    "follow3 = follow3[~(follow3['Date Follow Up 3'] == 'Empty date')]\n",
    "follow3 = follow3[~(follow3['Date Follow Up 2'] == 'Empty date')]\n",
    "follow3 = follow3[~(follow3['Date Follow Up 2'] == 'Format Error')]\n",
    "follow3['Date Follow Up 3'] = follow3[['Date Follow Up 2','Date Follow Up 3','Closed Date']].apply(lambda row : column_comparison(row[0],row[1],row[2]), axis=1) \n",
    "follow3 = follow3[~(follow3['Date Follow Up 3'] == 'correct')]\n",
    "follow3.drop(axis=1, columns=['Date Follow Up 2', 'Closed Date'], inplace=True)"
   ]
  },
  {
   "cell_type": "code",
   "execution_count": null,
   "metadata": {},
   "outputs": [],
   "source": [
    "# Follow Up Effort (min)\n",
    "\n",
    "follow_eft = ca[['Request ID', 'Date Readout Done','Date Follow Up 1','Follow Up Effort (min)']].copy()\n",
    "follow_eft = follow_eft[~(follow_eft['Follow Up Effort (min)'] == 0)]\n",
    "follow_eft['Follow Up Effort (min)'] = follow_eft['Follow Up Effort (min)'].fillna(0)\n",
    "follow_eft['Follow Up Effort (min)'] = follow_eft['Follow Up Effort (min)'].replace(' ',0)\n",
    "follow_eft['Follow Up Effort (min)'] = follow_eft['Follow Up Effort (min)'].apply(lambda x: x.replace(',','.') if type(x) == str else x)\n",
    "follow_eft['Follow Up Effort (min)'] = follow_eft['Follow Up Effort (min)'].apply(lambda x: float(x) if type(x) == str else x)\n",
    "follow_eft = follow_eft[(follow_eft['Follow Up Effort (min)'] == 0) | (follow_eft['Follow Up Effort (min)'] > 240)]\n",
    "follow_eft = follow_eft[(pd.notna(follow_eft['Date Readout Done']) == True) | (pd.notna(follow_eft['Date Follow Up 1']) == True) | (follow_eft['Follow Up Effort (min)'] != 0)]\n",
    "follow_eft['Follow Up Effort (min)'] = follow_eft['Follow Up Effort (min)'].replace(0, 'Empty value')\n",
    "follow_eft['Follow Up Effort (min)'] = follow_eft['Follow Up Effort (min)'].apply(lambda x: 'Value too high' if type(x) == float else x)\n",
    "follow_eft = follow_eft[['Request ID','Follow Up Effort (min)']]"
   ]
  },
  {
   "cell_type": "code",
   "execution_count": null,
   "metadata": {},
   "outputs": [],
   "source": [
    "# Closing Date\n",
    "def close_date(colm1,colm3):\n",
    "    ans = colm3\n",
    "    if type(colm1) == Timestamp and type(colm3) == datetime: \n",
    "        if colm1 > colm3:\n",
    "            ans = 'date is older than Date Received'\n",
    "    if colm3 == 'Empty date':\n",
    "        ans = 'Empty value'\n",
    "    return ans\n",
    "\n",
    "\n",
    "closig_dat = ca[['Request ID', 'Date received', 'Reason Declined','Reason Declined Lvl 2','Account Stage', 'Status', 'Date Follow Up 3', 'Closed Date']].copy()\n",
    "closig_dat = closig_dat[~(((pd.notna(closig_dat['Reason Declined'])) | (pd.notna(closig_dat['Reason Declined Lvl 2']))) & (pd.isna(closig_dat['Closed Date'])))]\n",
    "closig_dat = closig_dat[(closig_dat['Account Stage'] == 'B_PAR_Creation') & (closig_dat['Status'] == 'B_Unqualified-duplicated')]\n",
    "closig_dat = closig_dat[~((pd.notna(closig_dat['Reason Declined'])) | (pd.notna(closig_dat['Reason Declined Lvl 2'])))]\n",
    "closig_dat['Date received'] = format_date_column(closig_dat['Date received'])\n",
    "closig_dat['Closed Date'] = format_date_column(closig_dat['Closed Date'])\n",
    "closig_dat['Closed Date'] = closig_dat[['Date received', 'Closed Date']].apply(lambda row: close_date(row[0],row[1]), axis=1)\n",
    "closig_dat = closig_dat[~(closig_dat['Closed Date'] == 'Empty date')]\n",
    "closig_dat = closig_dat[closig_dat['Closed Date'].apply(type) == str]\n",
    "closig_dat.drop(axis=1, columns=['Date received','Reason Declined','Reason Declined Lvl 2','Account Stage','Status', 'Date Follow Up 3'], inplace=True)\n"
   ]
  },
  {
   "cell_type": "markdown",
   "metadata": {},
   "source": [
    "### Merging tables"
   ]
  },
  {
   "cell_type": "code",
   "execution_count": null,
   "metadata": {},
   "outputs": [],
   "source": [
    "# Merging new tables\n",
    "new_table = request_type.merge(join_call, how='outer', left_on='Request ID', right_on='Request ID').merge(\n",
    "            upcoming_renewal, how='outer', left_on='Request ID', right_on='Request ID').merge(\n",
    "            date_received, how='outer', left_on='Request ID', right_on='Request ID').merge(\n",
    "            cov_adv, how='outer', left_on='Request ID', right_on='Request ID').merge(\n",
    "            PAR_req, how='outer', left_on='Request ID', right_on='Request ID').merge(\n",
    "            d_f_contact, how='outer', left_on='Request ID', right_on='Request ID').merge(\n",
    "            PAR_recev, how='outer', left_on='Request ID', right_on='Request ID').merge(\n",
    "            dat_nalys, how='outer', left_on='Request ID', right_on='Request ID').merge(\n",
    "            pre_reffor, how='outer', left_on='Request ID', right_on='Request ID').merge(\n",
    "            date_init_s, how='outer', left_on='Request ID', right_on='Request ID').merge(\n",
    "            date_sche, how='outer', left_on='Request ID', right_on='Request ID').merge(\n",
    "            date_red_don, how='outer', left_on='Request ID', right_on='Request ID').merge(\n",
    "            read_min, how='outer', left_on='Request ID', right_on='Request ID').merge(\n",
    "            c_status, how='outer', left_on='Request ID', right_on='Request ID').merge(\n",
    "            del_type, how='outer', left_on='Request ID', right_on='Request ID').merge(\n",
    "            reason_decl, how='outer', left_on='Request ID', right_on='Request ID').merge(\n",
    "            reason_decl2, how='outer', left_on='Request ID', right_on='Request ID').merge(\n",
    "            reas_hold, how='outer', left_on='Request ID', right_on='Request ID').merge(\n",
    "            oppty, how='outer', left_on='Request ID', right_on='Request ID').merge(\n",
    "            n_steps, how='outer', left_on='Request ID', right_on='Request ID').merge(   \n",
    "            follow1, how='outer', left_on='Request ID', right_on='Request ID').merge(\n",
    "            follow2, how='outer', left_on='Request ID', right_on='Request ID').merge(\n",
    "            follow3, how='outer', left_on='Request ID', right_on='Request ID').merge(\n",
    "            follow_eft, how='outer', left_on='Request ID', right_on='Request ID').merge(\n",
    "            closig_dat, how='outer', left_on='Request ID', right_on='Request ID')"
   ]
  },
  {
   "cell_type": "code",
   "execution_count": null,
   "metadata": {},
   "outputs": [],
   "source": [
    "new_table.dropna(axis=0, how='all', subset=new_table.columns[2:], inplace=True)  \n",
    "t_names = pd.DataFrame()\n",
    "t_names[['Request ID','Name','Account Name']] = ca[['Request ID','Coverage Advisor','Account Name']]\n",
    "new_table = t_names.merge(new_table, how='right', left_on='Request ID', right_on='Request ID')"
   ]
  },
  {
   "cell_type": "code",
   "execution_count": null,
   "metadata": {},
   "outputs": [],
   "source": [
    "mail_table = new_table['Name'].to_frame().drop_duplicates().reset_index(drop=True)\n",
    "mail_table = mail_table.merge(mail, how='left', left_on='Name', right_on='Coverage Advisor')\n",
    "mail_table.dropna(axis=0, subset=['Email'], inplace=True)"
   ]
  },
  {
   "cell_type": "markdown",
   "metadata": {},
   "source": [
    "### Send Mail"
   ]
  },
  {
   "cell_type": "code",
   "execution_count": null,
   "metadata": {},
   "outputs": [],
   "source": [
    "#outlook server connection\n",
    "outlServer = smtplib.SMTP(host='smtp-mail.outlook.com', port=587)\n",
    "\n",
    "#Initialize encryption\n",
    "outlServer.starttls()\n",
    "\n",
    "#Login in the outlook account using the define variables username and password\n",
    "outlServer.login(myMail, password)"
   ]
  },
  {
   "cell_type": "code",
   "execution_count": null,
   "metadata": {},
   "outputs": [],
   "source": [
    "#Definition of the function to send emails\n",
    "def send_msg(To, From, Subject, Message, s_attach):\n",
    "    msg = MIMEMultipart()\n",
    "    msg['From'] = From\n",
    "    msg['To'] = To\n",
    "    msg['Subject'] = Subject\n",
    "    msg_content = MIMEText(Message, 'html', 'utf-8')\n",
    "    msg.attach(msg_content)\n",
    "       \n",
    "    if s_attach == True:\n",
    "        with open('error_report_%s.xlsx' % today, 'rb') as e:\n",
    "            exc = MIMEBase('application', 'octet-stream', filename='error_report_%s.xlsx' % today)\n",
    "            exc.add_header('content-Disposition', 'attachment', filename='error_report_%s.xlsx' % today)\n",
    "            exc.set_payload(e.read())\n",
    "            encoders.encode_base64(exc)\n",
    "            msg.attach(exc)\n",
    "    \n",
    "    outlServer.sendmail(From, To, msg.as_string())"
   ]
  },
  {
   "cell_type": "code",
   "execution_count": null,
   "metadata": {},
   "outputs": [],
   "source": [
    "for i, sheet in mail_table.iterrows():\n",
    "    if pd.isnull(sheet['Email']) == False:\n",
    "        df_sent = new_table[new_table['Name'] == sheet['Name']]\n",
    "        df_sent.to_excel('error_report_%s.xlsx' % today, index=False)    \n",
    "        excel_formating.format_excel()\n",
    "        if df_sent.shape[0] > 0:\n",
    "            send_msg(sheet['Email'], myMail, subjectEmail , msg1 % sheet['Name'], True)\n",
    "            print(sheet['Email'])\n",
    "        else:\n",
    "            print('Not send to: '+sheet['Email'])"
   ]
  },
  {
   "cell_type": "code",
   "execution_count": null,
   "metadata": {},
   "outputs": [],
   "source": [
    "## General report\n",
    "\n",
    "new_table.to_excel('error_report_%s.xlsx' % today, index=False)    \n",
    "excel_formating.format_excel()"
   ]
  },
  {
   "cell_type": "code",
   "execution_count": null,
   "metadata": {},
   "outputs": [],
   "source": [
    "send_msg('jonnathan.neira@nub78.com', myMail, subjectEmail , msg1 % 'Jonnathan', True)\n",
    "send_msg('maria.rojas@nub78.com', myMail, subjectEmail , msg1 % 'Maria', True)"
   ]
  },
  {
   "cell_type": "code",
   "execution_count": null,
   "metadata": {},
   "outputs": [],
   "source": [
    "outlServer.quit()"
   ]
  },
  {
   "cell_type": "code",
   "execution_count": null,
   "metadata": {},
   "outputs": [],
   "source": [
    "with open('nub78.txt', 'r') as i:\n",
    "    print(i.read()) "
   ]
  },
  {
   "cell_type": "code",
   "execution_count": null,
   "metadata": {},
   "outputs": [],
   "source": []
  }
 ],
 "metadata": {
  "interpreter": {
   "hash": "87e43e869ebd2c3b1150c2f8834dddb6350409738d96eb8dc26b716e47c2cdf7"
  },
  "kernelspec": {
   "display_name": "Python 3.9.7 ('base')",
   "language": "python",
   "name": "python3"
  },
  "language_info": {
   "codemirror_mode": {
    "name": "ipython",
    "version": 3
   },
   "file_extension": ".py",
   "mimetype": "text/x-python",
   "name": "python",
   "nbconvert_exporter": "python",
   "pygments_lexer": "ipython3",
   "version": "3.9.7"
  },
  "orig_nbformat": 4
 },
 "nbformat": 4,
 "nbformat_minor": 2
}
