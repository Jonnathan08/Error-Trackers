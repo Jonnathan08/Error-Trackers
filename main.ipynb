{
 "cells": [
  {
   "cell_type": "code",
   "execution_count": null,
   "metadata": {},
   "outputs": [],
   "source": [
    "#!pip install sharepy\n",
    "import sharepy \n",
    "import os\n",
    "#System variables\n",
    "MAIL_NUB = os.environ.get('MAIL_NUB')\n",
    "PASS_MAIL_NUB = os.environ.get('PASS_MAIL_NUB')\n",
    "\n",
    "s = sharepy.connect(\"nubsieteocho.sharepoint.com\", MAIL_NUB, PASS_MAIL_NUB)"
   ]
  },
  {
   "cell_type": "code",
   "execution_count": null,
   "metadata": {},
   "outputs": [],
   "source": [
    "import smtplib\n",
    "import pandas as pd\n",
    "from datetime import datetime, timedelta\n",
    "from pandas import Timestamp\n",
    "\n",
    "from email import encoders\n",
    "from os.path import basename\n",
    "from email.mime.text import MIMEText\n",
    "from email.mime.multipart import MIMEMultipart\n",
    "from email.mime.base import MIMEBase"
   ]
  },
  {
   "cell_type": "code",
   "execution_count": null,
   "metadata": {},
   "outputs": [],
   "source": [
    "#import data with the users mails\n",
    "p = s.getfile(\"https://nubsieteocho.sharepoint.com/sites/ODAOPS/Shared%20Documents/General/CAB%20Trackers/Coverage%20Advisor%20Tracker%20OFICIAL.xlsx\"\\\n",
    "    ,filename = 'Coverage Advisor Tracker OFICIAL.xlsx')\n",
    "ca = pd.read_excel ('Coverage Advisor Tracker OFICIAL.xlsx')\n",
    "ca"
   ]
  },
  {
   "cell_type": "code",
   "execution_count": null,
   "metadata": {},
   "outputs": [],
   "source": [
    "#for i, j in ca['PAR Received'].iteritems():\n",
    "#    print(str(j) + '/// '+str(type(j)))"
   ]
  },
  {
   "cell_type": "code",
   "execution_count": null,
   "metadata": {},
   "outputs": [],
   "source": [
    "\n",
    "\n",
    "def format_date_column(serie):\n",
    "    format_date = []\n",
    "    for index, value in serie.iteritems():\n",
    "        if type(value) != datetime and type(value) != Timestamp:  \n",
    "            if type(value) == float:\n",
    "                value = datetime.strptime('2030-2-2 00:00:00', '%Y-%m-%d %H:%M:%S')\n",
    "                format_date.append(value)\n",
    "            else: \n",
    "                value = datetime.strptime('2050-2-2 00:00:00', '%Y-%m-%d %H:%M:%S')\n",
    "                format_date.append(value)\n",
    "        else:\n",
    "            value = datetime.strptime(str(value), '%Y-%m-%d %H:%M:%S')\n",
    "            format_date.append(value)\n",
    "    \n",
    "    return format_date\n",
    "    \n"
   ]
  },
  {
   "cell_type": "code",
   "execution_count": null,
   "metadata": {},
   "outputs": [],
   "source": [
    "#Compare column R-W"
   ]
  },
  {
   "cell_type": "code",
   "execution_count": null,
   "metadata": {},
   "outputs": [],
   "source": [
    "equality_relation = ca[['Request ID', 'Sav ID','Coverage Advisor','PAR Requested','Date First Contact','PAR Received','Date Analysis','Date Invite Sent','Date Scheduled']]"
   ]
  },
  {
   "cell_type": "code",
   "execution_count": null,
   "metadata": {},
   "outputs": [],
   "source": [
    "equality_relation['PAR Requested'] = format_date_column(equality_relation['PAR Requested'])\n",
    "equality_relation['Date First Contact'] = format_date_column(equality_relation['Date First Contact'])\n",
    "equality_relation['PAR Received'] = format_date_column(equality_relation['PAR Received'])\n",
    "equality_relation['Date Analysis'] = format_date_column(equality_relation['Date Analysis'])\n",
    "equality_relation['Date Invite Sent'] = format_date_column(equality_relation['Date Analysis'])\n",
    "equality_relation['Date Scheduled'] = format_date_column(equality_relation['Date Scheduled'])"
   ]
  },
  {
   "cell_type": "code",
   "execution_count": null,
   "metadata": {},
   "outputs": [],
   "source": [
    "equality_relation['R_less_S'] = int(0)\n",
    "equality_relation['S_less_T'] = int(0)\n",
    "equality_relation['T_less_U'] = int(0)\n",
    "equality_relation['U_less_V'] = int(0)\n",
    "equality_relation['V_less_W'] = int(0)"
   ]
  },
  {
   "cell_type": "code",
   "execution_count": null,
   "metadata": {},
   "outputs": [],
   "source": [
    "for i, value in equality_relation.iterrows():\n",
    "    if value['PAR Requested'] > value['Date First Contact']:\n",
    "        if value['PAR Requested'] == Timestamp('2030-2-2 00:00:00') or value['PAR Requested'] == Timestamp('2050-2-2 00:00:00'):\n",
    "            equality_relation['R_less_S'].iloc[i] = 0\n",
    "        else:\n",
    "            equality_relation['R_less_S'].iloc[i] = 1\n",
    "\n",
    "    if value['Date First Contact'] > value['PAR Received']:\n",
    "        if value['Date First Contact'] == Timestamp('2030-2-2 00:00:00') or value['Date First Contact'] == Timestamp('2050-2-2 00:00:00'):\n",
    "            equality_relation['S_less_T'].iloc[i] = 0\n",
    "        else:\n",
    "            equality_relation['S_less_T'].iloc[i] = 1  \n",
    "\n",
    "    if value['PAR Received'] > value['Date Analysis']:\n",
    "        if value['PAR Received'] == Timestamp('2030-2-2 00:00:00') or value['PAR Received'] == Timestamp('2050-2-2 00:00:00'):\n",
    "            equality_relation['T_less_U'].iloc[i] = 0  \n",
    "        else:\n",
    "            equality_relation['T_less_U'].iloc[i] = 1\n",
    "\n",
    "    if value['Date Analysis'] > value['Date Invite Sent']:\n",
    "        if value['Date Analysis'] == Timestamp('2030-2-2 00:00:00') or value['Date Analysis'] == Timestamp('2050-2-2 00:00:00'):\n",
    "            equality_relation['U_less_V'].iloc[i] = 0\n",
    "        else:\n",
    "            equality_relation['U_less_V'].iloc[i] = 1        \n",
    "\n",
    "    if value['Date Invite Sent'] > value['Date Scheduled']:\n",
    "        if value['Date Invite Sent'] == Timestamp('2030-2-2 00:00:00') or value['Date Invite Sent'] == Timestamp('2050-2-2 00:00:00'):\n",
    "            equality_relation['V_less_W'].iloc[i] = 0\n",
    "        else: \n",
    "            equality_relation['V_less_W'].iloc[i] = 1 "
   ]
  },
  {
   "cell_type": "code",
   "execution_count": null,
   "metadata": {},
   "outputs": [],
   "source": [
    "for i, val in equality_relation.iterrows():\n",
    "\n",
    "    if val['PAR Requested'] == Timestamp('2050-2-2 00:00:00'):\n",
    "        equality_relation['PAR Requested'].iloc[i] = 'Format Error'\n",
    "    else:\n",
    "        equality_relation['PAR Requested'].iloc[i] = ' '\n",
    "\n",
    "    if val['Date First Contact'] == Timestamp('2050-2-2 00:00:00'):\n",
    "        equality_relation['Date First Contact'].iloc[i] = 'Format Error'\n",
    "    else:\n",
    "        equality_relation['Date First Contact'].iloc[i] = ' '\n",
    "    \n",
    "    if val['PAR Received'] == Timestamp('2050-2-2 00:00:00'):\n",
    "        equality_relation['PAR Received'].iloc[i] = 'Format Error'\n",
    "    else:\n",
    "        equality_relation['PAR Received'].iloc[i] = ' '\n",
    "\n",
    "    if val['Date Analysis'] == Timestamp('2050-2-2 00:00:00'):\n",
    "        equality_relation['Date Analysis'].iloc[i] = 'Format Error'\n",
    "    else:\n",
    "        equality_relation['Date Analysis'].iloc[i] = ' '\n",
    "    \n",
    "    if val['Date Invite Sent'] == Timestamp('2050-2-2 00:00:00'):\n",
    "        equality_relation['Date Invite Sent'].iloc[i] = 'Format Error'\n",
    "    else:\n",
    "        equality_relation['Date Invite Sent'].iloc[i] = ' '\n",
    "    \n",
    "    if val['Date Scheduled'] == Timestamp('2050-2-2 00:00:00'):\n",
    "        equality_relation['Date Scheduled'].iloc[i] = 'Format Error'\n",
    "    else:\n",
    "        equality_relation['Date Scheduled'].iloc[i] = ' '\n"
   ]
  },
  {
   "cell_type": "code",
   "execution_count": null,
   "metadata": {},
   "outputs": [],
   "source": [
    "equality_relation.to_excel('test.xlsx')"
   ]
  },
  {
   "cell_type": "code",
   "execution_count": null,
   "metadata": {},
   "outputs": [],
   "source": []
  }
 ],
 "metadata": {
  "interpreter": {
   "hash": "59a5cf5afc9bb8dd5c0b7c811dd61d424d750a3d732b2b54623aa1d472071de7"
  },
  "kernelspec": {
   "display_name": "Python 3.9.7 ('base')",
   "language": "python",
   "name": "python3"
  },
  "language_info": {
   "codemirror_mode": {
    "name": "ipython",
    "version": 3
   },
   "file_extension": ".py",
   "mimetype": "text/x-python",
   "name": "python",
   "nbconvert_exporter": "python",
   "pygments_lexer": "ipython3",
   "version": "3.10.2"
  },
  "orig_nbformat": 4
 },
 "nbformat": 4,
 "nbformat_minor": 2
}
