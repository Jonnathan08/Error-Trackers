{
 "cells": [
  {
   "cell_type": "code",
   "execution_count": null,
   "metadata": {},
   "outputs": [],
   "source": [
    "#!pip install sharepy\n",
    "import sharepy \n",
    "import os\n",
    "#System variables\n",
    "MAIL_NUB = os.environ.get('MAIL_NUB')\n",
    "PASS_MAIL_NUB = os.environ.get('PASS_MAIL_NUB')\n",
    "\n",
    "s = sharepy.connect(\"nubsieteocho.sharepoint.com\", MAIL_NUB, PASS_MAIL_NUB)"
   ]
  },
  {
   "cell_type": "code",
   "execution_count": null,
   "metadata": {},
   "outputs": [],
   "source": [
    "import smtplib\n",
    "import pandas as pd\n",
    "from datetime import datetime, timedelta\n",
    "from pandas import Timestamp\n",
    "\n",
    "from email import encoders\n",
    "from os.path import basename\n",
    "from email.mime.text import MIMEText\n",
    "from email.mime.multipart import MIMEMultipart\n",
    "from email.mime.base import MIMEBase"
   ]
  },
  {
   "cell_type": "code",
   "execution_count": null,
   "metadata": {},
   "outputs": [],
   "source": [
    "#import data with the users mails\n",
    "p = s.getfile(\"https://nubsieteocho.sharepoint.com/sites/ODAOPS/Shared%20Documents/General/CAB%20Trackers/Coverage%20Advisor%20Tracker%20OFICIAL.xlsx\"\\\n",
    "    ,filename = 'Coverage Advisor Tracker OFICIAL.xlsx')\n",
    "ca = pd.read_excel ('Coverage Advisor Tracker OFICIAL.xlsx')\n",
    "ca"
   ]
  },
  {
   "cell_type": "code",
   "execution_count": null,
   "metadata": {},
   "outputs": [],
   "source": [
    "#for i, j in ca['PAR Received'].iteritems():\n",
    "#    print(str(j) + '/// '+str(type(j)))"
   ]
  },
  {
   "cell_type": "code",
   "execution_count": null,
   "metadata": {},
   "outputs": [],
   "source": [
    "\n",
    "\n",
    "def format_date_column(serie):\n",
    "    format_date = []\n",
    "    for index, value in serie.iteritems():\n",
    "        if type(value) != datetime and type(value) != Timestamp:  \n",
    "            if type(value) == float or value != value:\n",
    "                value = datetime.strptime('2030-2-2 00:00:00', '%Y-%m-%d %H:%M:%S')\n",
    "                format_date.append(value)\n",
    "            else: \n",
    "                value = datetime.strptime('2050-2-2 00:00:00', '%Y-%m-%d %H:%M:%S')\n",
    "                format_date.append(value)\n",
    "        else:\n",
    "            value = datetime.strptime(str(value), '%Y-%m-%d %H:%M:%S')\n",
    "            format_date.append(value)\n",
    "    \n",
    "    return format_date\n",
    "    \n"
   ]
  },
  {
   "cell_type": "markdown",
   "metadata": {},
   "source": [
    "### Celdas vacías"
   ]
  },
  {
   "cell_type": "code",
   "execution_count": null,
   "metadata": {},
   "outputs": [],
   "source": [
    "#Aqui va el codigo"
   ]
  },
  {
   "cell_type": "markdown",
   "metadata": {},
   "source": [
    "### Compare column R-W"
   ]
  },
  {
   "cell_type": "code",
   "execution_count": null,
   "metadata": {},
   "outputs": [],
   "source": [
    "equality_relation = ca[['Request ID','PAR Requested','Date First Contact','PAR Received','Date Analysis','Date Invite Sent','Date Scheduled']]"
   ]
  },
  {
   "cell_type": "code",
   "execution_count": null,
   "metadata": {},
   "outputs": [],
   "source": [
    "#for i, j in equality_relation['Date Analysis'].iteritems():\n",
    "#    print(str(j) + '/// '+str(type(j)))"
   ]
  },
  {
   "cell_type": "code",
   "execution_count": null,
   "metadata": {},
   "outputs": [],
   "source": [
    "equality_relation['PAR Requested'] = format_date_column(equality_relation['PAR Requested'])\n",
    "equality_relation['Date First Contact'] = format_date_column(equality_relation['Date First Contact'])\n",
    "equality_relation['PAR Received'] = format_date_column(equality_relation['PAR Received'])\n",
    "equality_relation['Date Analysis'] = format_date_column(equality_relation['Date Analysis'])\n",
    "equality_relation['Date Invite Sent'] = format_date_column(equality_relation['Date Analysis'])\n",
    "equality_relation['Date Scheduled'] = format_date_column(equality_relation['Date Scheduled'])"
   ]
  },
  {
   "cell_type": "code",
   "execution_count": null,
   "metadata": {},
   "outputs": [],
   "source": [
    "equality_relation['R_less_S'] = int(0)\n",
    "equality_relation['S_less_T'] = int(0)\n",
    "equality_relation['T_less_U'] = int(0)\n",
    "equality_relation['U_less_V'] = int(0)\n",
    "equality_relation['V_less_W'] = int(0)"
   ]
  },
  {
   "cell_type": "code",
   "execution_count": null,
   "metadata": {},
   "outputs": [],
   "source": [
    "for i, value in equality_relation.iterrows():\n",
    "    if value['PAR Requested'] > value['Date First Contact']:\n",
    "        if value['PAR Requested'] == Timestamp('2030-2-2 00:00:00') or value['PAR Requested'] == Timestamp('2050-2-2 00:00:00'):\n",
    "            equality_relation['R_less_S'].iloc[i] = 0\n",
    "        else:\n",
    "            equality_relation['R_less_S'].iloc[i] = 1\n",
    "\n",
    "    if value['Date First Contact'] > value['PAR Received']:\n",
    "        if value['Date First Contact'] == Timestamp('2030-2-2 00:00:00') or value['Date First Contact'] == Timestamp('2050-2-2 00:00:00'):\n",
    "            equality_relation['S_less_T'].iloc[i] = 0\n",
    "        else:\n",
    "            equality_relation['S_less_T'].iloc[i] = 1  \n",
    "\n",
    "    if value['PAR Received'] > value['Date Analysis']:\n",
    "        if value['PAR Received'] == Timestamp('2030-2-2 00:00:00') or value['PAR Received'] == Timestamp('2050-2-2 00:00:00'):\n",
    "            equality_relation['T_less_U'].iloc[i] = 0  \n",
    "        else:\n",
    "            equality_relation['T_less_U'].iloc[i] = 1\n",
    "\n",
    "    if value['Date Analysis'] > value['Date Invite Sent']:\n",
    "        if value['Date Analysis'] == Timestamp('2030-2-2 00:00:00') or value['Date Analysis'] == Timestamp('2050-2-2 00:00:00'):\n",
    "            equality_relation['U_less_V'].iloc[i] = 0\n",
    "        else:\n",
    "            equality_relation['U_less_V'].iloc[i] = 1        \n",
    "\n",
    "    if value['Date Invite Sent'] > value['Date Scheduled']:\n",
    "        if value['Date Invite Sent'] == Timestamp('2030-2-2 00:00:00') or value['Date Invite Sent'] == Timestamp('2050-2-2 00:00:00'):\n",
    "            equality_relation['V_less_W'].iloc[i] = 0\n",
    "        else: \n",
    "            equality_relation['V_less_W'].iloc[i] = 1 "
   ]
  },
  {
   "cell_type": "code",
   "execution_count": null,
   "metadata": {},
   "outputs": [],
   "source": [
    "for i, val in equality_relation.iterrows():\n",
    "\n",
    "    if val['PAR Requested'] == Timestamp('2050-2-2 00:00:00'):\n",
    "        equality_relation['PAR Requested'].iloc[i] = 'Format Error'\n",
    "    else:\n",
    "        equality_relation['PAR Requested'].iloc[i] = ' '\n",
    "\n",
    "    if val['Date First Contact'] == Timestamp('2050-2-2 00:00:00'):\n",
    "        equality_relation['Date First Contact'].iloc[i] = 'Format Error'\n",
    "    else:\n",
    "        equality_relation['Date First Contact'].iloc[i] = ' '\n",
    "    \n",
    "    if val['PAR Received'] == Timestamp('2050-2-2 00:00:00'):\n",
    "        equality_relation['PAR Received'].iloc[i] = 'Format Error'\n",
    "    else:\n",
    "        equality_relation['PAR Received'].iloc[i] = ' '\n",
    "\n",
    "    if val['Date Analysis'] == Timestamp('2050-2-2 00:00:00'):\n",
    "        equality_relation['Date Analysis'].iloc[i] = 'Format Error'\n",
    "    else:\n",
    "        equality_relation['Date Analysis'].iloc[i] = ' '\n",
    "    \n",
    "    if val['Date Invite Sent'] == Timestamp('2050-2-2 00:00:00'):\n",
    "        equality_relation['Date Invite Sent'].iloc[i] = 'Format Error'\n",
    "    else:\n",
    "        equality_relation['Date Invite Sent'].iloc[i] = ' '\n",
    "    \n",
    "    if val['Date Scheduled'] == Timestamp('2050-2-2 00:00:00'):\n",
    "        equality_relation['Date Scheduled'].iloc[i] = 'Format Error'\n",
    "    else:\n",
    "        equality_relation['Date Scheduled'].iloc[i] = ' '\n"
   ]
  },
  {
   "cell_type": "markdown",
   "metadata": {},
   "source": [
    "### Familiar Relation"
   ]
  },
  {
   "cell_type": "code",
   "execution_count": null,
   "metadata": {},
   "outputs": [],
   "source": [
    "\n",
    "familiar_relation = ca[['Request ID','Account Stage','Status','Reason Declined','Pre-Readout Effort (min)','Readout Duration (min)','Follow Up Effort (min)']]"
   ]
  },
  {
   "cell_type": "code",
   "execution_count": null,
   "metadata": {},
   "outputs": [],
   "source": [
    "familiar_relation['Error relation X,Y columns'] = ' '\n",
    "familiar_relation['Error Reason Declined'] = ' '\n",
    "familiar_relation['Pre-ReadOut Empty'] = ' '\n",
    "familiar_relation['Empty values in AB and AC'] = ' '\n",
    "\n"
   ]
  },
  {
   "cell_type": "code",
   "execution_count": null,
   "metadata": {},
   "outputs": [],
   "source": [
    "for index, status in familiar_relation.iterrows():\n",
    "    if type(status['Account Stage']) != float and type(status['Status']) != float:\n",
    "        if status['Status'][0] != status['Account Stage'][0]:\n",
    "            familiar_relation['Error relation X,Y columns'].iloc[index] = 'Error'\n",
    "        else:\n",
    "            if status['Account Stage'][0] == 'E' and status['Status'][2]== 'D' and type(status['Reason Declined']) == float:\n",
    "                familiar_relation['Error Reason Declined'].iloc[index] = 'Error'\n",
    "        \n",
    "    if type(status['Pre-Readout Effort (min)']) != int:\n",
    "        if type(status['Pre-Readout Effort (min)']) == float:\n",
    "            if type(status['Status']) != float:\n",
    "                if status['Status'][2] != 'U':\n",
    "                    familiar_relation['Pre-ReadOut Empty'].iloc[index] = 'Error'\n",
    "\n",
    "    if type(status['Account Stage']) != float:\n",
    "        if status['Account Stage'][0] == 'F' and (type(status['Readout Duration (min)']) == float or type(status['Follow Up Effort (min)']) == float):\n",
    "            familiar_relation['Empty values in AB and AC'].iloc[index] = 'Error'\n",
    "\n",
    "\n",
    "    "
   ]
  },
  {
   "cell_type": "code",
   "execution_count": null,
   "metadata": {},
   "outputs": [],
   "source": [
    "familiar_relation = familiar_relation.drop('Account Stage', axis=1)\n",
    "familiar_relation = familiar_relation.drop('Status', axis=1)\n",
    "familiar_relation = familiar_relation.drop('Reason Declined', axis=1)\n",
    "familiar_relation = familiar_relation.drop('Pre-Readout Effort (min)', axis=1)\n",
    "familiar_relation = familiar_relation.drop('Readout Duration (min)', axis=1)\n",
    "familiar_relation = familiar_relation.drop('Follow Up Effort (min)', axis=1)"
   ]
  }
 ],
 "metadata": {
  "interpreter": {
   "hash": "59a5cf5afc9bb8dd5c0b7c811dd61d424d750a3d732b2b54623aa1d472071de7"
  },
  "kernelspec": {
   "display_name": "Python 3.9.7 ('base')",
   "language": "python",
   "name": "python3"
  },
  "language_info": {
   "codemirror_mode": {
    "name": "ipython",
    "version": 3
   },
   "file_extension": ".py",
   "mimetype": "text/x-python",
   "name": "python",
   "nbconvert_exporter": "python",
   "pygments_lexer": "ipython3",
   "version": "3.10.2"
  },
  "orig_nbformat": 4
 },
 "nbformat": 4,
 "nbformat_minor": 2
}
