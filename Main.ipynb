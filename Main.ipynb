{
 "cells": [
  {
   "cell_type": "code",
   "execution_count": null,
   "metadata": {},
   "outputs": [],
   "source": [
    "#!pip install sharepy\n",
    "import sharepy \n",
    "import os\n",
    "#System variables\n",
    "MAIL_NUB = os.environ.get('MAIL_NUB')\n",
    "PASS_MAIL_NUB = os.environ.get('PASS_MAIL_NUB')\n",
    "s = sharepy.connect(\"nubsieteocho.sharepoint.com\", MAIL_NUB, PASS_MAIL_NUB)"
   ]
  },
  {
   "cell_type": "code",
   "execution_count": null,
   "metadata": {},
   "outputs": [],
   "source": [
    "import smtplib\n",
    "import pandas as pd\n",
    "from datetime import datetime, timedelta\n",
    "from pandas import Timestamp\n",
    "\n",
    "from email import encoders\n",
    "from os.path import basename\n",
    "from email.mime.text import MIMEText\n",
    "from email.mime.multipart import MIMEMultipart\n",
    "from email.mime.base import MIMEBase\n",
    "from string import printable"
   ]
  },
  {
   "cell_type": "code",
   "execution_count": null,
   "metadata": {},
   "outputs": [],
   "source": [
    "#import data\n",
    "p = s.getfile(\"https://nubsieteocho.sharepoint.com/sites/ODAOPS/Shared%20Documents/General/CAB%20Trackers/Daily%20CAB%20Tracker.xlsx\"\\\n",
    "    ,filename = 'Daily CAB Tracker.xlsx')\n",
    "df_compass = pd.read_excel('Daily CAB Tracker.xlsx', sheet_name='Tracker')\n",
    "df_compass.dropna(axis=0, how='all', subset=['Request ID', 'Customer Name'], inplace=True)"
   ]
  },
  {
   "cell_type": "code",
   "execution_count": null,
   "metadata": {},
   "outputs": [],
   "source": [
    "#SMTP Mail variables\n",
    "today = datetime.strftime(datetime.today(), '%m-%d-%Y')\n",
    "myMail = 'testNub78@outlook.com'\n",
    "password = 'EasyP4ssword78'\n",
    "subjectEmail = 'Coverage error report'\n",
    "\n",
    "msg1 = \"\"\"<h3>Hola, %s</h3>\n",
    "        <p><span style=\"color: rgb(71, 85, 119);\">Parece que tienes varios errores en la informaci&oacute;n registrada en tus cuentas.</span></p>\n",
    "        <p><span style=\"color: rgb(71, 85, 119);\">Asegurate de revisar el archivo adjunto para validar los campos que est&aacute;n generando conflictos.</span></p>\n",
    "        <p><span style=\"color: rgb(71, 85, 119);\">Feliz D&iacute;a.</span></p>\"\"\""
   ]
  },
  {
   "cell_type": "code",
   "execution_count": null,
   "metadata": {},
   "outputs": [],
   "source": [
    "def format_date_column(serie):\n",
    "    format_date = []\n",
    "    for index, value in serie.iteritems():\n",
    "        if type(value) != datetime and type(value) != Timestamp:  \n",
    "            if pd.isnull(value) or value != value:\n",
    "                #Fechas vacias\n",
    "                value = datetime.strptime('2030-2-2 00:00:00', '%Y-%m-%d %H:%M:%S')\n",
    "                format_date.append(value)\n",
    "            else: \n",
    "                #Error de formato\n",
    "                value = datetime.strptime('2050-2-2 00:00:00', '%Y-%m-%d %H:%M:%S')\n",
    "                format_date.append(value)\n",
    "        else:\n",
    "            #Fechas normales\n",
    "            value = datetime.strptime(str(value), '%Y-%m-%d %H:%M:%S')\n",
    "            format_date.append(value)\n",
    "    \n",
    "    return format_date\n",
    "    "
   ]
  },
  {
   "cell_type": "code",
   "execution_count": null,
   "metadata": {},
   "outputs": [],
   "source": [
    "# Advisor // Advisor Name // Date Advisor Assigned\n",
    "\n",
    "Advisor = df_compass[['Request ID', 'RR (internal)', 'Advisor', 'Advisor Name', 'Date Advisor Assigned']].copy()\n",
    "Advisor['Date Advisor Assigned'] = format_date_column(Advisor['Date Advisor Assigned']) \n",
    "\n",
    "for id, row in Advisor.iterrows():\n",
    "    if row['RR (internal)'] == 'Yes':\n",
    "        if pd.isnull(row['Advisor']) == True:\n",
    "            Advisor.loc[id, 'Advisor'] = 'Empty'\n",
    "        else:\n",
    "            Advisor.loc[id, 'Advisor'] = None\n",
    "\n",
    "        if pd.isnull(row['Advisor Name']) == True:\n",
    "            Advisor.loc[id, 'Advisor Name'] = 'Empty Name'\n",
    "        else:\n",
    "            Advisor.loc[id, 'Advisor Name'] = None\n",
    "\n",
    "        if row['Date Advisor Assigned'] == Timestamp('2030-2-2 00:00:00'):\n",
    "            Advisor.loc[id, 'Date Advisor Assigned'] = 'Empty date'\n",
    "        elif row['Date Advisor Assigned'] == Timestamp('2050-2-2 00:00:00'):\n",
    "            Advisor.loc[id, 'Date Advisor Assigned'] = 'Format Error'\n",
    "        else:\n",
    "            Advisor.loc[id, 'Date Advisor Assigned'] = None    \n",
    "    else:\n",
    "        Advisor.loc[id, 'Advisor'] = None\n",
    "        Advisor.loc[id, 'Advisor Name'] = None\n",
    "        Advisor.loc[id, 'Date Advisor Assigned'] = None\n",
    "\n",
    "Advisor.dropna(axis=0, how='all', subset=['Advisor', 'Advisor Name', 'Date Advisor Assigned'], inplace=True)\n",
    "Advisor.drop(axis=1, columns=['RR (internal)'], inplace=True)"
   ]
  },
  {
   "cell_type": "code",
   "execution_count": null,
   "metadata": {},
   "outputs": [],
   "source": [
    "# Date Readaout Done\n",
    "\n",
    "dat_rdone = df_compass[['Request ID', 'Date Advisor Assigned', 'Date Readout Done']].copy()\n",
    "dat_rdone['Date Advisor Assigned'] = format_date_column(dat_rdone['Date Advisor Assigned']) \n",
    "dat_rdone['Date Readout Done'] = format_date_column(dat_rdone['Date Readout Done']) \n",
    "\n",
    "for id, row in dat_rdone.iterrows():\n",
    "    if row['Date Readout Done'] != Timestamp('2030-2-2 00:00:00') and row['Date Readout Done'] != Timestamp('2050-2-2 00:00:00'):\n",
    "        if row['Date Advisor Assigned'] != Timestamp('2030-2-2 00:00:00') and row['Date Advisor Assigned'] != Timestamp('2050-2-2 00:00:00'):\n",
    "            if row['Date Advisor Assigned'] > row['Date Readout Done']:\n",
    "                dat_rdone.loc[id, 'Date Readout Done'] = 'Date Advisor Assigned greater'\n",
    "            else:\n",
    "                dat_rdone.loc[id, 'Date Readout Done'] = None\n",
    "        else:\n",
    "            dat_rdone.loc[id, 'Date Readout Done'] = None \n",
    "    elif row['Date Readout Done'] == Timestamp('2030-2-2 00:00:00') and row['Date Advisor Assigned'] != Timestamp('2030-2-2 00:00:00'):\n",
    "        dat_rdone.loc[id, 'Date Readout Done'] = 'Empty Date'\n",
    "    elif row['Date Readout Done'] == Timestamp('2050-2-2 00:00:00'):\n",
    "        dat_rdone.loc[id, 'Date Readout Done'] = 'Format error'\n",
    "    else:\n",
    "        dat_rdone.loc[id, 'Date Readout Done'] = None\n",
    "\n",
    "dat_rdone.dropna(axis=0, subset=['Date Readout Done'], inplace=True)\n",
    "dat_rdone.drop(axis=1, columns=['Date Advisor Assigned'], inplace=True)"
   ]
  },
  {
   "cell_type": "code",
   "execution_count": 81,
   "metadata": {},
   "outputs": [],
   "source": [
    "# Merge\n",
    "\n",
    "final_report = Advisor.merge(dat_rdone, how='outer', left_on='Request ID', right_on='Request ID')"
   ]
  },
  {
   "cell_type": "code",
   "execution_count": null,
   "metadata": {},
   "outputs": [],
   "source": []
  }
 ],
 "metadata": {
  "interpreter": {
   "hash": "59a5cf5afc9bb8dd5c0b7c811dd61d424d750a3d732b2b54623aa1d472071de7"
  },
  "kernelspec": {
   "display_name": "Python 3.9.7 ('base')",
   "language": "python",
   "name": "python3"
  },
  "language_info": {
   "codemirror_mode": {
    "name": "ipython",
    "version": 3
   },
   "file_extension": ".py",
   "mimetype": "text/x-python",
   "name": "python",
   "nbconvert_exporter": "python",
   "pygments_lexer": "ipython3",
   "version": "3.10.2"
  },
  "orig_nbformat": 4
 },
 "nbformat": 4,
 "nbformat_minor": 2
}
