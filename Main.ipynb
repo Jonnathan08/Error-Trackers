{
 "cells": [
  {
   "cell_type": "code",
   "execution_count": null,
   "metadata": {},
   "outputs": [],
   "source": [
    "#!pip install sharepy\n",
    "import sharepy \n",
    "import os\n",
    "#System variables\n",
    "MAIL_NUB = os.environ.get('MAIL_NUB')\n",
    "PASS_MAIL_NUB = os.environ.get('PASS_MAIL_NUB')\n",
    "s = sharepy.connect(\"nubsieteocho.sharepoint.com\", MAIL_NUB, PASS_MAIL_NUB)"
   ]
  },
  {
   "cell_type": "code",
   "execution_count": null,
   "metadata": {},
   "outputs": [],
   "source": [
    "import smtplib\n",
    "import pandas as pd\n",
    "from datetime import datetime, timedelta\n",
    "from pandas import Timestamp\n",
    "\n",
    "from email import encoders\n",
    "from os.path import basename\n",
    "from email.mime.text import MIMEText\n",
    "from email.mime.multipart import MIMEMultipart\n",
    "from email.mime.base import MIMEBase\n",
    "from string import printable"
   ]
  },
  {
   "cell_type": "code",
   "execution_count": null,
   "metadata": {},
   "outputs": [],
   "source": [
    "#import data\n",
    "p = s.getfile(\"https://nubsieteocho.sharepoint.com/sites/ODAOPS/Shared%20Documents/General/CAB%20Trackers/Daily%20CAB%20Tracker.xlsx\",\n",
    "              filename='Daily CAB Tracker.xlsx')\n",
    "df_compass = pd.read_excel('Daily CAB Tracker.xlsx', sheet_name='Tracker')\n",
    "df_compass.dropna(axis=0, how='all', subset=['Request ID', 'Customer Name'], inplace=True)\n"
   ]
  },
  {
   "cell_type": "code",
   "execution_count": null,
   "metadata": {},
   "outputs": [],
   "source": [
    "# SMTP Mail variables\n",
    "today = datetime.strftime(datetime.today(), '%m-%d-%Y')\n",
    "myMail = 'testNub78@outlook.com'\n",
    "password = 'EasyP4ssword78'\n",
    "subjectEmail = 'Coverage error report'\n",
    "\n",
    "msg1 = \"\"\"<h3>Hola, %s</h3>\n",
    "        <p><span style=\"color: rgb(71, 85, 119);\">Parece que tienes varios errores en la informaci&oacute;n registrada en tus cuentas.</span></p>\n",
    "        <p><span style=\"color: rgb(71, 85, 119);\">Asegurate de revisar el archivo adjunto para validar los campos que est&aacute;n generando conflictos.</span></p>\n",
    "        <p><span style=\"color: rgb(71, 85, 119);\">Feliz D&iacute;a.</span></p>\"\"\"\n"
   ]
  },
  {
   "cell_type": "code",
   "execution_count": null,
   "metadata": {},
   "outputs": [],
   "source": [
    "def format_date_column(serie):\n",
    "    format_date = []\n",
    "    for index, value in serie.iteritems():\n",
    "        if type(value) != datetime and type(value) != Timestamp:\n",
    "            if pd.isnull(value) or value != value:\n",
    "                # Fechas vacias\n",
    "                value = datetime.strptime(\n",
    "                    '2030-2-2 00:00:00', '%Y-%m-%d %H:%M:%S')\n",
    "                format_date.append(value)\n",
    "            else:\n",
    "                # Error de formato\n",
    "                value = datetime.strptime(\n",
    "                    '2050-2-2 00:00:00', '%Y-%m-%d %H:%M:%S')\n",
    "                format_date.append(value)\n",
    "        else:\n",
    "            # Fechas normales\n",
    "            value = datetime.strptime(str(value), '%Y-%m-%d %H:%M:%S')\n",
    "            format_date.append(value)\n",
    "\n",
    "    return format_date\n"
   ]
  },
  {
   "cell_type": "code",
   "execution_count": null,
   "metadata": {},
   "outputs": [],
   "source": [
    "# Advisor // Advisor Name // Date Advisor Assigned\n",
    "\n",
    "Advisor = df_compass[['Request ID', 'RR (internal)', 'Advisor', 'Advisor Name', 'Date Advisor Assigned']].copy()\n",
    "Advisor['Date Advisor Assigned'] = format_date_column(Advisor['Date Advisor Assigned']) \n",
    "\n",
    "for id, row in Advisor.iterrows():\n",
    "    if row['RR (internal)'] == 'Yes':\n",
    "        if pd.isnull(row['Advisor']) == True:\n",
    "            Advisor.loc[id, 'Advisor'] = 'Empty'\n",
    "        else:\n",
    "            Advisor.loc[id, 'Advisor'] = None\n",
    "\n",
    "        if pd.isnull(row['Advisor Name']) == True:\n",
    "            Advisor.loc[id, 'Advisor Name'] = 'Empty Name'\n",
    "        else:\n",
    "            Advisor.loc[id, 'Advisor Name'] = None\n",
    "\n",
    "        if row['Date Advisor Assigned'] == Timestamp('2030-2-2 00:00:00'):\n",
    "            Advisor.loc[id, 'Date Advisor Assigned'] = 'Empty date'\n",
    "        elif row['Date Advisor Assigned'] == Timestamp('2050-2-2 00:00:00'):\n",
    "            Advisor.loc[id, 'Date Advisor Assigned'] = 'Format Error'\n",
    "        else:\n",
    "            Advisor.loc[id, 'Date Advisor Assigned'] = None    \n",
    "    else:\n",
    "        Advisor.loc[id, 'Advisor'] = None\n",
    "        Advisor.loc[id, 'Advisor Name'] = None\n",
    "        Advisor.loc[id, 'Date Advisor Assigned'] = None\n",
    "\n",
    "Advisor.dropna(axis=0, how='all', subset=['Advisor', 'Advisor Name', 'Date Advisor Assigned'], inplace=True)\n",
    "Advisor.drop(axis=1, columns=['RR (internal)'], inplace=True)"
   ]
  },
  {
   "cell_type": "code",
   "execution_count": null,
   "metadata": {},
   "outputs": [],
   "source": [
    "# Date Readaout Done\n",
    "\n",
    "dat_rdone = df_compass[['Request ID', 'Date Advisor Assigned', 'Date Readout Done']].copy()\n",
    "dat_rdone['Date Advisor Assigned'] = format_date_column(dat_rdone['Date Advisor Assigned']) \n",
    "dat_rdone['Date Readout Done'] = format_date_column(dat_rdone['Date Readout Done']) \n",
    "\n",
    "for id, row in dat_rdone.iterrows():\n",
    "    if row['Date Readout Done'] != Timestamp('2030-2-2 00:00:00') and row['Date Readout Done'] != Timestamp('2050-2-2 00:00:00'):\n",
    "        if row['Date Advisor Assigned'] != Timestamp('2030-2-2 00:00:00') and row['Date Advisor Assigned'] != Timestamp('2050-2-2 00:00:00'):\n",
    "            if row['Date Advisor Assigned'] > row['Date Readout Done']:\n",
    "                dat_rdone.loc[id, 'Date Readout Done'] = 'Date Advisor Assigned greater'\n",
    "            else:\n",
    "                dat_rdone.loc[id, 'Date Readout Done'] = None\n",
    "        else:\n",
    "            dat_rdone.loc[id, 'Date Readout Done'] = None \n",
    "    elif row['Date Readout Done'] == Timestamp('2030-2-2 00:00:00') and row['Date Advisor Assigned'] != Timestamp('2030-2-2 00:00:00'):\n",
    "        dat_rdone.loc[id, 'Date Readout Done'] = 'Empty Date'\n",
    "    elif row['Date Readout Done'] == Timestamp('2050-2-2 00:00:00'):\n",
    "        dat_rdone.loc[id, 'Date Readout Done'] = 'Format error'\n",
    "    else:\n",
    "        dat_rdone.loc[id, 'Date Readout Done'] = None\n",
    "\n",
    "dat_rdone.dropna(axis=0, subset=['Date Readout Done'], inplace=True)\n",
    "dat_rdone.drop(axis=1, columns=['Date Advisor Assigned'], inplace=True)"
   ]
  },
  {
   "cell_type": "code",
   "execution_count": null,
   "metadata": {},
   "outputs": [],
   "source": [
    "# Readout delivery status\n",
    "\n",
    "del_status = df_compass[['Request ID',\n",
    "                         'Date Readout Done', 'Readout Delivery Status']].copy()\n",
    "\n",
    "for id, row in del_status.iterrows():\n",
    "    if pd.isna(row['Date Readout Done']) == False and pd.isna(row['Readout Delivery Status']) == True:\n",
    "        del_status.loc[id, 'Readout Delivery Status'] = 'Empty value'\n",
    "    else:\n",
    "        del_status.loc[id, 'Readout Delivery Status'] = None\n",
    "\n",
    "del_status.dropna(axis=0, subset=['Readout Delivery Status'], inplace=True)\n",
    "del_status.drop(axis=1, columns=['Date Readout Done'], inplace=True)\n"
   ]
  },
  {
   "cell_type": "code",
   "execution_count": null,
   "metadata": {},
   "outputs": [],
   "source": [
    "# Reason Declined // Item recommended\n",
    "\n",
    "res_declined = df_compass[['Request ID', 'Readout Delivery Status',\n",
    "                           'Reason Declined', 'Items Recommended']].copy()\n",
    "\n",
    "for id, row in res_declined.iterrows():\n",
    "    if row['Readout Delivery Status'] == 'Declined' and pd.isna(row['Reason Declined']) == True:\n",
    "        res_declined.loc[id, 'Reason Declined'] = 'Empty value'\n",
    "    elif (row['Readout Delivery Status'] == 'Complete' or row['Readout Delivery Status'] == 'Emailed Recommendations') and pd.isna(row['Items Recommended']) == True:\n",
    "        res_declined.loc[id, 'Items Recommended'] = 'Empty value'\n",
    "    else:\n",
    "        res_declined.loc[id, 'Reason Declined'] = None\n",
    "        res_declined.loc[id, 'Items Recommended'] = None\n",
    "\n",
    "res_declined.dropna(axis=0, how='all', subset=[\n",
    "                    'Reason Declined', 'Items Recommended'], inplace=True)\n",
    "res_declined.drop(axis=1, columns=['Readout Delivery Status'], inplace=True)\n"
   ]
  },
  {
   "cell_type": "code",
   "execution_count": null,
   "metadata": {},
   "outputs": [],
   "source": [
    "# Mayor Renewal QTR\n",
    "\n",
    "ren_qtr = df_compass[['Request ID', 'Major Renewal QTR', 'Date Presentation Created']] \n",
    "ren_qtr = ren_qtr[pd.isna(ren_qtr['Major Renewal QTR']) & pd.notna(ren_qtr['Date Presentation Created'])]\n",
    "ren_qtr.fillna('Empty value', inplace=True)\n",
    "ren_qtr.drop(axis=1, columns='Date Presentation Created', inplace=True)"
   ]
  },
  {
   "cell_type": "code",
   "execution_count": null,
   "metadata": {},
   "outputs": [],
   "source": [
    "# Date presentation Created\n",
    "# Note: The column date readout done do not have the correct format (it's string)\n",
    "\n",
    "pre_created = df_compass[['Request ID', 'Date Advisor Assigned', 'Date Presentation Created']].copy()\n",
    "pre_created['Date Advisor Assigned'] = format_date_column(pre_created['Date Advisor Assigned']) \n",
    "pre_created['Date Presentation Created'] = format_date_column(pre_created['Date Presentation Created']) \n",
    "pre_created = pre_created[(pre_created['Date Presentation Created'] < pre_created['Date Advisor Assigned'])]\n",
    "pre_created.drop(labels=pre_created[pre_created['Date Advisor Assigned'] == '2030-02-02'].index, axis=0, inplace=True)\n",
    "pre_created.drop(labels=pre_created[pre_created['Date Advisor Assigned'] == '2050-02-02'].index, axis=0, inplace=True)\n",
    "pre_created['Date Presentation Created'] = 'Date Advisor Assigned is greater'\n",
    "pre_created.drop(axis=1, columns=['Date Advisor Assigned'], inplace=True)"
   ]
  },
  {
   "cell_type": "code",
   "execution_count": null,
   "metadata": {},
   "outputs": [],
   "source": [
    "# Presentation Creation Time (min)\n",
    "\n",
    "pre_created_tim = df_compass[['Request ID', 'Date Presentation Created', 'Presentation Creation Time (min)']].copy()\n",
    "pre_created_tim = pre_created_tim[(pd.notna(pre_created_tim['Date Presentation Created'])) & (pd.isna(pre_created_tim['Presentation Creation Time (min)']))]\n",
    "pre_created_tim['Presentation Creation Time (min)'] = 'Empty value'\n",
    "pre_created_tim.drop(axis=1, columns=['Date Presentation Created'], inplace=True)"
   ]
  },
  {
   "cell_type": "code",
   "execution_count": null,
   "metadata": {},
   "outputs": [],
   "source": [
    "# Readout Duration (min)\n",
    "\n",
    "re_duration_m = df_compass[['Request ID', 'Readout Delivery Status', 'Readout Duration (min)']].copy()\n",
    "re_duration_m = re_duration_m[(re_duration_m['Readout Delivery Status'] == 'Complete') | (re_duration_m['Readout Delivery Status'] == 'Emailed Recommendations')]\n",
    "re_duration_m = re_duration_m[pd.isna(re_duration_m['Readout Duration (min)'])]\n",
    "re_duration_m['Readout Duration (min)'] = 'Empty value'\n",
    "re_duration_m.drop(axis=1, columns=['Readout Delivery Status'], inplace=True)"
   ]
  },
  {
   "cell_type": "code",
   "execution_count": null,
   "metadata": {},
   "outputs": [],
   "source": [
    "# Date Invite Sent\n",
    "\n",
    "dat_invite_s = df_compass[['Request ID', 'Date Advisor Assigned', 'Date Invite Sent']].copy()\n",
    "dat_invite_s['Date Advisor Assigned'] = format_date_column(dat_invite_s['Date Advisor Assigned']) \n",
    "dat_invite_s['Date Invite Sent'] = format_date_column(dat_invite_s['Date Invite Sent'])\n",
    "dat_invite_s = dat_invite_s[dat_invite_s['Date Advisor Assigned'] > dat_invite_s['Date Invite Sent']]\n",
    "dat_invite_s.drop(labels=dat_invite_s[dat_invite_s['Date Advisor Assigned'] == '2030-02-02'].index, axis=0, inplace=True)\n",
    "dat_invite_s.drop(labels=dat_invite_s[dat_invite_s['Date Advisor Assigned'] == '2050-02-02'].index, axis=0, inplace=True)\n",
    "dat_invite_s['Date Invite Sent'] = 'Date Advisor Assigned greater'\n",
    "dat_invite_s.drop(axis=1, columns=['Date Advisor Assigned'], inplace=True)"
   ]
  },
  {
   "cell_type": "code",
   "execution_count": null,
   "metadata": {},
   "outputs": [],
   "source": [
    "# Date Summary Sent\n",
    "# En pausa dado que la columna readout done tiene formato string"
   ]
  },
  {
   "cell_type": "code",
   "execution_count": null,
   "metadata": {},
   "outputs": [],
   "source": [
    "# IB value (in M) // Cover the Uncovered Presented\n",
    "\n",
    "ibvalue_and_cover = df_compass[['Request ID', 'Date Presentation Created', 'IB value (in M)', 'Cover the Uncovered Presented']].copy()\n",
    "ibvalue_and_cover = ibvalue_and_cover[pd.notna(ibvalue_and_cover['Date Presentation Created'])]\n",
    "ibvalue_and_cover = ibvalue_and_cover[(pd.isna(ibvalue_and_cover['IB value (in M)'])) | (pd.isna(ibvalue_and_cover['Cover the Uncovered Presented']))]\n",
    "ibvalue_and_cover.fillna('Empty value', inplace=True)\n",
    "ibvalue_and_cover['Cover the Uncovered Presented'] = ibvalue_and_cover['Cover the Uncovered Presented'].apply(\n",
    "    lambda x: None if x != 'Empty value' else x)\n",
    "ibvalue_and_cover['IB value (in M)'] = ibvalue_and_cover['IB value (in M)'].apply(\n",
    "    lambda x: None if x != 'Empty value' else x)\n",
    "ibvalue_and_cover.drop(axis=1, columns=['Date Presentation Created'], inplace=True)"
   ]
  },
  {
   "cell_type": "code",
   "execution_count": null,
   "metadata": {},
   "outputs": [],
   "source": [
    "# AT Interested (CTU)\n",
    "\n",
    "at_interested = df_compass[['Request ID', 'Readout Delivery Status', 'AT Interested (CTU)']].copy()\n",
    "at_interested = at_interested[(at_interested['Readout Delivery Status'] == 'Complete') &\n",
    "                pd.isnull(at_interested['AT Interested (CTU)'])]\n",
    "at_interested['AT Interested (CTU)'] = 'Empty value'\n",
    "at_interested.drop(axis=1, columns=['Readout Delivery Status'], inplace=True)"
   ]
  },
  {
   "cell_type": "code",
   "execution_count": null,
   "metadata": {},
   "outputs": [],
   "source": [
    "# Merge\n",
    "\n",
    "final_report = Advisor.merge(dat_rdone, how='outer', left_on='Request ID', right_on='Request ID').merge(\n",
    "    del_status, how='outer', left_on='Request ID', right_on='Request ID').merge(\n",
    "    res_declined, how='outer', left_on='Request ID', right_on='Request ID').merge(\n",
    "    ren_qtr, how='outer', left_on='Request ID', right_on='Request ID').merge(\n",
    "    pre_created, how='outer', left_on='Request ID', right_on='Request ID').merge(\n",
    "    pre_created_tim, how='outer', left_on='Request ID', right_on='Request ID').merge(\n",
    "    re_duration_m, how='outer', left_on='Request ID', right_on='Request ID').merge(\n",
    "    dat_invite_s, how='outer', left_on='Request ID', right_on='Request ID').merge(\n",
    "    ibvalue_and_cover, how='outer', left_on='Request ID', right_on='Request ID').merge(\n",
    "    at_interested, how='outer', left_on='Request ID', right_on='Request ID')"
   ]
  },
  {
   "cell_type": "code",
   "execution_count": null,
   "metadata": {},
   "outputs": [],
   "source": [
    "final_report[final_report['Request ID'].duplicated()]"
   ]
  }
 ],
 "metadata": {
  "interpreter": {
   "hash": "59a5cf5afc9bb8dd5c0b7c811dd61d424d750a3d732b2b54623aa1d472071de7"
  },
  "kernelspec": {
   "display_name": "Python 3.9.7 ('base')",
   "language": "python",
   "name": "python3"
  },
  "language_info": {
   "codemirror_mode": {
    "name": "ipython",
    "version": 3
   },
   "file_extension": ".py",
   "mimetype": "text/x-python",
   "name": "python",
   "nbconvert_exporter": "python",
   "pygments_lexer": "ipython3",
   "version": "3.10.2"
  },
  "orig_nbformat": 4
 },
 "nbformat": 4,
 "nbformat_minor": 2
}
