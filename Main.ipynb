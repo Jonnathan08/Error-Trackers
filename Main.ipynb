{
 "cells": [
  {
   "cell_type": "code",
   "execution_count": null,
   "metadata": {},
   "outputs": [],
   "source": [
    "#!pip install sharepy\n",
    "import sharepy \n",
    "import os\n",
    "#System variables\n",
    "MAIL_NUB = os.environ.get('MAIL_NUB')\n",
    "PASS_MAIL_NUB = os.environ.get('PASS_MAIL_NUB')\n",
    "s = sharepy.connect(\"nubsieteocho.sharepoint.com\", MAIL_NUB, PASS_MAIL_NUB)"
   ]
  },
  {
   "cell_type": "code",
   "execution_count": null,
   "metadata": {},
   "outputs": [],
   "source": [
    "import smtplib\n",
    "import pandas as pd\n",
    "from datetime import datetime, timedelta\n",
    "from pandas import Timestamp\n",
    "import format_report\n",
    "\n",
    "from email import encoders\n",
    "from os.path import basename\n",
    "from email.mime.text import MIMEText\n",
    "from email.mime.multipart import MIMEMultipart\n",
    "from email.mime.base import MIMEBase"
   ]
  },
  {
   "cell_type": "code",
   "execution_count": null,
   "metadata": {},
   "outputs": [],
   "source": [
    "def format_date_column(serie):\n",
    "    format_date = []\n",
    "    for id, value in serie.iteritems():\n",
    "        if pd.notna(value) == True:\n",
    "            try:\n",
    "                value = datetime.strptime(str(value), '%Y-%m-%d %H:%M:%S')\n",
    "                format_date.append(value)\n",
    "            except:\n",
    "                try:\n",
    "                    value = datetime.strptime(str(value), '%Y-%m-%d')\n",
    "                    format_date.append(value)\n",
    "                except:\n",
    "                    value = 'Format Error'\n",
    "                    format_date.append(value)\n",
    "        else:\n",
    "            value = 'Empty date'\n",
    "            format_date.append(value)\n",
    "\n",
    "    return format_date"
   ]
  },
  {
   "cell_type": "code",
   "execution_count": null,
   "metadata": {},
   "outputs": [],
   "source": [
    "p = s.getfile(\"https://nubsieteocho.sharepoint.com/sites/ODAOPS/Shared%20Documents/General/CAB%20Trackers/Daily%20CAB%20Tracker.xlsx\",\n",
    "              filename='Daily CAB Tracker.xlsx')\n",
    "df_compass = pd.read_excel('Daily CAB Tracker.xlsx', sheet_name='Tracker')\n",
    "df_compass.dropna(axis=0, how='all', subset=['Request ID', 'Customer Name'], inplace=True)\n",
    "df_compass = df_compass[df_compass['RR (internal)'] == 'Yes']\n",
    "df_compass"
   ]
  },
  {
   "cell_type": "code",
   "execution_count": null,
   "metadata": {},
   "outputs": [],
   "source": [
    "# Eliminating dates older that 2022 from df_compass\n",
    "\n",
    "colm = df_compass[['Date Advisor Assigned']].copy()\n",
    "colm['Date Advisor Assigned'] = format_date_column(colm['Date Advisor Assigned'])\n",
    "idlist = colm[(colm['Date Advisor Assigned'] == 'Empty date') | (colm['Date Advisor Assigned'] == 'Format Error')].index\n",
    "colm.drop(axis=0, labels=idlist, inplace=True)\n",
    "colm = colm[colm['Date Advisor Assigned'] < Timestamp('2022-01-01 00:00:00')]\n",
    "df_compass.drop(axis=0,labels=(colm['Date Advisor Assigned'].index),inplace=True)"
   ]
  },
  {
   "cell_type": "code",
   "execution_count": null,
   "metadata": {},
   "outputs": [],
   "source": [
    "#import data with the mails\n",
    "p = s.getfile(\"https://nubsieteocho.sharepoint.com/sites/ODAOPS/Shared%20Documents/General/Compass%20Names.xlsx\"\\\n",
    "              , filename = 'Compass_mails.xlsx')\n",
    "compass_mails = pd.read_excel ('Compass_mails.xlsx')"
   ]
  },
  {
   "cell_type": "code",
   "execution_count": null,
   "metadata": {},
   "outputs": [],
   "source": [
    "# SMTP Mail variables\n",
    "today = datetime.strftime(datetime.today(), '%m-%d-%Y')\n",
    "myMail = 'testNub78@outlook.com'\n",
    "password = 'EasyP4ssword78'\n",
    "subjectEmail = 'Compass error report'\n",
    "\n",
    "msg1 = \"\"\"<h3>Hola, %s</h3>\n",
    "        <p><span style=\"color: rgb(71, 85, 119);\">Parece que tienes varios errores en la informaci&oacute;n registrada en tus cuentas.</span></p>\n",
    "        <p><span style=\"color: rgb(71, 85, 119);\">Asegurate de revisar el archivo adjunto para validar los campos que est&aacute;n generando conflictos.</span></p>\n",
    "        <p><span style=\"color: rgb(71, 85, 119);\">Feliz D&iacute;a.</span></p>\"\"\"\n"
   ]
  },
  {
   "cell_type": "code",
   "execution_count": null,
   "metadata": {},
   "outputs": [],
   "source": [
    "# Advisor // Advisor Name // Date Advisor Assigned\n",
    "Advisor = df_compass[['Request ID', 'RR (internal)', 'Advisor', 'Advisor Name', 'Date Advisor Assigned']].copy()\n",
    "Advisor = Advisor[Advisor['RR (internal)'] == 'Yes']\n",
    "Advisor['Advisor'] = Advisor['Advisor'].apply(lambda x: None if pd.isna(x) == False else 'Empty value')\n",
    "Advisor['Advisor Name'] = Advisor['Advisor Name'].apply(lambda x: None if pd.isna(x) == False else 'Empty value')\n",
    "Advisor['Date Advisor Assigned'] = Advisor['Date Advisor Assigned'].apply(lambda x: None if pd.isna(x) == False else 'Empty value')\n",
    "Advisor.dropna(axis=0, how='all', subset=['Advisor', 'Advisor Name', 'Date Advisor Assigned'], inplace=True)\n",
    "Advisor.drop(axis=1, columns=['RR (internal)'], inplace=True)"
   ]
  },
  {
   "cell_type": "code",
   "execution_count": null,
   "metadata": {},
   "outputs": [],
   "source": [
    "# Date Readaout Done // Cisco.\n",
    "\n",
    "dat_rdone = df_compass[['Request ID', 'Date Advisor Assigned', 'Date Readout Done']].copy()\n",
    "dat_rdone['Date Advisor Assigned'] = format_date_column(dat_rdone['Date Advisor Assigned']) \n",
    "dat_rdone['Date Readout Done'] = format_date_column(dat_rdone['Date Readout Done'])\n",
    "dat_rdone.drop(axis=0, labels=dat_rdone[(dat_rdone['Date Advisor Assigned'] == 'Empty date') & (dat_rdone['Date Readout Done'] == 'Empty date')].index, inplace=True)\n",
    "dat_rdone.drop(axis=0, labels=dat_rdone[(dat_rdone['Date Advisor Assigned'] == 'Empty date') & (dat_rdone['Date Readout Done'].apply(type) != str)].index, inplace=True)\n",
    "\n",
    "for id, row in dat_rdone.iterrows():\n",
    "    if type(row['Date Readout Done']) == datetime and type(row['Date Advisor Assigned']) == datetime:\n",
    "        if row['Date Advisor Assigned'] > row['Date Readout Done']:\n",
    "            dat_rdone.loc[id, 'Date Readout Done'] = 'Date Advisor Assigned greater'\n",
    "            \n",
    "dat_rdone.drop(axis=0, labels=dat_rdone[dat_rdone['Date Readout Done'].apply(type) == datetime].index, inplace=True)\n",
    "dat_rdone.drop(axis=1, columns=['Date Advisor Assigned'], inplace=True)"
   ]
  },
  {
   "cell_type": "code",
   "execution_count": null,
   "metadata": {},
   "outputs": [],
   "source": [
    "# Readout delivery status\n",
    "\n",
    "del_status = df_compass[['Request ID', 'Date Readout Done', 'Readout Delivery Status']].copy()\n",
    "del_status = del_status[(pd.notna(del_status['Date Readout Done'])) & (pd.isna(del_status['Readout Delivery Status']))]\n",
    "del_status['Readout Delivery Status'] = 'Empty value'\n",
    "del_status.drop(axis=1, columns=['Date Readout Done'], inplace=True)"
   ]
  },
  {
   "cell_type": "code",
   "execution_count": null,
   "metadata": {},
   "outputs": [],
   "source": [
    "# Reason Declined // Item recommended\n",
    "\n",
    "declined = df_compass[['Request ID', 'Readout Delivery Status', 'Reason Declined']]\n",
    "declined = declined[declined['Readout Delivery Status'] == 'Declined']\n",
    "declined = declined[pd.isna(declined['Reason Declined'])]\n",
    "declined['Reason Declined'] = 'Empty value'\n",
    "declined.drop(axis=1, columns=['Readout Delivery Status'], inplace=True)\n",
    "\n",
    "item = df_compass[['Request ID', 'Readout Delivery Status', 'Items Recommended']].copy()\n",
    "item = item[(item['Readout Delivery Status'] == 'Complete') | (item['Readout Delivery Status'] == 'Emailed Recommendations')]\n",
    "item = item[pd.isna(item['Items Recommended'])]\n",
    "item['Items Recommended'] = 'Empty value'\n",
    "item.drop(axis=1, columns=['Readout Delivery Status'], inplace=True)\n",
    "\n",
    "res_declined = declined.merge(item, how='outer', left_on='Request ID', right_on='Request ID')"
   ]
  },
  {
   "cell_type": "code",
   "execution_count": null,
   "metadata": {},
   "outputs": [],
   "source": [
    "# Mayor Renewal QTR\n",
    "\n",
    "ren_qtr = df_compass[['Request ID', 'Major Renewal QTR', 'Date Presentation Created']] \n",
    "ren_qtr = ren_qtr[pd.isna(ren_qtr['Major Renewal QTR']) & pd.notna(ren_qtr['Date Presentation Created'])]\n",
    "ren_qtr.fillna('Empty value', inplace=True)\n",
    "ren_qtr.drop(axis=1, columns='Date Presentation Created', inplace=True)"
   ]
  },
  {
   "cell_type": "code",
   "execution_count": null,
   "metadata": {},
   "outputs": [],
   "source": [
    "# Date presentation Created\n",
    "# Note: The column Date Presentation Created do not have the correct format (it's string)\n",
    "\n",
    "pre_created = df_compass[['Request ID', 'Date Advisor Assigned', 'Date Presentation Created']].copy()\n",
    "pre_created['Date Advisor Assigned'] = format_date_column(pre_created['Date Advisor Assigned']) \n",
    "pre_created['Date Presentation Created'] = format_date_column(pre_created['Date Presentation Created']) \n",
    "pre_created.drop(axis=0, labels=pre_created[(pre_created['Date Advisor Assigned'] == 'Empty date') & (pre_created['Date Presentation Created'] == 'Empty date')].index, inplace=True)\n",
    "pre_created.drop(axis=0, labels=pre_created[(pre_created['Date Advisor Assigned'] == 'Empty date') & (pre_created['Date Presentation Created'].apply(type) != str)].index, inplace=True)\n",
    "\n",
    "for id, row in pre_created.iterrows():\n",
    "    if type(row['Date Presentation Created']) == datetime and type(row['Date Advisor Assigned']) == datetime:\n",
    "        if row['Date Advisor Assigned'] > row['Date Presentation Created']:\n",
    "            pre_created.loc[id, 'Date Presentation Created'] = 'Date Advisor Assigned greater'\n",
    "\n",
    "pre_created.drop(axis=0, labels=pre_created[pre_created['Date Presentation Created'].apply(type) == datetime].index, inplace=True)\n",
    "pre_created.drop(axis=1, columns=['Date Advisor Assigned'], inplace=True)"
   ]
  },
  {
   "cell_type": "code",
   "execution_count": null,
   "metadata": {},
   "outputs": [],
   "source": [
    "# Presentation Creation Time (min)\n",
    "\n",
    "pre_created_tim = df_compass[['Request ID', 'Date Presentation Created', 'Presentation Creation Time (min)']].copy()\n",
    "pre_created_tim = pre_created_tim[(pd.notna(pre_created_tim['Date Presentation Created'])) & (pd.isna(pre_created_tim['Presentation Creation Time (min)']))]\n",
    "pre_created_tim['Presentation Creation Time (min)'] = 'Empty value'\n",
    "pre_created_tim.drop(axis=1, columns=['Date Presentation Created'], inplace=True)"
   ]
  },
  {
   "cell_type": "code",
   "execution_count": null,
   "metadata": {},
   "outputs": [],
   "source": [
    "# Readout Duration (min)\n",
    "\n",
    "re_duration_m = df_compass[['Request ID', 'Readout Delivery Status', 'Readout Duration (min)']].copy()\n",
    "re_duration_m = re_duration_m[(re_duration_m['Readout Delivery Status'] == 'Complete') | (re_duration_m['Readout Delivery Status'] == 'Emailed Recommendations')]\n",
    "re_duration_m = re_duration_m[pd.isna(re_duration_m['Readout Duration (min)'])]\n",
    "re_duration_m['Readout Duration (min)'] = 'Empty value'\n",
    "re_duration_m.drop(axis=1, columns=['Readout Delivery Status'], inplace=True)"
   ]
  },
  {
   "cell_type": "code",
   "execution_count": null,
   "metadata": {},
   "outputs": [],
   "source": [
    "# Date Invite Sent\n",
    "\n",
    "dat_invite_s = df_compass[['Request ID', 'Date Advisor Assigned', 'Date Invite Sent']].copy()\n",
    "dat_invite_s['Date Advisor Assigned'] = format_date_column(dat_invite_s['Date Advisor Assigned']) \n",
    "dat_invite_s['Date Invite Sent'] = format_date_column(dat_invite_s['Date Invite Sent'])\n",
    "dat_invite_s.drop(axis=0, labels=dat_invite_s[(dat_invite_s['Date Advisor Assigned'] == 'Empty date') & (dat_invite_s['Date Invite Sent'] == 'Empty date')].index, inplace=True)\n",
    "dat_invite_s.drop(axis=0, labels=dat_invite_s[(dat_invite_s['Date Advisor Assigned'] == 'Empty date') & (dat_invite_s['Date Invite Sent'].apply(type) != str)].index, inplace=True)\n",
    "\n",
    "for id, row in dat_invite_s.iterrows():\n",
    "    if type(row['Date Advisor Assigned']) == datetime and type(row['Date Invite Sent']) == datetime:\n",
    "        if row['Date Advisor Assigned'] > row['Date Invite Sent']:\n",
    "            dat_invite_s.loc[id, 'Date Invite Sent'] = 'Date Advisor Assigned is greater'\n",
    "\n",
    "dat_invite_s.drop(axis=0, labels=dat_invite_s[dat_invite_s['Date Invite Sent'].apply(type) == datetime].index, inplace=True)\n",
    "dat_invite_s.drop(axis=1, columns=['Date Advisor Assigned'], inplace=True)"
   ]
  },
  {
   "cell_type": "code",
   "execution_count": null,
   "metadata": {},
   "outputs": [],
   "source": [
    "# Date Summary Sent\n",
    "\n",
    "dat_sum_sent = df_compass[['Request ID', 'Date Readout Done', 'Date Summary Sent']].copy()\n",
    "dat_sum_sent['Date Summary Sent'] = format_date_column(dat_sum_sent['Date Summary Sent']) \n",
    "dat_sum_sent['Date Readout Done'] = format_date_column(dat_sum_sent['Date Readout Done'])\n",
    "dat_sum_sent.drop(axis=0, labels=dat_sum_sent[(dat_sum_sent['Date Readout Done'] == 'Empty date') & (dat_sum_sent['Date Summary Sent'] == 'Empty date')].index, inplace=True)\n",
    "dat_sum_sent.drop(axis=0, labels=dat_sum_sent[(dat_sum_sent['Date Readout Done'] == 'Empty date') & (dat_sum_sent['Date Summary Sent'].apply(type) != str)].index, inplace=True)\n",
    "\n",
    "for id, row in dat_sum_sent.iterrows():\n",
    "    if type(row['Date Summary Sent']) == datetime and type(row['Date Readout Done']) == datetime:\n",
    "        if row['Date Readout Done'] > row['Date Summary Sent']:\n",
    "            dat_sum_sent.loc[id, 'Date Summary Sent'] = 'Date Readout is greater'\n",
    "\n",
    "dat_sum_sent.drop(axis=0, labels=dat_sum_sent[dat_sum_sent['Date Summary Sent'].apply(type) == datetime].index, inplace=True)\n",
    "dat_sum_sent.drop(axis=1, columns=['Date Readout Done'], inplace=True)"
   ]
  },
  {
   "cell_type": "code",
   "execution_count": null,
   "metadata": {},
   "outputs": [],
   "source": [
    "# IB value (in M) // Cover the Uncovered Presented\n",
    "\n",
    "ibvalue_and_cover = df_compass[['Request ID', 'Date Presentation Created', 'IB value (in M)', 'Cover the Uncovered Presented']].copy()\n",
    "ibvalue_and_cover = ibvalue_and_cover[pd.notna(ibvalue_and_cover['Date Presentation Created'])]\n",
    "ibvalue_and_cover = ibvalue_and_cover[(pd.isna(ibvalue_and_cover['IB value (in M)'])) | (pd.isna(ibvalue_and_cover['Cover the Uncovered Presented']))]\n",
    "ibvalue_and_cover.fillna('Empty value', inplace=True)\n",
    "ibvalue_and_cover['Cover the Uncovered Presented'] = ibvalue_and_cover['Cover the Uncovered Presented'].apply(\n",
    "    lambda x: None if x != 'Empty value' else x)\n",
    "ibvalue_and_cover['IB value (in M)'] = ibvalue_and_cover['IB value (in M)'].apply(\n",
    "    lambda x: None if x != 'Empty value' else x)\n",
    "ibvalue_and_cover.drop(axis=1, columns=['Date Presentation Created'], inplace=True)"
   ]
  },
  {
   "cell_type": "code",
   "execution_count": null,
   "metadata": {},
   "outputs": [],
   "source": [
    "# AT Interested (CTU)\n",
    "\n",
    "at_interested = df_compass[['Request ID', 'Readout Delivery Status', 'AT Interested (CTU)']].copy()\n",
    "at_interested = at_interested[(at_interested['Readout Delivery Status'] == 'Complete') &\n",
    "                pd.isnull(at_interested['AT Interested (CTU)'])]\n",
    "at_interested['AT Interested (CTU)'] = 'Empty value'\n",
    "at_interested.drop(axis=1, columns=['Readout Delivery Status'], inplace=True)"
   ]
  },
  {
   "cell_type": "code",
   "execution_count": null,
   "metadata": {},
   "outputs": [],
   "source": [
    "# Uplift to SSPT In Pursue\n",
    "\n",
    "up_sspt = df_compass[['Request ID', 'Date Presentation Created', 'Uplift to SSPT In Pursue']].copy()\n",
    "up_sspt = up_sspt[pd.notna(up_sspt['Date Presentation Created'])]\n",
    "up_sspt = up_sspt[pd.isna(up_sspt['Uplift to SSPT In Pursue'])]\n",
    "up_sspt['Uplift to SSPT In Pursue'] = 'Empty value'\n",
    "up_sspt.drop(axis=1, columns=['Date Presentation Created'], inplace=True)"
   ]
  },
  {
   "cell_type": "code",
   "execution_count": null,
   "metadata": {},
   "outputs": [],
   "source": [
    "# AT Interested (SSPT)\n",
    "\n",
    "at_interested_sspt = df_compass[['Request ID', 'Readout Delivery Status', 'AT Interested (SSPT)']].copy()\n",
    "at_interested_sspt = at_interested_sspt[(at_interested_sspt['Readout Delivery Status'] == 'Complete') &\n",
    "                pd.isnull(at_interested_sspt['AT Interested (SSPT)'])]\n",
    "at_interested_sspt['AT Interested (SSPT)'] = 'Empty value'\n",
    "at_interested_sspt.drop(axis=1, columns=['Readout Delivery Status'], inplace=True)"
   ]
  },
  {
   "cell_type": "code",
   "execution_count": null,
   "metadata": {},
   "outputs": [],
   "source": [
    "# DNA with Success Tracks Level 2 Presented\n",
    "\n",
    "dna_presented = df_compass[['Request ID', 'Date Presentation Created', 'DNA with Success Tracks Level 2 Presented']].copy()\n",
    "dna_presented = dna_presented[pd.notna(dna_presented['Date Presentation Created'])]\n",
    "dna_presented = dna_presented[pd.isna(dna_presented['DNA with Success Tracks Level 2 Presented'])]\n",
    "dna_presented['DNA with Success Tracks Level 2 Presented'] = 'Empty value'\n",
    "dna_presented.drop(axis=1, columns=['Date Presentation Created'], inplace=True)"
   ]
  },
  {
   "cell_type": "code",
   "execution_count": null,
   "metadata": {},
   "outputs": [],
   "source": [
    "# AT Interested (ST)\n",
    "\n",
    "at_interested_st = df_compass[['Request ID', 'Readout Delivery Status', 'AT Interested (ST)']].copy()\n",
    "at_interested_st = at_interested_st[(at_interested_st['Readout Delivery Status'] == 'Complete') &\n",
    "                pd.isnull(at_interested_st['AT Interested (ST)'])]\n",
    "at_interested_st['AT Interested (ST)'] = 'Empty value'\n",
    "at_interested_st.drop(axis=1, columns=['Readout Delivery Status'], inplace=True)"
   ]
  },
  {
   "cell_type": "code",
   "execution_count": null,
   "metadata": {},
   "outputs": [],
   "source": [
    "# SW Support Presented\n",
    "\n",
    "sw_presented = df_compass[['Request ID', 'Date Presentation Created', 'SW Support Presented']].copy()\n",
    "sw_presented = sw_presented[pd.notna(sw_presented['Date Presentation Created'])]\n",
    "sw_presented = sw_presented[pd.isna(sw_presented['SW Support Presented'])]\n",
    "sw_presented['SW Support Presented'] = 'Empty value'\n",
    "sw_presented.drop(axis=1, columns=['Date Presentation Created'], inplace=True)"
   ]
  },
  {
   "cell_type": "code",
   "execution_count": null,
   "metadata": {},
   "outputs": [],
   "source": [
    "# AT Interested (SW)\n",
    "\n",
    "at_interested_sw = df_compass[['Request ID', 'Readout Delivery Status', 'AT Interested (SW)']].copy()\n",
    "at_interested_sw = at_interested_sw[(at_interested_sw['Readout Delivery Status'] == 'Complete') &\n",
    "                pd.isnull(at_interested_sw['AT Interested (SW)'])]\n",
    "at_interested_sw['AT Interested (SW)'] = 'Empty value'\n",
    "at_interested_sw.drop(axis=1, columns=['Readout Delivery Status'], inplace=True)"
   ]
  },
  {
   "cell_type": "code",
   "execution_count": null,
   "metadata": {},
   "outputs": [],
   "source": [
    "# Expert Care Presented\n",
    "\n",
    "exp_presented = df_compass[['Request ID', 'Date Presentation Created', 'Expert Care Presented']].copy()\n",
    "exp_presented = exp_presented[pd.notna(exp_presented['Date Presentation Created'])]\n",
    "exp_presented = exp_presented[pd.isna(exp_presented['Expert Care Presented'])]\n",
    "exp_presented['Expert Care Presented'] = 'Empty value'\n",
    "exp_presented.drop(axis=1, columns=['Date Presentation Created'], inplace=True)"
   ]
  },
  {
   "cell_type": "code",
   "execution_count": null,
   "metadata": {},
   "outputs": [],
   "source": [
    "# AT Interested (EC)\n",
    "\n",
    "at_interested_ec = df_compass[['Request ID', 'Readout Delivery Status', 'AT Interested (EC)']].copy()\n",
    "at_interested_ec = at_interested_ec[(at_interested_ec['Readout Delivery Status'] == 'Complete') &\n",
    "                pd.isnull(at_interested_ec['AT Interested (EC)'])]\n",
    "at_interested_ec['AT Interested (EC)'] = 'Empty value'\n",
    "at_interested_ec.drop(axis=1, columns=['Readout Delivery Status'], inplace=True)"
   ]
  },
  {
   "cell_type": "code",
   "execution_count": null,
   "metadata": {},
   "outputs": [],
   "source": [
    "# BCS 3.0 Presented\n",
    "\n",
    "bcs3_presented = df_compass[['Request ID', 'Date Presentation Created', 'BCS 3.0 Presented']].copy()\n",
    "bcs3_presented = bcs3_presented[pd.notna(bcs3_presented['Date Presentation Created'])]\n",
    "bcs3_presented = bcs3_presented[pd.isna(bcs3_presented['BCS 3.0 Presented'])]\n",
    "bcs3_presented['BCS 3.0 Presented'] = 'Empty value'\n",
    "bcs3_presented.drop(axis=1, columns=['Date Presentation Created'], inplace=True)"
   ]
  },
  {
   "cell_type": "code",
   "execution_count": null,
   "metadata": {},
   "outputs": [],
   "source": [
    "# BCS - IB based\n",
    "\n",
    "bcs_ib_bas = df_compass[['Request ID', 'Date Presentation Created', 'BCS - IB based']].copy()\n",
    "bcs_ib_bas = bcs_ib_bas[pd.notna(bcs_ib_bas['Date Presentation Created'])]\n",
    "bcs_ib_bas = bcs_ib_bas[pd.isna(bcs_ib_bas['BCS - IB based'])]\n",
    "bcs_ib_bas['BCS - IB based'] = 'Empty value'\n",
    "bcs_ib_bas.drop(axis=1, columns=['Date Presentation Created'], inplace=True)"
   ]
  },
  {
   "cell_type": "code",
   "execution_count": null,
   "metadata": {},
   "outputs": [],
   "source": [
    "# AT Interested (BCS)\n",
    "\n",
    "at_interested_bcs = df_compass[['Request ID', 'Readout Delivery Status', 'AT Interested (BCS)']].copy()\n",
    "at_interested_bcs = at_interested_bcs[(at_interested_bcs['Readout Delivery Status'] == 'Complete') &\n",
    "                pd.isnull(at_interested_bcs['AT Interested (BCS)'])]\n",
    "at_interested_bcs['AT Interested (BCS)'] = 'Empty value'\n",
    "at_interested_bcs.drop(axis=1, columns=['Readout Delivery Status'], inplace=True)"
   ]
  },
  {
   "cell_type": "code",
   "execution_count": null,
   "metadata": {},
   "outputs": [],
   "source": [
    "# IRR Presented\n",
    "\n",
    "irr_presented = df_compass[['Request ID', 'Date Presentation Created', 'IRR Presented']].copy()\n",
    "irr_presented = irr_presented[pd.notna(irr_presented['Date Presentation Created'])]\n",
    "irr_presented = irr_presented[pd.isna(irr_presented['IRR Presented'])]\n",
    "irr_presented['IRR Presented'] = 'Empty value'\n",
    "irr_presented.drop(axis=1, columns=['Date Presentation Created'], inplace=True)"
   ]
  },
  {
   "cell_type": "code",
   "execution_count": null,
   "metadata": {},
   "outputs": [],
   "source": [
    "# AT Interested (IRR)\n",
    "\n",
    "at_interested_irr = df_compass[['Request ID', 'Readout Delivery Status', 'AT Interested (IRR)']].copy()\n",
    "at_interested_irr = at_interested_irr[(at_interested_irr['Readout Delivery Status'] == 'Complete') &\n",
    "                pd.isnull(at_interested_irr['AT Interested (IRR)'])]\n",
    "at_interested_irr['AT Interested (IRR)'] = 'Empty value'\n",
    "at_interested_irr.drop(axis=1, columns=['Readout Delivery Status'], inplace=True)"
   ]
  },
  {
   "cell_type": "code",
   "execution_count": null,
   "metadata": {},
   "outputs": [],
   "source": [
    "# PR Presented\n",
    "\n",
    "pr_presented = df_compass[['Request ID', 'Date Presentation Created', 'PR Presented']].copy()\n",
    "pr_presented = pr_presented[pd.notna(pr_presented['Date Presentation Created'])]\n",
    "pr_presented = pr_presented[pd.isna(pr_presented['PR Presented'])]\n",
    "pr_presented['PR Presented'] = 'Empty value'\n",
    "pr_presented.drop(axis=1, columns=['Date Presentation Created'], inplace=True)"
   ]
  },
  {
   "cell_type": "code",
   "execution_count": null,
   "metadata": {},
   "outputs": [],
   "source": [
    "# AT Interested (PR)\n",
    "\n",
    "at_interested_pr = df_compass[['Request ID', 'Readout Delivery Status', 'AT Interested (PR)']].copy()\n",
    "at_interested_pr = at_interested_pr[(at_interested_pr['Readout Delivery Status'] == 'Complete') &\n",
    "                pd.isnull(at_interested_pr['AT Interested (PR)'])]\n",
    "at_interested_pr['AT Interested (PR)'] = 'Empty value'\n",
    "at_interested_pr.drop(axis=1, columns=['Readout Delivery Status'], inplace=True)"
   ]
  },
  {
   "cell_type": "code",
   "execution_count": null,
   "metadata": {},
   "outputs": [],
   "source": [
    "# Closing Date\n",
    "\n",
    "clos_date = df_compass[['Request ID', 'Date Readout Done', 'Closing Date']].copy()\n",
    "clos_date['Closing Date'] = format_date_column(clos_date['Closing Date']) \n",
    "clos_date['Date Readout Done'] = format_date_column(clos_date['Date Readout Done'])\n",
    "clos_date.drop(axis=0, labels=clos_date[(clos_date['Date Readout Done'] == 'Empty date') & (clos_date['Closing Date'] == 'Empty date')].index, inplace=True)\n",
    "clos_date.drop(axis=0, labels=clos_date[(clos_date['Date Readout Done'] == 'Empty date') & (clos_date['Closing Date'].apply(type) != str)].index, inplace=True)\n",
    "\n",
    "for id, row in clos_date.iterrows():\n",
    "    if type(row['Closing Date']) == datetime and type(row['Date Readout Done']) == datetime:\n",
    "        if row['Date Readout Done'] > row['Closing Date']:\n",
    "            clos_date.loc[id, 'Closing Date'] = 'Date Readout is greater'\n",
    "\n",
    "clos_date.drop(axis=0, labels=clos_date[clos_date['Closing Date'].apply(type) == datetime].index, inplace=True)\n",
    "clos_date.drop(axis=1, columns=['Date Readout Done'], inplace=True)"
   ]
  },
  {
   "cell_type": "code",
   "execution_count": null,
   "metadata": {},
   "outputs": [],
   "source": [
    "# Summary Slide Link\n",
    "\n",
    "sum_link = df_compass[['Request ID', 'Date Presentation Created', 'Summary Slide Link']].copy()\n",
    "sum_link = sum_link[pd.notna(sum_link['Date Presentation Created'])]\n",
    "sum_link = sum_link[pd.isna(sum_link['Summary Slide Link'])]\n",
    "sum_link['Summary Slide Link'] = 'Empty value'\n",
    "sum_link.drop(axis=1, columns=['Date Presentation Created'], inplace=True)"
   ]
  },
  {
   "cell_type": "code",
   "execution_count": null,
   "metadata": {},
   "outputs": [],
   "source": [
    "# Account Status // Account Stage\n",
    "\n",
    "account_st = df_compass[['Request ID', 'Readout Delivery Status', 'Account Status', 'Account Stage']].copy()\n",
    "account_st = account_st[~(\n",
    "                        ((account_st['Readout Delivery Status'] == 'Declined') & \n",
    "                        ((account_st['Account Status'] == 'B_AT not interested') | (account_st['Account Status'] == 'B_Unqualified_Wrong AT member')) & \n",
    "                        (account_st['Account Stage'] == 'B_1st Contact'))\n",
    "                        |\n",
    "                        ((account_st['Readout Delivery Status'] == 'Declined') & \n",
    "                        ((account_st['Account Status'] == 'C_Unqualified - Duplicated') | (account_st['Account Status'] == 'C_Unqualified - 25K') | (account_st['Account Status'] == 'C_Unqualified-25K')) & \n",
    "                        (account_st['Account Stage'] == 'C_Analysis'))\n",
    "                        |\n",
    "                        ((account_st['Readout Delivery Status'] == 'Declined') & \n",
    "                        ((account_st['Account Status'] == 'E_Declined - AT not interested') | (account_st['Account Status'] == 'E_Unresponsive')) & \n",
    "                        (account_st['Account Stage'] == 'E_Workshop'))\n",
    "                        |\n",
    "                        ((account_st['Readout Delivery Status'] == 'Complete') & \n",
    "                        (account_st['Account Status'] == 'F_Completed_ Workshop Done') & \n",
    "                        (account_st['Account Stage'] == 'F_Summary'))\n",
    "                        |\n",
    "                        ((account_st['Readout Delivery Status'] == 'Emailed Recommendations') & \n",
    "                        (account_st['Account Status'] == 'F_Completed_Analysis Sent') & \n",
    "                        (account_st['Account Stage'] == 'F_Summary'))\n",
    "                        |\n",
    "                        ((account_st['Readout Delivery Status'] == 'Postponed') & \n",
    "                        (account_st['Account Status'] == 'E_Postponed') & \n",
    "                        (account_st['Account Stage'] == 'E_Workshop'))\n",
    "                        )]\n",
    "\n",
    "account_st.dropna(axis=0, how='all', subset=['Readout Delivery Status', 'Account Status', 'Account Stage'], inplace=True)\n",
    "account_st['Account Status'] = 'Match error between Readout Status, Account Status and Account Stage'\n",
    "account_st['Account Stage'] = 'Match error between Readout Status, Account Status and Account Stage'\n",
    "account_st.drop(axis=1, columns=['Readout Delivery Status'], inplace=True)"
   ]
  },
  {
   "cell_type": "code",
   "execution_count": null,
   "metadata": {},
   "outputs": [],
   "source": [
    "# Declined Reason Lvl2\n",
    "\n",
    "dec_reason_2 = df_compass[['Request ID', 'Readout Delivery Status', 'Declined Reason Lvl2']].copy()\n",
    "dec_reason_2 = dec_reason_2[dec_reason_2['Readout Delivery Status'] == 'Declined']\n",
    "dec_reason_2 = dec_reason_2[pd.isna(dec_reason_2['Declined Reason Lvl2'])]\n",
    "dec_reason_2['Declined Reason Lvl2'] = 'Empty value'\n",
    "dec_reason_2.drop(axis=1, columns=['Readout Delivery Status'], inplace=True)"
   ]
  },
  {
   "cell_type": "code",
   "execution_count": null,
   "metadata": {},
   "outputs": [],
   "source": [
    "# Reason On Hold\n",
    "\n",
    "res_hold = df_compass[['Request ID', '# Days on Hold (Analysis)', '# Days on Hold (Workshop)', 'Reason On Hold']].copy()\n",
    "res_hold = res_hold[(pd.notna(res_hold['# Days on Hold (Analysis)'])) | (pd.notna(res_hold['# Days on Hold (Workshop)']))]\n",
    "res_hold = res_hold[pd.isna(res_hold['Reason On Hold'])]\n",
    "res_hold['Reason On Hold'] = 'Empty value'\n",
    "res_hold.drop(axis=1, columns=['# Days on Hold (Analysis)'], inplace=True)\n",
    "res_hold.drop(axis=1, columns=['# Days on Hold (Workshop)'], inplace=True)"
   ]
  },
  {
   "cell_type": "code",
   "execution_count": null,
   "metadata": {},
   "outputs": [],
   "source": [
    "# Merge\n",
    "\n",
    "final_report = Advisor.merge(dat_rdone, how='outer', left_on='Request ID', right_on='Request ID').merge(\n",
    "    del_status, how='outer', left_on='Request ID', right_on='Request ID').merge(\n",
    "    res_declined, how='outer', left_on='Request ID', right_on='Request ID').merge(\n",
    "    ren_qtr, how='outer', left_on='Request ID', right_on='Request ID').merge(\n",
    "    pre_created, how='outer', left_on='Request ID', right_on='Request ID').merge(\n",
    "    pre_created_tim, how='outer', left_on='Request ID', right_on='Request ID').merge(\n",
    "    re_duration_m, how='outer', left_on='Request ID', right_on='Request ID').merge(\n",
    "    dat_invite_s, how='outer', left_on='Request ID', right_on='Request ID').merge(\n",
    "    dat_sum_sent, how='outer', left_on='Request ID', right_on='Request ID').merge(  \n",
    "    ibvalue_and_cover, how='outer', left_on='Request ID', right_on='Request ID').merge(\n",
    "    at_interested, how='outer', left_on='Request ID', right_on='Request ID').merge(\n",
    "    up_sspt, how='outer', left_on='Request ID', right_on='Request ID').merge(\n",
    "    at_interested_sspt, how='outer', left_on='Request ID', right_on='Request ID').merge(\n",
    "    dna_presented, how='outer', left_on='Request ID', right_on='Request ID').merge(\n",
    "    at_interested_st, how='outer', left_on='Request ID', right_on='Request ID').merge(\n",
    "    sw_presented, how='outer', left_on='Request ID', right_on='Request ID').merge(\n",
    "    at_interested_sw, how='outer', left_on='Request ID', right_on='Request ID').merge(\n",
    "    exp_presented, how='outer', left_on='Request ID', right_on='Request ID').merge(\n",
    "    at_interested_ec, how='outer', left_on='Request ID', right_on='Request ID').merge(\n",
    "    bcs3_presented, how='outer', left_on='Request ID', right_on='Request ID').merge( \n",
    "    bcs_ib_bas, how='outer', left_on='Request ID', right_on='Request ID').merge(\n",
    "    at_interested_bcs, how='outer', left_on='Request ID', right_on='Request ID').merge(\n",
    "    irr_presented, how='outer', left_on='Request ID', right_on='Request ID').merge(\n",
    "    at_interested_irr, how='outer', left_on='Request ID', right_on='Request ID').merge(\n",
    "    pr_presented, how='outer', left_on='Request ID', right_on='Request ID').merge(\n",
    "    at_interested_pr, how='outer', left_on='Request ID', right_on='Request ID').merge(\n",
    "    clos_date, how='outer', left_on='Request ID', right_on='Request ID').merge(\n",
    "    sum_link, how='outer', left_on='Request ID', right_on='Request ID').merge(\n",
    "    dec_reason_2, how='outer', left_on='Request ID', right_on='Request ID').merge(\n",
    "    res_hold, how='outer', left_on='Request ID', right_on='Request ID').merge(\n",
    "    account_st, how='outer', left_on='Request ID', right_on='Request ID')"
   ]
  },
  {
   "cell_type": "code",
   "execution_count": null,
   "metadata": {},
   "outputs": [],
   "source": [
    "# Names of Compass team\n",
    "\n",
    "compass_names = df_compass[['Request ID','Advisor Name']]\n",
    "final_report = compass_names.merge(final_report, how='right', left_on='Request ID', right_on='Request ID')"
   ]
  },
  {
   "cell_type": "code",
   "execution_count": null,
   "metadata": {},
   "outputs": [],
   "source": [
    "final_report"
   ]
  },
  {
   "cell_type": "markdown",
   "metadata": {},
   "source": [
    "# Send Mails"
   ]
  },
  {
   "cell_type": "code",
   "execution_count": null,
   "metadata": {},
   "outputs": [],
   "source": [
    "# Email list\n",
    "\n",
    "error_names = final_report['Advisor Name_x'].to_frame().drop_duplicates().dropna()\n",
    "send_names = error_names.merge(compass_mails, how='left', left_on='Advisor Name_x', right_on='Advisor Name')\n",
    "send_names"
   ]
  },
  {
   "cell_type": "code",
   "execution_count": null,
   "metadata": {},
   "outputs": [],
   "source": [
    "#outlook server connection\n",
    "outlServer = smtplib.SMTP(host='smtp-mail.outlook.com', port=587)\n",
    "\n",
    "#Initialize encryption\n",
    "outlServer.starttls()\n",
    "\n",
    "#Login in the outlook account using the define variables username and password\n",
    "outlServer.login(myMail, password)"
   ]
  },
  {
   "cell_type": "code",
   "execution_count": null,
   "metadata": {},
   "outputs": [],
   "source": [
    "#Definition of the function to send emails\n",
    "def send_msg(To, From, Subject, Message, s_attach):\n",
    "    msg = MIMEMultipart()\n",
    "    msg['From'] = From\n",
    "    msg['To'] = To\n",
    "    msg['Subject'] = Subject\n",
    "    msg_content = MIMEText(Message, 'html', 'utf-8')\n",
    "    msg.attach(msg_content)\n",
    "       \n",
    "    if s_attach == True:\n",
    "        with open('compass_error_report_%s.xlsx' % today, 'rb') as e:\n",
    "            exc = MIMEBase('application', 'octet-stream', filename='compass_error_report_%s.xlsx' % today)\n",
    "            exc.add_header('content-Disposition', 'attachment', filename='compass_error_report_%s.xlsx' % today)\n",
    "            exc.set_payload(e.read())\n",
    "            encoders.encode_base64(exc)\n",
    "            msg.attach(exc)\n",
    "    \n",
    "    outlServer.sendmail(From, To, msg.as_string())"
   ]
  },
  {
   "cell_type": "code",
   "execution_count": null,
   "metadata": {},
   "outputs": [],
   "source": [
    "for i, colm in send_names.iterrows():\n",
    "    if pd.isnull(colm['Mail']) == False:\n",
    "        df_sent = final_report[final_report['Advisor Name_x'] == colm['Advisor Name']]\n",
    "        df_sent.to_excel('compass_error_report_%s.xlsx' % today, index=False)\n",
    "        format_report.format_excel()\n",
    "        if df_sent.shape[0] > 0:\n",
    "            send_msg(colm['Mail'], myMail, subjectEmail , msg1 % colm['Advisor Name'], True)\n",
    "            print(colm['Mail'])\n",
    "        else:\n",
    "            print('Not send to: '+colm['Email'])"
   ]
  },
  {
   "cell_type": "code",
   "execution_count": null,
   "metadata": {},
   "outputs": [],
   "source": [
    "final_report.to_excel('compass_error_report_%s.xlsx' % today, index=False)\n",
    "format_report.format_excel()"
   ]
  },
  {
   "cell_type": "code",
   "execution_count": null,
   "metadata": {},
   "outputs": [],
   "source": [
    "send_msg('maria.rojas@nub78.com', myMail, subjectEmail , msg1 % 'Maria Paula', True)\n",
    "send_msg('jonnathan.neira@nub78.com', myMail, subjectEmail , msg1 % 'Jonathan Neira', True)"
   ]
  },
  {
   "cell_type": "code",
   "execution_count": null,
   "metadata": {},
   "outputs": [],
   "source": [
    "outlServer.quit()"
   ]
  }
 ],
 "metadata": {
  "interpreter": {
   "hash": "59a5cf5afc9bb8dd5c0b7c811dd61d424d750a3d732b2b54623aa1d472071de7"
  },
  "kernelspec": {
   "display_name": "Python 3.9.7 ('base')",
   "language": "python",
   "name": "python3"
  },
  "language_info": {
   "codemirror_mode": {
    "name": "ipython",
    "version": 3
   },
   "file_extension": ".py",
   "mimetype": "text/x-python",
   "name": "python",
   "nbconvert_exporter": "python",
   "pygments_lexer": "ipython3",
   "version": "3.10.2"
  },
  "orig_nbformat": 4
 },
 "nbformat": 4,
 "nbformat_minor": 2
}
